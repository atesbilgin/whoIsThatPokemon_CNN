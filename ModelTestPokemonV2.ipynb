{
  "nbformat": 4,
  "nbformat_minor": 0,
  "metadata": {
    "colab": {
      "name": "ModelTestPokemonV2",
      "provenance": [],
      "authorship_tag": "ABX9TyNuwhM9X/pkrYtLkXAHN8fr",
      "include_colab_link": true
    },
    "kernelspec": {
      "name": "python3",
      "display_name": "Python 3"
    },
    "accelerator": "GPU"
  },
  "cells": [
    {
      "cell_type": "markdown",
      "metadata": {
        "id": "view-in-github",
        "colab_type": "text"
      },
      "source": [
        "<a href=\"https://colab.research.google.com/github/berkaykarlik/whoIsThatPokemon_CNN/blob/master/ModelTestPokemonV2.ipynb\" target=\"_parent\"><img src=\"https://colab.research.google.com/assets/colab-badge.svg\" alt=\"Open In Colab\"/></a>"
      ]
    },
    {
      "cell_type": "markdown",
      "metadata": {
        "id": "7m5E-nDYJJBQ",
        "colab_type": "text"
      },
      "source": [
        "Login Kaggle"
      ]
    },
    {
      "cell_type": "code",
      "metadata": {
        "id": "UbQbpGzoH0Pz",
        "colab_type": "code",
        "colab": {
          "resources": {
            "http://localhost:8080/nbextensions/google.colab/files.js": {
              "data": "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",
              "ok": true,
              "headers": [
                [
                  "content-type",
                  "application/javascript"
                ]
              ],
              "status": 200,
              "status_text": ""
            }
          },
          "base_uri": "https://localhost:8080/",
          "height": 74
        },
        "outputId": "03c8e902-2095-4feb-d4c4-d261925b69b8"
      },
      "source": [
        "from google.colab import files\n",
        "uploaded = files.upload()\n",
        "!mkdir ~/.kaggle\n",
        "!cp /content/kaggle.json ~/.kaggle/kaggle.json"
      ],
      "execution_count": 1,
      "outputs": [
        {
          "output_type": "display_data",
          "data": {
            "text/html": [
              "\n",
              "     <input type=\"file\" id=\"files-7aa889a1-00e9-4776-af8d-0f973ac0e206\" name=\"files[]\" multiple disabled />\n",
              "     <output id=\"result-7aa889a1-00e9-4776-af8d-0f973ac0e206\">\n",
              "      Upload widget is only available when the cell has been executed in the\n",
              "      current browser session. Please rerun this cell to enable.\n",
              "      </output>\n",
              "      <script src=\"/nbextensions/google.colab/files.js\"></script> "
            ],
            "text/plain": [
              "<IPython.core.display.HTML object>"
            ]
          },
          "metadata": {
            "tags": []
          }
        },
        {
          "output_type": "stream",
          "text": [
            "Saving kaggle.json to kaggle.json\n"
          ],
          "name": "stdout"
        }
      ]
    },
    {
      "cell_type": "markdown",
      "metadata": {
        "id": "UiA1d69SJNpr",
        "colab_type": "text"
      },
      "source": [
        "Download dataset"
      ]
    },
    {
      "cell_type": "code",
      "metadata": {
        "id": "fDEMLRttIOnW",
        "colab_type": "code",
        "colab": {}
      },
      "source": [
        "!kaggle datasets download -d lantian773030/pokemonclassification\n",
        "!unzip pokemonclassification.zip"
      ],
      "execution_count": 0,
      "outputs": []
    },
    {
      "cell_type": "markdown",
      "metadata": {
        "id": "tHvgcvGmJO2u",
        "colab_type": "text"
      },
      "source": [
        "Libraries from Onur"
      ]
    },
    {
      "cell_type": "code",
      "metadata": {
        "id": "C6_xlWAcIWw2",
        "colab_type": "code",
        "colab": {}
      },
      "source": [
        "import numpy as np\n",
        "import matplotlib.pyplot as plt\n",
        "import os\n",
        "from keras import models\n",
        "from keras import layers\n",
        "from keras import losses\n",
        "from keras import regularizers\n",
        "from keras import optimizers\n",
        "from keras.optimizers import SGD\n",
        "from keras.applications.vgg16 import VGG16\n",
        "from keras.preprocessing.image import ImageDataGenerator\n",
        "from shutil import copy\n",
        "from shutil import rmtree"
      ],
      "execution_count": 0,
      "outputs": []
    },
    {
      "cell_type": "markdown",
      "metadata": {
        "id": "CQO2IfTDJQny",
        "colab_type": "text"
      },
      "source": [
        "Libraries from Ates"
      ]
    },
    {
      "cell_type": "code",
      "metadata": {
        "id": "jXFLQoVqJTRI",
        "colab_type": "code",
        "colab": {}
      },
      "source": [
        "import numpy as np\n",
        "import matplotlib.pyplot as plt\n",
        "import os\n",
        "import cv2\n",
        "import random\n",
        "from tqdm import tqdm"
      ],
      "execution_count": 0,
      "outputs": []
    },
    {
      "cell_type": "markdown",
      "metadata": {
        "id": "iVRfB6cOJZGf",
        "colab_type": "text"
      },
      "source": [
        "Prepare path from Onur"
      ]
    },
    {
      "cell_type": "code",
      "metadata": {
        "id": "BuwP014HJebW",
        "colab_type": "code",
        "colab": {}
      },
      "source": [
        "path = 'PokemonData'\n",
        "if os.path.exists('train'):\n",
        "    rmtree('train')\n",
        "if os.path.exists('validate'):\n",
        "    rmtree('validate')\n",
        "if os.path.exists('test'):\n",
        "    rmtree('test')\n",
        "\n",
        "os.mkdir('train')\n",
        "os.mkdir('validate')\n",
        "os.mkdir('test')"
      ],
      "execution_count": 0,
      "outputs": []
    },
    {
      "cell_type": "markdown",
      "metadata": {
        "id": "WSMXc24dJfES",
        "colab_type": "text"
      },
      "source": [
        "Split data from Onur"
      ]
    },
    {
      "cell_type": "code",
      "metadata": {
        "id": "ccWRBULoJ03d",
        "colab_type": "code",
        "colab": {}
      },
      "source": [
        "image_count = 0\n",
        "class_count = 0\n",
        "classes = []\n",
        "for i in os.listdir(path):\n",
        "    classes.append(i)\n",
        "    class_path = os.path.join(path, i)\n",
        "    if not os.path.exists(os.path.join('train', i)):\n",
        "        os.mkdir(os.path.join('train', i))\n",
        "    if not os.path.exists(os.path.join('validate', i)):\n",
        "        os.mkdir(os.path.join('validate', i))\n",
        "    if not os.path.exists(os.path.join('test', i)):\n",
        "        os.mkdir(os.path.join('test', i))\n",
        "    image_paths = []\n",
        "    for j in os.listdir(class_path):\n",
        "        image_paths.append(os.path.join(class_path, j))\n",
        "        image_count += 1\n",
        "    np.random.shuffle(image_paths)\n",
        "    training_path = image_paths[:int(len(image_paths) * .80)]\n",
        "    test_path = image_paths[int(len(image_paths) * .80):]\n",
        "    valid_path = training_path[int(len(training_path) * .80):]\n",
        "    training_path = training_path[:int(len(training_path) * .80)]\n",
        "    for j in training_path:\n",
        "        copy(j, os.path.join('train', i))\n",
        "    for j in valid_path:\n",
        "        copy(j, os.path.join('validate', i))\n",
        "    for j in test_path:\n",
        "        copy(j, os.path.join('test', i))\n",
        "    class_count += 1\n",
        "print(image_count)\n",
        "print(class_count)"
      ],
      "execution_count": 0,
      "outputs": []
    },
    {
      "cell_type": "markdown",
      "metadata": {
        "id": "HNnAdikRJ1d-",
        "colab_type": "text"
      },
      "source": [
        "Generate batches from Onur"
      ]
    },
    {
      "cell_type": "code",
      "metadata": {
        "id": "oTrXz6O4J4cD",
        "colab_type": "code",
        "colab": {}
      },
      "source": [
        "data_generator = ImageDataGenerator(rescale=1./255)\n",
        "train_data = data_generator.flow_from_directory(directory='train', target_size=(224,224), classes = classes, shuffle = True)\n",
        "\n",
        "validate_data_generator = ImageDataGenerator()\n",
        "validate_data = data_generator.flow_from_directory(directory='validate', target_size=(224,224), classes = classes, shuffle = True)\n",
        "\n",
        "test_data_generator = ImageDataGenerator()\n",
        "test_data = data_generator.flow_from_directory(directory='test', target_size=(224,224), classes = classes, shuffle = True)"
      ],
      "execution_count": 0,
      "outputs": []
    },
    {
      "cell_type": "markdown",
      "metadata": {
        "id": "67zNmWKDJ6by",
        "colab_type": "text"
      },
      "source": [
        "Get Images from Ates"
      ]
    },
    {
      "cell_type": "code",
      "metadata": {
        "id": "1voYQQZ7KIPU",
        "colab_type": "code",
        "colab": {}
      },
      "source": [
        "path='/content/PokemonData'\n",
        "\n",
        "classes = []\n",
        "data = []\n",
        "SIZE = 100\n",
        "\n",
        "\n",
        "def get_data():\n",
        "  cnt = 0\n",
        "  class_no = 0\n",
        "  for dir in tqdm(os.listdir(path)):\n",
        "    classes.append(dir)\n",
        "    dir_path = os.path.join(path,dir)\n",
        "    for img in tqdm(os.listdir(dir_path)):\n",
        "      try:\n",
        "        img_array = cv2.imread(os.path.join(dir_path,img))\n",
        "        resized_array = cv2.resize(img_array,(SIZE,SIZE))\n",
        "        data.append([resized_array,class_no])\n",
        "      except:\n",
        "        pass\n",
        "    class_no += 1\n",
        "get_data()"
      ],
      "execution_count": 0,
      "outputs": []
    },
    {
      "cell_type": "markdown",
      "metadata": {
        "id": "GoCu8N_NKNHO",
        "colab_type": "text"
      },
      "source": [
        "Seperate Features and Labels from Ates"
      ]
    },
    {
      "cell_type": "code",
      "metadata": {
        "id": "ZYhqXt3-KQ4e",
        "colab_type": "code",
        "colab": {}
      },
      "source": [
        "x = []\n",
        "y = []\n",
        "for features,label in data:\n",
        "    x.append(features)\n",
        "    y.append(label)\n",
        "\n",
        "x = np.array(x).reshape(-1, SIZE, SIZE, 3)\n",
        "y = np.array(y)"
      ],
      "execution_count": 0,
      "outputs": []
    },
    {
      "cell_type": "markdown",
      "metadata": {
        "id": "jY1-suPjKTgA",
        "colab_type": "text"
      },
      "source": [
        "Split Data from Ates"
      ]
    },
    {
      "cell_type": "code",
      "metadata": {
        "id": "Yxhl2m9PKUlI",
        "colab_type": "code",
        "colab": {
          "base_uri": "https://localhost:8080/",
          "height": 34
        },
        "outputId": "251fa997-267e-4f53-f1d1-163405a98959"
      },
      "source": [
        "test_images = []\n",
        "test_labels = []\n",
        "train_images = []\n",
        "train_labels = []\n",
        "\n",
        "\n",
        "testCnt = 0\n",
        "for i in range(1,len(y)):\n",
        "    if y[i] == y[i-1]:\n",
        "        if testCnt < 5:\n",
        "            test_images.append(x[i-1])\n",
        "            test_labels.append(y[i-1])\n",
        "        else:\n",
        "            train_images.append(x[i-1])\n",
        "            train_labels.append(y[i-1])\n",
        "        testCnt = testCnt + 1\n",
        "    else:\n",
        "        testCnt = 0\n",
        "    \n",
        "test_images = np.array(test_images).reshape(-1, SIZE, SIZE, 3)\n",
        "train_images = np.array(train_images).reshape(-1, SIZE, SIZE, 3)\n",
        "test_labels = np.array(test_labels)\n",
        "train_labels = np.array(train_labels)\n",
        "\n",
        "\n",
        "print(train_images.shape,test_images.shape)"
      ],
      "execution_count": 6,
      "outputs": [
        {
          "output_type": "stream",
          "text": [
            "(5925, 100, 100, 3) (750, 100, 100, 3)\n"
          ],
          "name": "stdout"
        }
      ]
    },
    {
      "cell_type": "markdown",
      "metadata": {
        "id": "Dr5v4MN6KluP",
        "colab_type": "text"
      },
      "source": [
        "TF libraries from Ates"
      ]
    },
    {
      "cell_type": "code",
      "metadata": {
        "id": "zX3KAEi4KpHv",
        "colab_type": "code",
        "colab": {
          "base_uri": "https://localhost:8080/",
          "height": 34
        },
        "outputId": "1f6a0dd8-a8ea-4c4c-8c96-c22a0d02224a"
      },
      "source": [
        "import tensorflow as tf\n",
        "from tensorflow.keras.models import Sequential\n",
        "from tensorflow.keras.layers import Dense, Conv2D, Flatten, Dropout, MaxPooling2D\n",
        "from tensorflow.keras.preprocessing.image import ImageDataGenerator\n",
        "from tensorflow.keras.callbacks import EarlyStopping\n",
        "from keras import regularizers\n",
        "from sklearn.model_selection import train_test_split"
      ],
      "execution_count": 7,
      "outputs": [
        {
          "output_type": "stream",
          "text": [
            "Using TensorFlow backend.\n"
          ],
          "name": "stderr"
        }
      ]
    },
    {
      "cell_type": "markdown",
      "metadata": {
        "id": "AnZAtIOZKqu_",
        "colab_type": "text"
      },
      "source": [
        "Model Settings from Ates"
      ]
    },
    {
      "cell_type": "code",
      "metadata": {
        "id": "7SMDsxhoK5VB",
        "colab_type": "code",
        "colab": {}
      },
      "source": [
        "train_images, test_images = train_images / 255.0, test_images / 255.0\n",
        "callback = tf.keras.callbacks.EarlyStopping(monitor='loss', patience=3)"
      ],
      "execution_count": 0,
      "outputs": []
    },
    {
      "cell_type": "markdown",
      "metadata": {
        "id": "aEzEpgEYK96z",
        "colab_type": "text"
      },
      "source": [
        "Model from Ates"
      ]
    },
    {
      "cell_type": "code",
      "metadata": {
        "id": "nGS0UuftK_Kv",
        "colab_type": "code",
        "colab": {
          "base_uri": "https://localhost:8080/",
          "height": 476
        },
        "outputId": "27cc915f-786b-423f-e73c-c26a0735042a"
      },
      "source": [
        "model = Sequential([\n",
        "    Conv2D(32, 3, padding='same', activation='relu', input_shape=(SIZE, SIZE ,3)),\n",
        "    Conv2D(64, 3, padding='same', activation='relu',input_shape=(SIZE, SIZE ,3)),\n",
        "    MaxPooling2D(pool_size=(5, 5),strides=(3, 3), padding='valid'),\n",
        "    Conv2D(64, 3, padding='same', activation='relu'),\n",
        "    MaxPooling2D(pool_size=(5, 5),strides=(3, 3), padding='valid'),\n",
        "    Flatten(),\n",
        "    Dense(512, activation='relu'),\n",
        "    Dropout(0.4),\n",
        "    Dense(150,activity_regularizer=tf.keras.regularizers.l2(0.01))\n",
        "])\n",
        "print(model.summary())"
      ],
      "execution_count": 18,
      "outputs": [
        {
          "output_type": "stream",
          "text": [
            "Model: \"sequential_5\"\n",
            "_________________________________________________________________\n",
            "Layer (type)                 Output Shape              Param #   \n",
            "=================================================================\n",
            "conv2d_30 (Conv2D)           (None, 100, 100, 32)      896       \n",
            "_________________________________________________________________\n",
            "conv2d_31 (Conv2D)           (None, 100, 100, 64)      18496     \n",
            "_________________________________________________________________\n",
            "max_pooling2d_15 (MaxPooling (None, 32, 32, 64)        0         \n",
            "_________________________________________________________________\n",
            "conv2d_32 (Conv2D)           (None, 32, 32, 64)        36928     \n",
            "_________________________________________________________________\n",
            "max_pooling2d_16 (MaxPooling (None, 10, 10, 64)        0         \n",
            "_________________________________________________________________\n",
            "flatten_5 (Flatten)          (None, 6400)              0         \n",
            "_________________________________________________________________\n",
            "dense_5 (Dense)              (None, 512)               3277312   \n",
            "_________________________________________________________________\n",
            "dropout (Dropout)            (None, 512)               0         \n",
            "_________________________________________________________________\n",
            "dense_6 (Dense)              (None, 150)               76950     \n",
            "=================================================================\n",
            "Total params: 3,410,582\n",
            "Trainable params: 3,410,582\n",
            "Non-trainable params: 0\n",
            "_________________________________________________________________\n",
            "None\n"
          ],
          "name": "stdout"
        }
      ]
    },
    {
      "cell_type": "markdown",
      "metadata": {
        "id": "0j-wln6zLBfE",
        "colab_type": "text"
      },
      "source": [
        "Model from Onur"
      ]
    },
    {
      "cell_type": "code",
      "metadata": {
        "id": "LWabBE2bLCsK",
        "colab_type": "code",
        "colab": {
          "base_uri": "https://localhost:8080/",
          "height": 612
        },
        "outputId": "6c7452f6-be32-4f39-ccaa-8f3fb685a63e"
      },
      "source": [
        "model = Sequential([\n",
        "                                 Conv2D(32, kernel_size=(3,3), activation='relu', padding='same', input_shape = (SIZE, SIZE, 3)),\n",
        "                                 Conv2D(32, kernel_size=(3,3), activation='relu', padding='same'),\n",
        "                                 MaxPooling2D(pool_size=(2,2), strides=2, padding='valid'),\n",
        "                                 Conv2D(64, kernel_size=(5,5), activation='relu', padding='same'),\n",
        "                                 Conv2D(64, kernel_size=(5,5), activation='relu', padding='same'),\n",
        "                                 MaxPooling2D(pool_size=(2,2), strides=2, padding='valid'),\n",
        "                                 Conv2D(128, kernel_size=(7,7), activation='relu', padding='same'),\n",
        "                                 Conv2D(128, kernel_size=(7,7), activation='relu', padding='same'),\n",
        "                                 MaxPooling2D(pool_size=(4,4), strides=2, padding='valid'),\n",
        "                                 Flatten(),\n",
        "                                 Dense(512, activation='relu'),\n",
        "                                 Dropout(0.4),\n",
        "                                 Dense(150)\n",
        "])\n",
        "print(model.summary())"
      ],
      "execution_count": 9,
      "outputs": [
        {
          "output_type": "stream",
          "text": [
            "Model: \"sequential\"\n",
            "_________________________________________________________________\n",
            "Layer (type)                 Output Shape              Param #   \n",
            "=================================================================\n",
            "conv2d (Conv2D)              (None, 100, 100, 32)      896       \n",
            "_________________________________________________________________\n",
            "conv2d_1 (Conv2D)            (None, 100, 100, 32)      9248      \n",
            "_________________________________________________________________\n",
            "max_pooling2d (MaxPooling2D) (None, 50, 50, 32)        0         \n",
            "_________________________________________________________________\n",
            "conv2d_2 (Conv2D)            (None, 50, 50, 64)        51264     \n",
            "_________________________________________________________________\n",
            "conv2d_3 (Conv2D)            (None, 50, 50, 64)        102464    \n",
            "_________________________________________________________________\n",
            "max_pooling2d_1 (MaxPooling2 (None, 25, 25, 64)        0         \n",
            "_________________________________________________________________\n",
            "conv2d_4 (Conv2D)            (None, 25, 25, 128)       401536    \n",
            "_________________________________________________________________\n",
            "conv2d_5 (Conv2D)            (None, 25, 25, 128)       802944    \n",
            "_________________________________________________________________\n",
            "max_pooling2d_2 (MaxPooling2 (None, 11, 11, 128)       0         \n",
            "_________________________________________________________________\n",
            "flatten (Flatten)            (None, 15488)             0         \n",
            "_________________________________________________________________\n",
            "dense (Dense)                (None, 512)               7930368   \n",
            "_________________________________________________________________\n",
            "dropout (Dropout)            (None, 512)               0         \n",
            "_________________________________________________________________\n",
            "dense_1 (Dense)              (None, 150)               76950     \n",
            "=================================================================\n",
            "Total params: 9,375,670\n",
            "Trainable params: 9,375,670\n",
            "Non-trainable params: 0\n",
            "_________________________________________________________________\n",
            "None\n"
          ],
          "name": "stdout"
        }
      ]
    },
    {
      "cell_type": "markdown",
      "metadata": {
        "id": "lWcuVB_HLEoe",
        "colab_type": "text"
      },
      "source": [
        "Compile and Fit"
      ]
    },
    {
      "cell_type": "code",
      "metadata": {
        "id": "cLAM_qSoLG_W",
        "colab_type": "code",
        "colab": {
          "base_uri": "https://localhost:8080/",
          "height": 969
        },
        "outputId": "7fb097f8-6f84-46f3-c5c9-836d2d893ec1"
      },
      "source": [
        "model.compile(optimizer='rmsprop',\n",
        "              loss=tf.keras.losses.SparseCategoricalCrossentropy(from_logits=True),\n",
        "              metrics=['accuracy'] )\n",
        "x_train, x_valid, y_train, y_valid = train_test_split(train_images, train_labels, test_size=0.33, shuffle= True)\n",
        "history = model.fit(x_train, y_train, epochs=150, validation_data=(x_valid, y_valid), callbacks=[callback], shuffle=True)"
      ],
      "execution_count": 10,
      "outputs": [
        {
          "output_type": "stream",
          "text": [
            "Epoch 1/150\n",
            "125/125 [==============================] - 12s 94ms/step - loss: 6.0171 - accuracy: 0.0088 - val_loss: 4.9190 - val_accuracy: 0.0174\n",
            "Epoch 2/150\n",
            "125/125 [==============================] - 11s 89ms/step - loss: 4.7823 - accuracy: 0.0227 - val_loss: 4.6121 - val_accuracy: 0.0373\n",
            "Epoch 3/150\n",
            "125/125 [==============================] - 11s 90ms/step - loss: 4.2578 - accuracy: 0.0723 - val_loss: 6.0310 - val_accuracy: 0.0373\n",
            "Epoch 4/150\n",
            "125/125 [==============================] - 11s 90ms/step - loss: 3.6596 - accuracy: 0.1620 - val_loss: 4.9674 - val_accuracy: 0.0772\n",
            "Epoch 5/150\n",
            "125/125 [==============================] - 11s 90ms/step - loss: 3.0581 - accuracy: 0.2688 - val_loss: 6.4591 - val_accuracy: 0.0905\n",
            "Epoch 6/150\n",
            "125/125 [==============================] - 11s 91ms/step - loss: 2.4965 - accuracy: 0.3893 - val_loss: 2.8709 - val_accuracy: 0.3655\n",
            "Epoch 7/150\n",
            "125/125 [==============================] - 11s 91ms/step - loss: 1.9944 - accuracy: 0.4969 - val_loss: 4.7797 - val_accuracy: 0.1948\n",
            "Epoch 8/150\n",
            "125/125 [==============================] - 11s 91ms/step - loss: 1.5721 - accuracy: 0.6012 - val_loss: 3.3601 - val_accuracy: 0.3671\n",
            "Epoch 9/150\n",
            "125/125 [==============================] - 11s 90ms/step - loss: 1.1800 - accuracy: 0.6755 - val_loss: 2.5621 - val_accuracy: 0.4831\n",
            "Epoch 10/150\n",
            "125/125 [==============================] - 11s 90ms/step - loss: 0.9363 - accuracy: 0.7483 - val_loss: 3.4762 - val_accuracy: 0.4187\n",
            "Epoch 11/150\n",
            "125/125 [==============================] - 11s 91ms/step - loss: 0.7557 - accuracy: 0.7931 - val_loss: 2.9260 - val_accuracy: 0.4760\n",
            "Epoch 12/150\n",
            "125/125 [==============================] - 11s 90ms/step - loss: 0.6002 - accuracy: 0.8340 - val_loss: 3.8082 - val_accuracy: 0.4340\n",
            "Epoch 13/150\n",
            "125/125 [==============================] - 11s 90ms/step - loss: 0.5012 - accuracy: 0.8604 - val_loss: 3.8110 - val_accuracy: 0.4836\n",
            "Epoch 14/150\n",
            "125/125 [==============================] - 11s 91ms/step - loss: 0.4260 - accuracy: 0.8793 - val_loss: 3.6095 - val_accuracy: 0.4990\n",
            "Epoch 15/150\n",
            "125/125 [==============================] - 11s 91ms/step - loss: 0.3875 - accuracy: 0.8937 - val_loss: 4.1555 - val_accuracy: 0.5010\n",
            "Epoch 16/150\n",
            "125/125 [==============================] - 11s 91ms/step - loss: 0.3698 - accuracy: 0.8985 - val_loss: 4.3448 - val_accuracy: 0.4980\n",
            "Epoch 17/150\n",
            "125/125 [==============================] - 11s 90ms/step - loss: 0.3175 - accuracy: 0.9156 - val_loss: 4.5273 - val_accuracy: 0.5026\n",
            "Epoch 18/150\n",
            "125/125 [==============================] - 11s 91ms/step - loss: 0.2764 - accuracy: 0.9262 - val_loss: 4.7653 - val_accuracy: 0.5015\n",
            "Epoch 19/150\n",
            "125/125 [==============================] - 11s 90ms/step - loss: 0.2553 - accuracy: 0.9345 - val_loss: 4.8575 - val_accuracy: 0.4964\n",
            "Epoch 20/150\n",
            "125/125 [==============================] - 11s 90ms/step - loss: 0.2381 - accuracy: 0.9337 - val_loss: 4.3537 - val_accuracy: 0.5153\n",
            "Epoch 21/150\n",
            "125/125 [==============================] - 11s 90ms/step - loss: 0.2294 - accuracy: 0.9421 - val_loss: 4.1273 - val_accuracy: 0.5174\n",
            "Epoch 22/150\n",
            "125/125 [==============================] - 11s 90ms/step - loss: 0.1980 - accuracy: 0.9433 - val_loss: 5.0273 - val_accuracy: 0.5041\n",
            "Epoch 23/150\n",
            "125/125 [==============================] - 11s 90ms/step - loss: 0.2232 - accuracy: 0.9456 - val_loss: 5.1793 - val_accuracy: 0.5194\n",
            "Epoch 24/150\n",
            "125/125 [==============================] - 11s 91ms/step - loss: 0.2084 - accuracy: 0.9494 - val_loss: 4.0604 - val_accuracy: 0.5230\n",
            "Epoch 25/150\n",
            "125/125 [==============================] - 11s 92ms/step - loss: 0.1779 - accuracy: 0.9526 - val_loss: 5.7432 - val_accuracy: 0.5102\n",
            "Epoch 26/150\n",
            "125/125 [==============================] - 11s 92ms/step - loss: 0.2037 - accuracy: 0.9499 - val_loss: 4.9045 - val_accuracy: 0.5164\n",
            "Epoch 27/150\n",
            "125/125 [==============================] - 11s 90ms/step - loss: 0.1896 - accuracy: 0.9549 - val_loss: 5.0472 - val_accuracy: 0.5123\n",
            "Epoch 28/150\n",
            "125/125 [==============================] - 11s 90ms/step - loss: 0.2026 - accuracy: 0.9521 - val_loss: 5.2719 - val_accuracy: 0.5097\n"
          ],
          "name": "stdout"
        }
      ]
    },
    {
      "cell_type": "markdown",
      "metadata": {
        "id": "OH3ZtTEgZeo_",
        "colab_type": "text"
      },
      "source": [
        "Evaluation on Test Set"
      ]
    },
    {
      "cell_type": "code",
      "metadata": {
        "id": "Mvkhj1ZxZvuH",
        "colab_type": "code",
        "colab": {
          "base_uri": "https://localhost:8080/",
          "height": 51
        },
        "outputId": "00fd5d26-dd79-4fd2-d599-1142a75ffba1"
      },
      "source": [
        "loss, accuracy = model.evaluate(test_images, test_labels)\n",
        "\n",
        "print(\"Test Loss:%.4f, Accuracy: %.4f\" %(loss,accuracy))"
      ],
      "execution_count": 12,
      "outputs": [
        {
          "output_type": "stream",
          "text": [
            "24/24 [==============================] - 1s 37ms/step - loss: 6.0980 - accuracy: 0.4400\n",
            "Test Loss:6.0980, Accuracy: 0.4400\n"
          ],
          "name": "stdout"
        }
      ]
    },
    {
      "cell_type": "markdown",
      "metadata": {
        "id": "JxGIakJEacMT",
        "colab_type": "text"
      },
      "source": [
        "Plot for Statistics"
      ]
    },
    {
      "cell_type": "code",
      "metadata": {
        "id": "Cux-SW4uad4u",
        "colab_type": "code",
        "colab": {
          "base_uri": "https://localhost:8080/",
          "height": 281
        },
        "outputId": "78bfd473-5447-4192-f479-79ab8f2646e6"
      },
      "source": [
        "plt.subplot(211)\n",
        "plt.title('Loss')\n",
        "plt.plot(history.history['loss'], label='train')\n",
        "plt.plot(history.history['val_loss'], label='test')\n",
        "plt.legend()\n",
        "\n",
        "plt.subplot(212)\n",
        "plt.title('Accuracy')\n",
        "plt.plot(history.history['accuracy'], label='train')\n",
        "plt.plot(history.history['val_accuracy'], label='test')\n",
        "plt.legend()\n",
        "plt.show()"
      ],
      "execution_count": 13,
      "outputs": [
        {
          "output_type": "display_data",
          "data": {
            "image/png": "[encoded data removed]",
            "text/plain": [
              "<Figure size 432x288 with 2 Axes>"
            ]
          },
          "metadata": {
            "tags": [],
            "needs_background": "light"
          }
        }
      ]
    }
  ]
}