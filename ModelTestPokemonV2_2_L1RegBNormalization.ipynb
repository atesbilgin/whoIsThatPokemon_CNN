{
  "nbformat": 4,
  "nbformat_minor": 0,
  "metadata": {
    "colab": {
      "name": "ModelTestPokemonV2.2-L1RegBNormalization",
      "provenance": [],
      "authorship_tag": "ABX9TyNDAlgMn/BbnoQj4ncuujtE",
      "include_colab_link": true
    },
    "kernelspec": {
      "name": "python3",
      "display_name": "Python 3"
    },
    "accelerator": "GPU"
  },
  "cells": [
    {
      "cell_type": "markdown",
      "metadata": {
        "id": "view-in-github",
        "colab_type": "text"
      },
      "source": [
        "<a href=\"https://colab.research.google.com/github/berkaykarlik/whoIsThatPokemon_CNN/blob/master/ModelTestPokemonV2_2_L1RegBNormalization.ipynb\" target=\"_parent\"><img src=\"https://colab.research.google.com/assets/colab-badge.svg\" alt=\"Open In Colab\"/></a>"
      ]
    },
    {
      "cell_type": "markdown",
      "metadata": {
        "id": "7m5E-nDYJJBQ",
        "colab_type": "text"
      },
      "source": [
        "Login Kaggle"
      ]
    },
    {
      "cell_type": "code",
      "metadata": {
        "id": "UbQbpGzoH0Pz",
        "colab_type": "code",
        "colab": {}
      },
      "source": [
        "from google.colab import files\n",
        "uploaded = files.upload()\n",
        "!mkdir ~/.kaggle\n",
        "!cp /content/kaggle.json ~/.kaggle/kaggle.json"
      ],
      "execution_count": 0,
      "outputs": []
    },
    {
      "cell_type": "markdown",
      "metadata": {
        "id": "UiA1d69SJNpr",
        "colab_type": "text"
      },
      "source": [
        "Download dataset"
      ]
    },
    {
      "cell_type": "code",
      "metadata": {
        "id": "fDEMLRttIOnW",
        "colab_type": "code",
        "colab": {}
      },
      "source": [
        "!kaggle datasets download -d lantian773030/pokemonclassification\n",
        "!unzip pokemonclassification.zip"
      ],
      "execution_count": 0,
      "outputs": []
    },
    {
      "cell_type": "markdown",
      "metadata": {
        "id": "CQO2IfTDJQny",
        "colab_type": "text"
      },
      "source": [
        "Libraries from Ates"
      ]
    },
    {
      "cell_type": "code",
      "metadata": {
        "id": "jXFLQoVqJTRI",
        "colab_type": "code",
        "colab": {}
      },
      "source": [
        "import numpy as np\n",
        "import matplotlib.pyplot as plt\n",
        "import os\n",
        "import cv2\n",
        "import random\n",
        "from tqdm import tqdm"
      ],
      "execution_count": 0,
      "outputs": []
    },
    {
      "cell_type": "markdown",
      "metadata": {
        "id": "67zNmWKDJ6by",
        "colab_type": "text"
      },
      "source": [
        "Get Images from Ates"
      ]
    },
    {
      "cell_type": "code",
      "metadata": {
        "id": "1voYQQZ7KIPU",
        "colab_type": "code",
        "colab": {}
      },
      "source": [
        "path='/content/PokemonData'\n",
        "\n",
        "classes = []\n",
        "data = []\n",
        "SIZE = 100\n",
        "\n",
        "\n",
        "def get_data():\n",
        "  cnt = 0\n",
        "  class_no = 0\n",
        "  for dir in tqdm(os.listdir(path)):\n",
        "    classes.append(dir)\n",
        "    dir_path = os.path.join(path,dir)\n",
        "    for img in tqdm(os.listdir(dir_path)):\n",
        "      try:\n",
        "        img_array = cv2.imread(os.path.join(dir_path,img))\n",
        "        resized_array = cv2.resize(img_array,(SIZE,SIZE))\n",
        "        data.append([resized_array,class_no])\n",
        "      except:\n",
        "        pass\n",
        "    class_no += 1\n",
        "get_data()"
      ],
      "execution_count": 0,
      "outputs": []
    },
    {
      "cell_type": "markdown",
      "metadata": {
        "id": "GoCu8N_NKNHO",
        "colab_type": "text"
      },
      "source": [
        "Seperate Features and Labels from Ates"
      ]
    },
    {
      "cell_type": "code",
      "metadata": {
        "id": "ZYhqXt3-KQ4e",
        "colab_type": "code",
        "colab": {}
      },
      "source": [
        "x = []\n",
        "y = []\n",
        "for features,label in data:\n",
        "    x.append(features)\n",
        "    y.append(label)\n",
        "\n",
        "x = np.array(x).reshape(-1, SIZE, SIZE, 3)\n",
        "y = np.array(y)"
      ],
      "execution_count": 0,
      "outputs": []
    },
    {
      "cell_type": "markdown",
      "metadata": {
        "id": "jY1-suPjKTgA",
        "colab_type": "text"
      },
      "source": [
        "Split Data from Ates"
      ]
    },
    {
      "cell_type": "code",
      "metadata": {
        "id": "Yxhl2m9PKUlI",
        "colab_type": "code",
        "outputId": "91868f91-135f-4dda-c24d-a6847ac0846f",
        "colab": {
          "base_uri": "https://localhost:8080/",
          "height": 34
        }
      },
      "source": [
        "test_images = []\n",
        "test_labels = []\n",
        "train_images = []\n",
        "train_labels = []\n",
        "\n",
        "\n",
        "testCnt = 0\n",
        "for i in range(1,len(y)):\n",
        "    if y[i] == y[i-1]:\n",
        "        if testCnt < 5:\n",
        "            test_images.append(x[i-1])\n",
        "            test_labels.append(y[i-1])\n",
        "        else:\n",
        "            train_images.append(x[i-1])\n",
        "            train_labels.append(y[i-1])\n",
        "        testCnt = testCnt + 1\n",
        "    else:\n",
        "        testCnt = 0\n",
        "    \n",
        "test_images = np.array(test_images).reshape(-1, SIZE, SIZE, 3)\n",
        "train_images = np.array(train_images).reshape(-1, SIZE, SIZE, 3)\n",
        "test_labels = np.array(test_labels)\n",
        "train_labels = np.array(train_labels)\n",
        "\n",
        "\n",
        "print(train_images.shape,test_images.shape)"
      ],
      "execution_count": 6,
      "outputs": [
        {
          "output_type": "stream",
          "text": [
            "(5925, 100, 100, 3) (750, 100, 100, 3)\n"
          ],
          "name": "stdout"
        }
      ]
    },
    {
      "cell_type": "markdown",
      "metadata": {
        "id": "Dr5v4MN6KluP",
        "colab_type": "text"
      },
      "source": [
        "TF libraries from Ates"
      ]
    },
    {
      "cell_type": "code",
      "metadata": {
        "id": "zX3KAEi4KpHv",
        "colab_type": "code",
        "outputId": "55c28a03-fb8e-4526-9a7a-ed7dac6dbe70",
        "colab": {
          "base_uri": "https://localhost:8080/",
          "height": 34
        }
      },
      "source": [
        "import tensorflow as tf\n",
        "from tensorflow.keras.models import Sequential\n",
        "from tensorflow.keras.layers import Dense, Conv2D, Flatten, Dropout, MaxPooling2D, BatchNormalization\n",
        "from tensorflow.keras.preprocessing.image import ImageDataGenerator\n",
        "from tensorflow.keras.callbacks import EarlyStopping\n",
        "from keras import regularizers\n",
        "from sklearn.model_selection import train_test_split"
      ],
      "execution_count": 7,
      "outputs": [
        {
          "output_type": "stream",
          "text": [
            "Using TensorFlow backend.\n"
          ],
          "name": "stderr"
        }
      ]
    },
    {
      "cell_type": "markdown",
      "metadata": {
        "id": "AnZAtIOZKqu_",
        "colab_type": "text"
      },
      "source": [
        "Model Settings from Ates"
      ]
    },
    {
      "cell_type": "code",
      "metadata": {
        "id": "7SMDsxhoK5VB",
        "colab_type": "code",
        "colab": {}
      },
      "source": [
        "train_images, test_images = train_images / 255.0, test_images / 255.0\n",
        "callback = tf.keras.callbacks.EarlyStopping(monitor='loss', patience=3)"
      ],
      "execution_count": 0,
      "outputs": []
    },
    {
      "cell_type": "markdown",
      "metadata": {
        "id": "0j-wln6zLBfE",
        "colab_type": "text"
      },
      "source": [
        "Model from Onur"
      ]
    },
    {
      "cell_type": "code",
      "metadata": {
        "id": "LWabBE2bLCsK",
        "colab_type": "code",
        "outputId": "53efb0fb-c4ad-464c-b54f-2bb719ca96d5",
        "colab": {
          "base_uri": "https://localhost:8080/",
          "height": 748
        }
      },
      "source": [
        "model = Sequential([\n",
        "                                 Conv2D(32, kernel_size=(3,3), activation='relu', padding='same', input_shape = (SIZE, SIZE, 3)),\n",
        "                                 Conv2D(32, kernel_size=(3,3), activation='relu', padding='same'),\n",
        "                                 MaxPooling2D(pool_size=(2,2), strides=2, padding='valid'),\n",
        "                                 Dropout(0.0),\n",
        "                                 Conv2D(64, kernel_size=(5,5), activation='relu', padding='same'),\n",
        "                                 Conv2D(64, kernel_size=(5,5), activation='relu', padding='same'),\n",
        "                                 MaxPooling2D(pool_size=(2,2), strides=2, padding='valid'),\n",
        "                                 Dropout(0.0),\n",
        "                                 Conv2D(128, kernel_size=(7,7), activation='relu', padding='same'),\n",
        "                                 Conv2D(128, kernel_size=(7,7), activation='relu', padding='same'),\n",
        "                                 MaxPooling2D(pool_size=(4,4), strides=2, padding='valid'),\n",
        "                                 Dropout(0.0),\n",
        "                                 Flatten(),\n",
        "                                 Dense(256, activation='relu'),\n",
        "                                 BatchNormalization(),\n",
        "                                 Dropout(0.0),\n",
        "                                 Dense(150, activity_regularizer=tf.keras.regularizers.l1(0.01))\n",
        "])\n",
        "print(model.summary())"
      ],
      "execution_count": 9,
      "outputs": [
        {
          "output_type": "stream",
          "text": [
            "Model: \"sequential\"\n",
            "_________________________________________________________________\n",
            "Layer (type)                 Output Shape              Param #   \n",
            "=================================================================\n",
            "conv2d (Conv2D)              (None, 100, 100, 32)      896       \n",
            "_________________________________________________________________\n",
            "conv2d_1 (Conv2D)            (None, 100, 100, 32)      9248      \n",
            "_________________________________________________________________\n",
            "max_pooling2d (MaxPooling2D) (None, 50, 50, 32)        0         \n",
            "_________________________________________________________________\n",
            "dropout (Dropout)            (None, 50, 50, 32)        0         \n",
            "_________________________________________________________________\n",
            "conv2d_2 (Conv2D)            (None, 50, 50, 64)        51264     \n",
            "_________________________________________________________________\n",
            "conv2d_3 (Conv2D)            (None, 50, 50, 64)        102464    \n",
            "_________________________________________________________________\n",
            "max_pooling2d_1 (MaxPooling2 (None, 25, 25, 64)        0         \n",
            "_________________________________________________________________\n",
            "dropout_1 (Dropout)          (None, 25, 25, 64)        0         \n",
            "_________________________________________________________________\n",
            "conv2d_4 (Conv2D)            (None, 25, 25, 128)       401536    \n",
            "_________________________________________________________________\n",
            "conv2d_5 (Conv2D)            (None, 25, 25, 128)       802944    \n",
            "_________________________________________________________________\n",
            "max_pooling2d_2 (MaxPooling2 (None, 11, 11, 128)       0         \n",
            "_________________________________________________________________\n",
            "dropout_2 (Dropout)          (None, 11, 11, 128)       0         \n",
            "_________________________________________________________________\n",
            "flatten (Flatten)            (None, 15488)             0         \n",
            "_________________________________________________________________\n",
            "dense (Dense)                (None, 256)               3965184   \n",
            "_________________________________________________________________\n",
            "batch_normalization (BatchNo (None, 256)               1024      \n",
            "_________________________________________________________________\n",
            "dropout_3 (Dropout)          (None, 256)               0         \n",
            "_________________________________________________________________\n",
            "dense_1 (Dense)              (None, 150)               38550     \n",
            "=================================================================\n",
            "Total params: 5,373,110\n",
            "Trainable params: 5,372,598\n",
            "Non-trainable params: 512\n",
            "_________________________________________________________________\n",
            "None\n"
          ],
          "name": "stdout"
        }
      ]
    },
    {
      "cell_type": "markdown",
      "metadata": {
        "id": "lWcuVB_HLEoe",
        "colab_type": "text"
      },
      "source": [
        "Compile and Fit"
      ]
    },
    {
      "cell_type": "code",
      "metadata": {
        "id": "cLAM_qSoLG_W",
        "colab_type": "code",
        "outputId": "d6fc06b2-a874-4950-dc24-36b695e76ff3",
        "colab": {
          "base_uri": "https://localhost:8080/",
          "height": 1000
        }
      },
      "source": [
        "model.compile(optimizer='rmsprop',\n",
        "              loss=tf.keras.losses.SparseCategoricalCrossentropy(from_logits=True),\n",
        "              metrics=['accuracy'] )\n",
        "x_train, x_valid, y_train, y_valid = train_test_split(train_images, train_labels, test_size=0.33, shuffle= True)\n",
        "history = model.fit(x_train, y_train, epochs=150, validation_data=(x_valid, y_valid), callbacks=[callback], shuffle=True)"
      ],
      "execution_count": 10,
      "outputs": [
        {
          "output_type": "stream",
          "text": [
            "Epoch 1/150\n",
            "125/125 [==============================] - 8s 68ms/step - loss: 5.1310 - accuracy: 0.0212 - val_loss: 6.4217 - val_accuracy: 0.0092\n",
            "Epoch 2/150\n",
            "125/125 [==============================] - 8s 65ms/step - loss: 5.0235 - accuracy: 0.0312 - val_loss: 5.0431 - val_accuracy: 0.0297\n",
            "Epoch 3/150\n",
            "125/125 [==============================] - 8s 65ms/step - loss: 4.9631 - accuracy: 0.0544 - val_loss: 5.1160 - val_accuracy: 0.0491\n",
            "Epoch 4/150\n",
            "125/125 [==============================] - 8s 64ms/step - loss: 4.7847 - accuracy: 0.1287 - val_loss: 5.0401 - val_accuracy: 0.1207\n",
            "Epoch 5/150\n",
            "125/125 [==============================] - 8s 64ms/step - loss: 4.4671 - accuracy: 0.2268 - val_loss: 4.6755 - val_accuracy: 0.1805\n",
            "Epoch 6/150\n",
            "125/125 [==============================] - 8s 65ms/step - loss: 4.0940 - accuracy: 0.3474 - val_loss: 4.3699 - val_accuracy: 0.2776\n",
            "Epoch 7/150\n",
            "125/125 [==============================] - 8s 65ms/step - loss: 3.7062 - accuracy: 0.4593 - val_loss: 4.2330 - val_accuracy: 0.2950\n",
            "Epoch 8/150\n",
            "125/125 [==============================] - 8s 65ms/step - loss: 3.3351 - accuracy: 0.5659 - val_loss: 3.7588 - val_accuracy: 0.4146\n",
            "Epoch 9/150\n",
            "125/125 [==============================] - 8s 65ms/step - loss: 3.0072 - accuracy: 0.6490 - val_loss: 3.5713 - val_accuracy: 0.4719\n",
            "Epoch 10/150\n",
            "125/125 [==============================] - 8s 65ms/step - loss: 2.7159 - accuracy: 0.7279 - val_loss: 3.5183 - val_accuracy: 0.4964\n",
            "Epoch 11/150\n",
            "125/125 [==============================] - 8s 65ms/step - loss: 2.4507 - accuracy: 0.7972 - val_loss: 3.5007 - val_accuracy: 0.5204\n",
            "Epoch 12/150\n",
            "125/125 [==============================] - 8s 65ms/step - loss: 2.2338 - accuracy: 0.8501 - val_loss: 3.4643 - val_accuracy: 0.5307\n",
            "Epoch 13/150\n",
            "125/125 [==============================] - 8s 65ms/step - loss: 2.0463 - accuracy: 0.8886 - val_loss: 3.4186 - val_accuracy: 0.5537\n",
            "Epoch 14/150\n",
            "125/125 [==============================] - 8s 64ms/step - loss: 1.8808 - accuracy: 0.9171 - val_loss: 3.2926 - val_accuracy: 0.5588\n",
            "Epoch 15/150\n",
            "125/125 [==============================] - 8s 64ms/step - loss: 1.7526 - accuracy: 0.9415 - val_loss: 4.3564 - val_accuracy: 0.5061\n",
            "Epoch 16/150\n",
            "125/125 [==============================] - 8s 64ms/step - loss: 1.6362 - accuracy: 0.9647 - val_loss: 3.3619 - val_accuracy: 0.5491\n",
            "Epoch 17/150\n",
            "125/125 [==============================] - 8s 65ms/step - loss: 1.5529 - accuracy: 0.9743 - val_loss: 3.6639 - val_accuracy: 0.5639\n",
            "Epoch 18/150\n",
            "125/125 [==============================] - 8s 65ms/step - loss: 1.4706 - accuracy: 0.9824 - val_loss: 3.3091 - val_accuracy: 0.5685\n",
            "Epoch 19/150\n",
            "125/125 [==============================] - 8s 65ms/step - loss: 1.3980 - accuracy: 0.9874 - val_loss: 3.5024 - val_accuracy: 0.5593\n",
            "Epoch 20/150\n",
            "125/125 [==============================] - 8s 65ms/step - loss: 1.3421 - accuracy: 0.9882 - val_loss: 3.7545 - val_accuracy: 0.5629\n",
            "Epoch 21/150\n",
            "125/125 [==============================] - 8s 65ms/step - loss: 1.2895 - accuracy: 0.9947 - val_loss: 4.0506 - val_accuracy: 0.5593\n",
            "Epoch 22/150\n",
            "125/125 [==============================] - 8s 64ms/step - loss: 1.2445 - accuracy: 0.9929 - val_loss: 3.4356 - val_accuracy: 0.5782\n",
            "Epoch 23/150\n",
            "125/125 [==============================] - 8s 64ms/step - loss: 1.2082 - accuracy: 0.9937 - val_loss: 3.1825 - val_accuracy: 0.5859\n",
            "Epoch 24/150\n",
            "125/125 [==============================] - 8s 65ms/step - loss: 1.1811 - accuracy: 0.9934 - val_loss: 3.1445 - val_accuracy: 0.5767\n",
            "Epoch 25/150\n",
            "125/125 [==============================] - 8s 65ms/step - loss: 1.1474 - accuracy: 0.9955 - val_loss: 3.8353 - val_accuracy: 0.5578\n",
            "Epoch 26/150\n",
            "125/125 [==============================] - 8s 64ms/step - loss: 1.1144 - accuracy: 0.9970 - val_loss: 3.1324 - val_accuracy: 0.5792\n",
            "Epoch 27/150\n",
            "125/125 [==============================] - 8s 64ms/step - loss: 1.0912 - accuracy: 0.9967 - val_loss: 3.1562 - val_accuracy: 0.5792\n",
            "Epoch 28/150\n",
            "125/125 [==============================] - 8s 65ms/step - loss: 1.0717 - accuracy: 0.9957 - val_loss: 3.1066 - val_accuracy: 0.5879\n",
            "Epoch 29/150\n",
            "125/125 [==============================] - 8s 65ms/step - loss: 1.0473 - accuracy: 0.9972 - val_loss: 3.7203 - val_accuracy: 0.5711\n",
            "Epoch 30/150\n",
            "125/125 [==============================] - 8s 65ms/step - loss: 1.0297 - accuracy: 0.9977 - val_loss: 3.1254 - val_accuracy: 0.5787\n",
            "Epoch 31/150\n",
            "125/125 [==============================] - 8s 65ms/step - loss: 1.0088 - accuracy: 0.9977 - val_loss: 3.2108 - val_accuracy: 0.5731\n",
            "Epoch 32/150\n",
            "125/125 [==============================] - 8s 64ms/step - loss: 0.9902 - accuracy: 0.9970 - val_loss: 3.1362 - val_accuracy: 0.5869\n",
            "Epoch 33/150\n",
            "125/125 [==============================] - 8s 65ms/step - loss: 0.9699 - accuracy: 0.9980 - val_loss: 3.1514 - val_accuracy: 0.5752\n",
            "Epoch 34/150\n",
            "125/125 [==============================] - 8s 65ms/step - loss: 0.9564 - accuracy: 0.9982 - val_loss: 3.1581 - val_accuracy: 0.5757\n",
            "Epoch 35/150\n",
            "125/125 [==============================] - 8s 64ms/step - loss: 0.9431 - accuracy: 0.9977 - val_loss: 3.1533 - val_accuracy: 0.5629\n",
            "Epoch 36/150\n",
            "125/125 [==============================] - 8s 64ms/step - loss: 0.9315 - accuracy: 0.9982 - val_loss: 3.2051 - val_accuracy: 0.5731\n",
            "Epoch 37/150\n",
            "125/125 [==============================] - 8s 64ms/step - loss: 0.9178 - accuracy: 0.9985 - val_loss: 3.1664 - val_accuracy: 0.5680\n",
            "Epoch 38/150\n",
            "125/125 [==============================] - 8s 64ms/step - loss: 0.9038 - accuracy: 0.9985 - val_loss: 3.1590 - val_accuracy: 0.5721\n",
            "Epoch 39/150\n",
            "125/125 [==============================] - 8s 65ms/step - loss: 0.8948 - accuracy: 0.9987 - val_loss: 3.1518 - val_accuracy: 0.5726\n",
            "Epoch 40/150\n",
            "125/125 [==============================] - 8s 64ms/step - loss: 0.8833 - accuracy: 0.9985 - val_loss: 3.1646 - val_accuracy: 0.5706\n",
            "Epoch 41/150\n",
            "125/125 [==============================] - 8s 65ms/step - loss: 0.8760 - accuracy: 0.9990 - val_loss: 3.2026 - val_accuracy: 0.5787\n",
            "Epoch 42/150\n",
            "125/125 [==============================] - 8s 64ms/step - loss: 0.8595 - accuracy: 0.9990 - val_loss: 3.1506 - val_accuracy: 0.5823\n",
            "Epoch 43/150\n",
            "125/125 [==============================] - 8s 65ms/step - loss: 0.8525 - accuracy: 0.9987 - val_loss: 3.2520 - val_accuracy: 0.5562\n",
            "Epoch 44/150\n",
            "125/125 [==============================] - 8s 65ms/step - loss: 0.8463 - accuracy: 0.9995 - val_loss: 3.2660 - val_accuracy: 0.5746\n",
            "Epoch 45/150\n",
            "125/125 [==============================] - 8s 64ms/step - loss: 0.8372 - accuracy: 0.9990 - val_loss: 3.7893 - val_accuracy: 0.5695\n",
            "Epoch 46/150\n",
            "125/125 [==============================] - 8s 65ms/step - loss: 0.8306 - accuracy: 0.9982 - val_loss: 3.2517 - val_accuracy: 0.5634\n",
            "Epoch 47/150\n",
            "125/125 [==============================] - 8s 65ms/step - loss: 0.8259 - accuracy: 0.9985 - val_loss: 3.5129 - val_accuracy: 0.5547\n",
            "Epoch 48/150\n",
            "125/125 [==============================] - 8s 65ms/step - loss: 0.8139 - accuracy: 0.9982 - val_loss: 3.1547 - val_accuracy: 0.5818\n",
            "Epoch 49/150\n",
            "125/125 [==============================] - 8s 64ms/step - loss: 0.8059 - accuracy: 0.9990 - val_loss: 3.2116 - val_accuracy: 0.5619\n",
            "Epoch 50/150\n",
            "125/125 [==============================] - 8s 65ms/step - loss: 0.8024 - accuracy: 0.9990 - val_loss: 3.1296 - val_accuracy: 0.5818\n",
            "Epoch 51/150\n",
            "125/125 [==============================] - 8s 65ms/step - loss: 0.7998 - accuracy: 0.9977 - val_loss: 3.1618 - val_accuracy: 0.5752\n",
            "Epoch 52/150\n",
            "125/125 [==============================] - 8s 65ms/step - loss: 0.7915 - accuracy: 0.9992 - val_loss: 3.1927 - val_accuracy: 0.5665\n",
            "Epoch 53/150\n",
            "125/125 [==============================] - 8s 65ms/step - loss: 0.7845 - accuracy: 0.9990 - val_loss: 4.6239 - val_accuracy: 0.5542\n",
            "Epoch 54/150\n",
            "125/125 [==============================] - 8s 65ms/step - loss: 0.7770 - accuracy: 0.9995 - val_loss: 3.9239 - val_accuracy: 0.5578\n",
            "Epoch 55/150\n",
            "125/125 [==============================] - 8s 65ms/step - loss: 0.7721 - accuracy: 0.9990 - val_loss: 4.2099 - val_accuracy: 0.5685\n",
            "Epoch 56/150\n",
            "125/125 [==============================] - 8s 65ms/step - loss: 0.7669 - accuracy: 0.9990 - val_loss: 3.2311 - val_accuracy: 0.5654\n",
            "Epoch 57/150\n",
            "125/125 [==============================] - 8s 65ms/step - loss: 0.7601 - accuracy: 0.9992 - val_loss: 3.1810 - val_accuracy: 0.5690\n",
            "Epoch 58/150\n",
            "125/125 [==============================] - 8s 65ms/step - loss: 0.7559 - accuracy: 0.9992 - val_loss: 3.3232 - val_accuracy: 0.5675\n",
            "Epoch 59/150\n",
            "125/125 [==============================] - 8s 65ms/step - loss: 0.7536 - accuracy: 0.9987 - val_loss: 3.8205 - val_accuracy: 0.5690\n",
            "Epoch 60/150\n",
            "125/125 [==============================] - 8s 64ms/step - loss: 0.7494 - accuracy: 0.9992 - val_loss: 3.1733 - val_accuracy: 0.5803\n",
            "Epoch 61/150\n",
            "125/125 [==============================] - 8s 65ms/step - loss: 0.7460 - accuracy: 0.9992 - val_loss: 4.0989 - val_accuracy: 0.5680\n",
            "Epoch 62/150\n",
            "125/125 [==============================] - 8s 64ms/step - loss: 0.7415 - accuracy: 0.9995 - val_loss: 4.2982 - val_accuracy: 0.5588\n",
            "Epoch 63/150\n",
            "125/125 [==============================] - 8s 64ms/step - loss: 0.7381 - accuracy: 0.9990 - val_loss: 4.7045 - val_accuracy: 0.5767\n",
            "Epoch 64/150\n",
            "125/125 [==============================] - 8s 65ms/step - loss: 0.7345 - accuracy: 0.9995 - val_loss: 3.2117 - val_accuracy: 0.5634\n",
            "Epoch 65/150\n",
            "125/125 [==============================] - 8s 65ms/step - loss: 0.7327 - accuracy: 0.9992 - val_loss: 4.2189 - val_accuracy: 0.5613\n",
            "Epoch 66/150\n",
            "125/125 [==============================] - 8s 65ms/step - loss: 0.7270 - accuracy: 0.9995 - val_loss: 3.1948 - val_accuracy: 0.5670\n",
            "Epoch 67/150\n",
            "125/125 [==============================] - 8s 65ms/step - loss: 0.7249 - accuracy: 0.9990 - val_loss: 6.4006 - val_accuracy: 0.5654\n",
            "Epoch 68/150\n",
            "125/125 [==============================] - 8s 65ms/step - loss: 0.7239 - accuracy: 0.9987 - val_loss: 3.1742 - val_accuracy: 0.5818\n",
            "Epoch 69/150\n",
            "125/125 [==============================] - 8s 65ms/step - loss: 0.7183 - accuracy: 0.9990 - val_loss: 4.6726 - val_accuracy: 0.5695\n",
            "Epoch 70/150\n",
            "125/125 [==============================] - 8s 65ms/step - loss: 0.7169 - accuracy: 0.9992 - val_loss: 4.0156 - val_accuracy: 0.5670\n",
            "Epoch 71/150\n",
            "125/125 [==============================] - 8s 65ms/step - loss: 0.7144 - accuracy: 0.9995 - val_loss: 4.6147 - val_accuracy: 0.5716\n",
            "Epoch 72/150\n",
            "125/125 [==============================] - 8s 65ms/step - loss: 0.7136 - accuracy: 0.9995 - val_loss: 5.1191 - val_accuracy: 0.5685\n",
            "Epoch 73/150\n",
            "125/125 [==============================] - 8s 65ms/step - loss: 0.7093 - accuracy: 0.9990 - val_loss: 4.3263 - val_accuracy: 0.5573\n",
            "Epoch 74/150\n",
            "125/125 [==============================] - 8s 65ms/step - loss: 0.7048 - accuracy: 0.9995 - val_loss: 4.3388 - val_accuracy: 0.5726\n",
            "Epoch 75/150\n",
            "125/125 [==============================] - 8s 64ms/step - loss: 0.7035 - accuracy: 0.9992 - val_loss: 3.2090 - val_accuracy: 0.5741\n",
            "Epoch 76/150\n",
            "125/125 [==============================] - 8s 64ms/step - loss: 0.7007 - accuracy: 0.9995 - val_loss: 7.2970 - val_accuracy: 0.5639\n",
            "Epoch 77/150\n",
            "125/125 [==============================] - 8s 65ms/step - loss: 0.6975 - accuracy: 0.9995 - val_loss: 5.1858 - val_accuracy: 0.5736\n",
            "Epoch 78/150\n",
            "125/125 [==============================] - 8s 65ms/step - loss: 0.6946 - accuracy: 0.9992 - val_loss: 3.5334 - val_accuracy: 0.5665\n",
            "Epoch 79/150\n",
            "125/125 [==============================] - 8s 64ms/step - loss: 0.6931 - accuracy: 0.9992 - val_loss: 5.2211 - val_accuracy: 0.5798\n",
            "Epoch 80/150\n",
            "125/125 [==============================] - 8s 64ms/step - loss: 0.6902 - accuracy: 0.9995 - val_loss: 5.3196 - val_accuracy: 0.5741\n",
            "Epoch 81/150\n",
            "125/125 [==============================] - 8s 64ms/step - loss: 0.6879 - accuracy: 0.9995 - val_loss: 5.2753 - val_accuracy: 0.5578\n",
            "Epoch 82/150\n",
            "125/125 [==============================] - 8s 64ms/step - loss: 0.6879 - accuracy: 0.9992 - val_loss: 4.2965 - val_accuracy: 0.5670\n",
            "Epoch 83/150\n",
            "125/125 [==============================] - 8s 65ms/step - loss: 0.6843 - accuracy: 0.9995 - val_loss: 3.3915 - val_accuracy: 0.5675\n",
            "Epoch 84/150\n",
            "125/125 [==============================] - 8s 65ms/step - loss: 0.6821 - accuracy: 0.9995 - val_loss: 3.1849 - val_accuracy: 0.5813\n",
            "Epoch 85/150\n",
            "125/125 [==============================] - 8s 65ms/step - loss: 0.6812 - accuracy: 0.9995 - val_loss: 4.6709 - val_accuracy: 0.5598\n",
            "Epoch 86/150\n",
            "125/125 [==============================] - 8s 64ms/step - loss: 0.6782 - accuracy: 0.9995 - val_loss: 3.2305 - val_accuracy: 0.5675\n",
            "Epoch 87/150\n",
            "125/125 [==============================] - 8s 65ms/step - loss: 0.6753 - accuracy: 0.9995 - val_loss: 5.7668 - val_accuracy: 0.5741\n",
            "Epoch 88/150\n",
            "125/125 [==============================] - 8s 65ms/step - loss: 0.6772 - accuracy: 0.9995 - val_loss: 5.9649 - val_accuracy: 0.5803\n",
            "Epoch 89/150\n",
            "125/125 [==============================] - 8s 64ms/step - loss: 0.6764 - accuracy: 0.9990 - val_loss: 4.0127 - val_accuracy: 0.5695\n",
            "Epoch 90/150\n",
            "125/125 [==============================] - 8s 65ms/step - loss: 0.6729 - accuracy: 0.9992 - val_loss: 3.1922 - val_accuracy: 0.5700\n",
            "Epoch 91/150\n",
            "125/125 [==============================] - 8s 65ms/step - loss: 0.6701 - accuracy: 0.9995 - val_loss: 5.8845 - val_accuracy: 0.5649\n",
            "Epoch 92/150\n",
            "125/125 [==============================] - 8s 65ms/step - loss: 0.6712 - accuracy: 0.9992 - val_loss: 7.7949 - val_accuracy: 0.5665\n",
            "Epoch 93/150\n",
            "125/125 [==============================] - 8s 65ms/step - loss: 0.6662 - accuracy: 0.9995 - val_loss: 4.8465 - val_accuracy: 0.5792\n",
            "Epoch 94/150\n",
            "125/125 [==============================] - 8s 64ms/step - loss: 0.6682 - accuracy: 0.9992 - val_loss: 5.7221 - val_accuracy: 0.5762\n",
            "Epoch 95/150\n",
            "125/125 [==============================] - 8s 64ms/step - loss: 0.6662 - accuracy: 0.9995 - val_loss: 4.8126 - val_accuracy: 0.5675\n",
            "Epoch 96/150\n",
            "125/125 [==============================] - 8s 64ms/step - loss: 0.6645 - accuracy: 0.9992 - val_loss: 5.8014 - val_accuracy: 0.5757\n",
            "Epoch 97/150\n",
            "125/125 [==============================] - 8s 65ms/step - loss: 0.6635 - accuracy: 0.9992 - val_loss: 3.6065 - val_accuracy: 0.5654\n",
            "Epoch 98/150\n",
            "125/125 [==============================] - 8s 65ms/step - loss: 0.6590 - accuracy: 0.9992 - val_loss: 5.8098 - val_accuracy: 0.5706\n",
            "Epoch 99/150\n",
            "125/125 [==============================] - 8s 64ms/step - loss: 0.6592 - accuracy: 0.9992 - val_loss: 6.0413 - val_accuracy: 0.5629\n",
            "Epoch 100/150\n",
            "125/125 [==============================] - 8s 64ms/step - loss: 0.6557 - accuracy: 0.9995 - val_loss: 3.8602 - val_accuracy: 0.5782\n",
            "Epoch 101/150\n",
            "125/125 [==============================] - 8s 67ms/step - loss: 0.6558 - accuracy: 0.9992 - val_loss: 3.2463 - val_accuracy: 0.5634\n",
            "Epoch 102/150\n",
            "125/125 [==============================] - 8s 66ms/step - loss: 0.6553 - accuracy: 0.9990 - val_loss: 4.4386 - val_accuracy: 0.5757\n",
            "Epoch 103/150\n",
            "125/125 [==============================] - 8s 65ms/step - loss: 0.6545 - accuracy: 0.9992 - val_loss: 4.4486 - val_accuracy: 0.5777\n",
            "Epoch 104/150\n",
            "125/125 [==============================] - 8s 65ms/step - loss: 0.6517 - accuracy: 0.9992 - val_loss: 3.8570 - val_accuracy: 0.5660\n",
            "Epoch 105/150\n",
            "125/125 [==============================] - 8s 65ms/step - loss: 0.6527 - accuracy: 0.9995 - val_loss: 5.5314 - val_accuracy: 0.5721\n",
            "Epoch 106/150\n",
            "125/125 [==============================] - 8s 65ms/step - loss: 0.6482 - accuracy: 0.9992 - val_loss: 5.6046 - val_accuracy: 0.5767\n",
            "Epoch 107/150\n",
            "125/125 [==============================] - 8s 65ms/step - loss: 0.6485 - accuracy: 1.0000 - val_loss: 4.9389 - val_accuracy: 0.5670\n",
            "Epoch 108/150\n",
            "125/125 [==============================] - 8s 65ms/step - loss: 0.6499 - accuracy: 0.9995 - val_loss: 5.0721 - val_accuracy: 0.5665\n",
            "Epoch 109/150\n",
            "125/125 [==============================] - 8s 65ms/step - loss: 0.6490 - accuracy: 0.9995 - val_loss: 4.7118 - val_accuracy: 0.5792\n"
          ],
          "name": "stdout"
        }
      ]
    },
    {
      "cell_type": "markdown",
      "metadata": {
        "id": "OH3ZtTEgZeo_",
        "colab_type": "text"
      },
      "source": [
        "Evaluation on Test Set"
      ]
    },
    {
      "cell_type": "code",
      "metadata": {
        "id": "Mvkhj1ZxZvuH",
        "colab_type": "code",
        "outputId": "d5763f4f-e296-434a-d949-88ab478e0f6f",
        "colab": {
          "base_uri": "https://localhost:8080/",
          "height": 51
        }
      },
      "source": [
        "loss, accuracy = model.evaluate(test_images, test_labels)\n",
        "\n",
        "print(\"Test Loss:%.4f, Accuracy: %.4f\" %(loss,accuracy))"
      ],
      "execution_count": 11,
      "outputs": [
        {
          "output_type": "stream",
          "text": [
            "24/24 [==============================] - 1s 23ms/step - loss: 3.3265 - accuracy: 0.5373\n",
            "Test Loss:3.3265, Accuracy: 0.5373\n"
          ],
          "name": "stdout"
        }
      ]
    },
    {
      "cell_type": "markdown",
      "metadata": {
        "id": "JxGIakJEacMT",
        "colab_type": "text"
      },
      "source": [
        "Plot for Statistics"
      ]
    },
    {
      "cell_type": "code",
      "metadata": {
        "id": "Cux-SW4uad4u",
        "colab_type": "code",
        "outputId": "c1cc6589-3794-4975-b106-025c0d1904af",
        "colab": {
          "base_uri": "https://localhost:8080/",
          "height": 281
        }
      },
      "source": [
        "plt.subplot(211)\n",
        "plt.title('Loss')\n",
        "plt.plot(history.history['loss'], label='train')\n",
        "plt.plot(history.history['val_loss'], label='valid')\n",
        "plt.legend()\n",
        "\n",
        "plt.subplot(212)\n",
        "plt.title('Accuracy')\n",
        "plt.plot(history.history['accuracy'], label='train')\n",
        "plt.plot(history.history['val_accuracy'], label='valid')\n",
        "plt.legend()\n",
        "plt.show()"
      ],
      "execution_count": 12,
      "outputs": [
        {
          "output_type": "display_data",
          "data": {
            "image/png": "[encoded data removed]",
            "text/plain": [
              "<Figure size 432x288 with 2 Axes>"
            ]
          },
          "metadata": {
            "tags": [],
            "needs_background": "light"
          }
        }
      ]
    }
  ]
}