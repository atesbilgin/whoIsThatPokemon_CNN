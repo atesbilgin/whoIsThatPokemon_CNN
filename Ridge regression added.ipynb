{
  "nbformat": 4,
  "nbformat_minor": 0,
  "metadata": {
    "colab": {
      "name": "Atesv1.ipynb",
      "provenance": [],
      "collapsed_sections": [],
      "machine_shape": "hm",
      "include_colab_link": true
    },
    "kernelspec": {
      "name": "python3",
      "display_name": "Python 3"
    },
    "accelerator": "GPU"
  },
  "cells": [
    {
      "cell_type": "markdown",
      "metadata": {
        "id": "view-in-github",
        "colab_type": "text"
      },
      "source": [
        "<a href=\"https://colab.research.google.com/github/berkaykarlik/whoIsThatPokemon_CNN/blob/master/Ridge%20regression%20added.ipynb\" target=\"_parent\"><img src=\"https://colab.research.google.com/assets/colab-badge.svg\" alt=\"Open In Colab\"/></a>"
      ]
    },
    {
      "cell_type": "markdown",
      "metadata": {
        "id": "UN7SOcusLhx9",
        "colab_type": "text"
      },
      "source": [
        "Mount the Drive"
      ]
    },
    {
      "cell_type": "code",
      "metadata": {
        "id": "38OqdDIgBnmn",
        "colab_type": "code",
        "outputId": "66f7d47f-08c0-46c7-de02-8b0796df7a85",
        "colab": {
          "base_uri": "https://localhost:8080/",
          "height": 34
        }
      },
      "source": [
        "from google.colab import drive\n",
        "drive.mount('/content/gdrive')"
      ],
      "execution_count": 6,
      "outputs": [
        {
          "output_type": "stream",
          "text": [
            "Drive already mounted at /content/gdrive; to attempt to forcibly remount, call drive.mount(\"/content/gdrive\", force_remount=True).\n"
          ],
          "name": "stdout"
        }
      ]
    },
    {
      "cell_type": "markdown",
      "metadata": {
        "id": "vs4L1LuFLkhE",
        "colab_type": "text"
      },
      "source": [
        "Import Libraries"
      ]
    },
    {
      "cell_type": "code",
      "metadata": {
        "id": "XHIhtSNV_-OS",
        "colab_type": "code",
        "colab": {}
      },
      "source": [
        "import numpy as np\n",
        "import matplotlib.pyplot as plt\n",
        "import os\n",
        "import cv2\n",
        "import random\n",
        "from tqdm import tqdm\n",
        "\n"
      ],
      "execution_count": 0,
      "outputs": []
    },
    {
      "cell_type": "markdown",
      "metadata": {
        "id": "yIkQq6ImLd3v",
        "colab_type": "text"
      },
      "source": [
        "Get the Images"
      ]
    },
    {
      "cell_type": "code",
      "metadata": {
        "id": "jEBo0utsGd_Y",
        "colab_type": "code",
        "outputId": "f85134a4-dc0f-42bc-ac8c-b75d2e3bab8a",
        "colab": {
          "base_uri": "https://localhost:8080/",
          "height": 1000
        }
      },
      "source": [
        "path='/content/gdrive/My Drive/PokemonData'\n",
        "\n",
        "classes = []\n",
        "data = []\n",
        "SIZE = 100\n",
        "\n",
        "\n",
        "def get_data():\n",
        "  cnt = 0\n",
        "  class_no = 0\n",
        "  for dir in tqdm(os.listdir(path)):\n",
        "    classes.append(dir)\n",
        "    dir_path = os.path.join(path,dir)\n",
        "    for img in tqdm(os.listdir(dir_path)):\n",
        "      try:\n",
        "        img_array = cv2.imread(os.path.join(dir_path,img))\n",
        "        resized_array = cv2.resize(img_array,(SIZE,SIZE))\n",
        "        data.append([resized_array,class_no])\n",
        "      except:\n",
        "        pass\n",
        "    class_no += 1\n",
        "get_data()"
      ],
      "execution_count": 9,
      "outputs": [
        {
          "output_type": "stream",
          "text": [
            "  0%|          | 0/150 [00:00<?, ?it/s]\n",
            "  0%|          | 0/34 [00:00<?, ?it/s]\u001b[A\n",
            " 44%|████▍     | 15/34 [00:00<00:00, 140.35it/s]\u001b[A\n",
            "100%|██████████| 34/34 [00:00<00:00, 153.84it/s]\n",
            "  1%|          | 1/150 [00:00<00:33,  4.43it/s]\n",
            "  0%|          | 0/51 [00:00<?, ?it/s]\u001b[A\n",
            "  2%|▏         | 1/51 [00:00<00:08,  5.92it/s]\u001b[A\n",
            " 33%|███▎      | 17/51 [00:00<00:04,  8.32it/s]\u001b[A\n",
            " 65%|██████▍   | 33/51 [00:00<00:01, 11.61it/s]\u001b[A\n",
            " 80%|████████  | 41/51 [00:00<00:00, 15.43it/s]\u001b[A\n",
            "100%|██████████| 51/51 [00:00<00:00, 82.35it/s]\n",
            "  1%|▏         | 2/150 [00:00<00:51,  2.89it/s]\n",
            "  0%|          | 0/35 [00:00<?, ?it/s]\u001b[A\n",
            "100%|██████████| 35/35 [00:00<00:00, 176.75it/s]\n",
            "  2%|▏         | 3/150 [00:01<00:44,  3.30it/s]\n",
            "  0%|          | 0/40 [00:00<?, ?it/s]\u001b[A\n",
            " 35%|███▌      | 14/40 [00:00<00:00, 137.10it/s]\u001b[A\n",
            "100%|██████████| 40/40 [00:00<00:00, 131.75it/s]\n",
            "  3%|▎         | 4/150 [00:01<00:44,  3.27it/s]\n",
            "  0%|          | 0/45 [00:00<?, ?it/s]\u001b[A\n",
            " 22%|██▏       | 10/45 [00:00<00:00, 95.02it/s]\u001b[A\n",
            " 42%|████▏     | 19/45 [00:00<00:00, 93.00it/s]\u001b[A\n",
            " 69%|██████▉   | 31/45 [00:00<00:00, 98.59it/s]\u001b[A\n",
            "100%|██████████| 45/45 [00:00<00:00, 101.81it/s]\n",
            "  3%|▎         | 5/150 [00:01<00:50,  2.87it/s]\n",
            "  0%|          | 0/41 [00:00<?, ?it/s]\u001b[A\n",
            " 51%|█████     | 21/41 [00:00<00:00, 209.88it/s]\u001b[A\n",
            "100%|██████████| 41/41 [00:00<00:00, 150.02it/s]\n",
            "  4%|▍         | 6/150 [00:02<00:47,  3.05it/s]\n",
            "  0%|          | 0/35 [00:00<?, ?it/s]\u001b[A\n",
            " 46%|████▌     | 16/35 [00:00<00:00, 156.51it/s]\u001b[A\n",
            "100%|██████████| 35/35 [00:00<00:00, 117.14it/s]\n",
            "  5%|▍         | 7/150 [00:02<00:45,  3.12it/s]\n",
            "  0%|          | 0/42 [00:00<?, ?it/s]\u001b[A\n",
            " 10%|▉         | 4/42 [00:00<00:00, 39.92it/s]\u001b[A\n",
            " 48%|████▊     | 20/42 [00:00<00:00, 51.17it/s]\u001b[A\n",
            " 67%|██████▋   | 28/42 [00:00<00:00, 57.16it/s]\u001b[A\n",
            "100%|██████████| 42/42 [00:00<00:00, 83.39it/s]\n",
            "  5%|▌         | 8/150 [00:02<00:53,  2.65it/s]\n",
            "  0%|          | 0/26 [00:00<?, ?it/s]\u001b[A\n",
            "100%|██████████| 26/26 [00:00<00:00, 132.04it/s]\n",
            "  6%|▌         | 9/150 [00:03<00:45,  3.08it/s]\n",
            "  0%|          | 0/41 [00:00<?, ?it/s]\u001b[A\n",
            " 27%|██▋       | 11/41 [00:00<00:00, 86.10it/s]\u001b[A\n",
            " 68%|██████▊   | 28/41 [00:00<00:00, 100.60it/s]\u001b[A\n",
            "100%|██████████| 41/41 [00:00<00:00, 118.79it/s]\n",
            "  7%|▋         | 10/150 [00:03<00:46,  3.00it/s]\n",
            "  0%|          | 0/27 [00:00<?, ?it/s]\u001b[A\n",
            " 52%|█████▏    | 14/27 [00:00<00:00, 123.76it/s]\u001b[A\n",
            "100%|██████████| 27/27 [00:00<00:00, 101.62it/s]\n",
            "  7%|▋         | 11/150 [00:03<00:43,  3.18it/s]\n",
            "  0%|          | 0/46 [00:00<?, ?it/s]\u001b[A\n",
            " 41%|████▏     | 19/46 [00:00<00:00, 180.71it/s]\u001b[A\n",
            "100%|██████████| 46/46 [00:00<00:00, 153.47it/s]\n",
            "  8%|▊         | 12/150 [00:04<00:43,  3.21it/s]\n",
            "  0%|          | 0/51 [00:00<?, ?it/s]\u001b[A\n",
            " 16%|█▌        | 8/51 [00:00<00:00, 70.21it/s]\u001b[A\n",
            " 29%|██▉       | 15/51 [00:00<00:00, 59.41it/s]\u001b[A\n",
            " 45%|████▌     | 23/51 [00:00<00:00, 62.75it/s]\u001b[A\n",
            " 59%|█████▉    | 30/51 [00:00<00:00, 62.57it/s]\u001b[A\n",
            "100%|██████████| 51/51 [00:00<00:00, 73.14it/s]\n",
            "  9%|▊         | 13/150 [00:04<00:58,  2.33it/s]\n",
            "  0%|          | 0/35 [00:00<?, ?it/s]\u001b[A\n",
            " 20%|██        | 7/35 [00:00<00:00, 69.33it/s]\u001b[A\n",
            " 43%|████▎     | 15/35 [00:00<00:00, 71.69it/s]\u001b[A\n",
            "100%|██████████| 35/35 [00:00<00:00, 77.19it/s]\n",
            "  9%|▉         | 14/150 [00:05<00:50,  2.69it/s]\n"
          ],
          "name": "stderr"
        }
      ]
    },
    {
      "cell_type": "markdown",
      "metadata": {
        "id": "LRidkWDzOC3i",
        "colab_type": "text"
      },
      "source": [
        "Seperate features& labels, convert feature set to numpy array\n",
        "\n"
      ]
    },
    {
      "cell_type": "code",
      "metadata": {
        "id": "PUie6OLWOCm1",
        "colab_type": "code",
        "colab": {}
      },
      "source": [
        "x = []\n",
        "y = []\n",
        "for features,label in data:\n",
        "    x.append(features)\n",
        "    y.append(label)\n",
        "\n",
        "x = np.array(x).reshape(-1, SIZE, SIZE, 3)\n",
        "y = np.array(y)"
      ],
      "execution_count": 0,
      "outputs": []
    },
    {
      "cell_type": "markdown",
      "metadata": {
        "id": "4RnpA8XUOGM6",
        "colab_type": "text"
      },
      "source": [
        "Split Data"
      ]
    },
    {
      "cell_type": "code",
      "metadata": {
        "id": "2FjzKDP6OG5F",
        "colab_type": "code",
        "outputId": "747630ae-ddce-4b4a-83e4-3f1bf81e95ff",
        "colab": {
          "base_uri": "https://localhost:8080/",
          "height": 34
        }
      },
      "source": [
        "test_images = []\n",
        "test_labels = []\n",
        "train_images = []\n",
        "train_labels = []\n",
        "\n",
        "\n",
        "testCnt = 0\n",
        "for i in range(1,len(y)):\n",
        "    if y[i] == y[i-1]:\n",
        "        if testCnt < 5:\n",
        "            test_images.append(x[i-1])\n",
        "            test_labels.append(y[i-1])\n",
        "        else:\n",
        "            train_images.append(x[i-1])\n",
        "            train_labels.append(y[i-1])\n",
        "        testCnt = testCnt + 1\n",
        "    else:\n",
        "        testCnt = 0\n",
        "    \n",
        "test_images = np.array(test_images).reshape(-1, SIZE, SIZE, 3)\n",
        "train_images = np.array(train_images).reshape(-1, SIZE, SIZE, 3)\n",
        "test_labels = np.array(test_labels)\n",
        "train_labels = np.array(train_labels)\n",
        "\n",
        "\n",
        "print(train_images.shape,test_images.shape)"
      ],
      "execution_count": 28,
      "outputs": [
        {
          "output_type": "stream",
          "text": [
            "(465, 100, 100, 3) (70, 100, 100, 3)\n"
          ],
          "name": "stdout"
        }
      ]
    },
    {
      "cell_type": "markdown",
      "metadata": {
        "id": "7m5lEU_Qm4vY",
        "colab_type": "text"
      },
      "source": [
        "CNN"
      ]
    },
    {
      "cell_type": "code",
      "metadata": {
        "id": "pkKunFPdm346",
        "colab_type": "code",
        "colab": {}
      },
      "source": [
        "import tensorflow as tf\n",
        "from tensorflow.keras.models import Sequential\n",
        "from tensorflow.keras.layers import Dense, Conv2D, Flatten, Dropout, MaxPooling2D\n",
        "from tensorflow.keras.preprocessing.image import ImageDataGenerator\n",
        "from tensorflow.keras.callbacks import EarlyStopping\n",
        "from keras import regularizers"
      ],
      "execution_count": 0,
      "outputs": []
    },
    {
      "cell_type": "code",
      "metadata": {
        "id": "fuVcieqapvGX",
        "colab_type": "code",
        "colab": {}
      },
      "source": [
        "train_images, test_images = train_images / 255.0, test_images / 255.0"
      ],
      "execution_count": 0,
      "outputs": []
    },
    {
      "cell_type": "code",
      "metadata": {
        "id": "437HKjjxAVvr",
        "colab_type": "code",
        "colab": {}
      },
      "source": [
        "callback = tf.keras.callbacks.EarlyStopping(monitor='loss', patience=3)"
      ],
      "execution_count": 0,
      "outputs": []
    },
    {
      "cell_type": "code",
      "metadata": {
        "id": "qGOttt2Jp0wQ",
        "colab_type": "code",
        "colab": {}
      },
      "source": [
        "model = Sequential([\n",
        "    Conv2D(32, 3, padding='same', activation='relu', input_shape=(SIZE, SIZE ,3)),\n",
        "    Conv2D(64, 3, padding='same', activation='relu',input_shape=(SIZE, SIZE ,3)),\n",
        "    MaxPooling2D(pool_size=(5, 5),strides=(3, 3), padding='valid'),\n",
        "    Conv2D(64, 3, padding='same', activation='relu'),\n",
        "    MaxPooling2D(pool_size=(5, 5),strides=(3, 3), padding='valid'),\n",
        "    Flatten(),\n",
        "    Dense(512, activation='relu'),\n",
        "    Dropout(0.4),\n",
        "    Dense(150,activity_regularizer=tf.keras.regularizers.l2(0.01))\n",
        "])"
      ],
      "execution_count": 0,
      "outputs": []
    },
    {
      "cell_type": "code",
      "metadata": {
        "id": "ST5HcHU1vOqZ",
        "colab_type": "code",
        "colab": {}
      },
      "source": [
        "model.compile(optimizer='rmsprop',\n",
        "              loss=tf.keras.losses.SparseCategoricalCrossentropy(from_logits=True),\n",
        "              metrics=['accuracy'] )\n",
        "history = model.fit(train_images, train_labels, epochs=150, \n",
        "                    validation_data=(test_images, test_labels), callbacks=[callback])"
      ],
      "execution_count": 0,
      "outputs": []
    },
    {
      "cell_type": "code",
      "metadata": {
        "id": "OMtr_V28u88C",
        "colab_type": "code",
        "colab": {}
      },
      "source": [
        "for train, test in kFold.split(X, Y):\n",
        "    train_evaluate(model, X[train], Y[train], X[test], Y[test])"
      ],
      "execution_count": 0,
      "outputs": []
    }
  ]
}