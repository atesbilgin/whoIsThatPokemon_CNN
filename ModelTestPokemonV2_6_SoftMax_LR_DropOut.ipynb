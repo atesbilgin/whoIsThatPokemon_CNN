{
  "nbformat": 4,
  "nbformat_minor": 0,
  "metadata": {
    "colab": {
      "name": "ModelTestPokemonV2.6-SoftMax_LR_DropOut",
      "provenance": [],
      "authorship_tag": "ABX9TyM6CMfcdsWmNVNc68RLuNPR",
      "include_colab_link": true
    },
    "kernelspec": {
      "name": "python3",
      "display_name": "Python 3"
    },
    "accelerator": "GPU"
  },
  "cells": [
    {
      "cell_type": "markdown",
      "metadata": {
        "id": "view-in-github",
        "colab_type": "text"
      },
      "source": [
        "<a href=\"https://colab.research.google.com/github/berkaykarlik/whoIsThatPokemon_CNN/blob/master/ModelTestPokemonV2_6_SoftMax_LR_DropOut.ipynb\" target=\"_parent\"><img src=\"https://colab.research.google.com/assets/colab-badge.svg\" alt=\"Open In Colab\"/></a>"
      ]
    },
    {
      "cell_type": "markdown",
      "metadata": {
        "id": "7m5E-nDYJJBQ",
        "colab_type": "text"
      },
      "source": [
        "Login Kaggle"
      ]
    },
    {
      "cell_type": "code",
      "metadata": {
        "id": "UbQbpGzoH0Pz",
        "colab_type": "code",
        "colab": {}
      },
      "source": [
        "from google.colab import files\n",
        "uploaded = files.upload()\n",
        "!mkdir ~/.kaggle\n",
        "!cp /content/kaggle.json ~/.kaggle/kaggle.json"
      ],
      "execution_count": 0,
      "outputs": []
    },
    {
      "cell_type": "markdown",
      "metadata": {
        "id": "UiA1d69SJNpr",
        "colab_type": "text"
      },
      "source": [
        "Download dataset"
      ]
    },
    {
      "cell_type": "code",
      "metadata": {
        "id": "fDEMLRttIOnW",
        "colab_type": "code",
        "colab": {}
      },
      "source": [
        "!kaggle datasets download -d lantian773030/pokemonclassification\n",
        "!unzip pokemonclassification.zip"
      ],
      "execution_count": 0,
      "outputs": []
    },
    {
      "cell_type": "markdown",
      "metadata": {
        "id": "CQO2IfTDJQny",
        "colab_type": "text"
      },
      "source": [
        "Libraries from Ates"
      ]
    },
    {
      "cell_type": "code",
      "metadata": {
        "id": "jXFLQoVqJTRI",
        "colab_type": "code",
        "colab": {}
      },
      "source": [
        "import numpy as np\n",
        "import matplotlib.pyplot as plt\n",
        "import os\n",
        "import cv2\n",
        "import random\n",
        "from tqdm import tqdm"
      ],
      "execution_count": 0,
      "outputs": []
    },
    {
      "cell_type": "markdown",
      "metadata": {
        "id": "67zNmWKDJ6by",
        "colab_type": "text"
      },
      "source": [
        "Get Images from Ates"
      ]
    },
    {
      "cell_type": "code",
      "metadata": {
        "id": "1voYQQZ7KIPU",
        "colab_type": "code",
        "colab": {}
      },
      "source": [
        "path='/content/PokemonData'\n",
        "\n",
        "classes = []\n",
        "data = []\n",
        "SIZE = 100\n",
        "\n",
        "\n",
        "def get_data():\n",
        "  cnt = 0\n",
        "  class_no = 0\n",
        "  for dir in tqdm(os.listdir(path)):\n",
        "    classes.append(dir)\n",
        "    dir_path = os.path.join(path,dir)\n",
        "    for img in tqdm(os.listdir(dir_path)):\n",
        "      try:\n",
        "        img_array = cv2.imread(os.path.join(dir_path,img))\n",
        "        resized_array = cv2.resize(img_array,(SIZE,SIZE))\n",
        "        data.append([resized_array,class_no])\n",
        "      except:\n",
        "        pass\n",
        "    class_no += 1\n",
        "get_data()"
      ],
      "execution_count": 0,
      "outputs": []
    },
    {
      "cell_type": "markdown",
      "metadata": {
        "id": "GoCu8N_NKNHO",
        "colab_type": "text"
      },
      "source": [
        "Seperate Features and Labels from Ates"
      ]
    },
    {
      "cell_type": "code",
      "metadata": {
        "id": "ZYhqXt3-KQ4e",
        "colab_type": "code",
        "colab": {}
      },
      "source": [
        "x = []\n",
        "y = []\n",
        "for features,label in data:\n",
        "    x.append(features)\n",
        "    y.append(label)\n",
        "\n",
        "x = np.array(x).reshape(-1, SIZE, SIZE, 3)\n",
        "y = np.array(y)"
      ],
      "execution_count": 0,
      "outputs": []
    },
    {
      "cell_type": "markdown",
      "metadata": {
        "id": "jY1-suPjKTgA",
        "colab_type": "text"
      },
      "source": [
        "Split Data from Ates"
      ]
    },
    {
      "cell_type": "code",
      "metadata": {
        "id": "Yxhl2m9PKUlI",
        "colab_type": "code",
        "outputId": "f45a05a3-c0de-4c6f-f192-bb3b6d1c3fd6",
        "colab": {
          "base_uri": "https://localhost:8080/",
          "height": 34
        }
      },
      "source": [
        "test_images = []\n",
        "test_labels = []\n",
        "train_images = []\n",
        "train_labels = []\n",
        "\n",
        "\n",
        "testCnt = 0\n",
        "for i in range(1,len(y)):\n",
        "    if y[i] == y[i-1]:\n",
        "        if testCnt < 5:\n",
        "            test_images.append(x[i-1])\n",
        "            test_labels.append(y[i-1])\n",
        "        else:\n",
        "            train_images.append(x[i-1])\n",
        "            train_labels.append(y[i-1])\n",
        "        testCnt = testCnt + 1\n",
        "    else:\n",
        "        testCnt = 0\n",
        "    \n",
        "test_images = np.array(test_images).reshape(-1, SIZE, SIZE, 3)\n",
        "train_images = np.array(train_images).reshape(-1, SIZE, SIZE, 3)\n",
        "test_labels = np.array(test_labels)\n",
        "train_labels = np.array(train_labels)\n",
        "\n",
        "\n",
        "print(train_images.shape,test_images.shape)"
      ],
      "execution_count": 6,
      "outputs": [
        {
          "output_type": "stream",
          "text": [
            "(5925, 100, 100, 3) (750, 100, 100, 3)\n"
          ],
          "name": "stdout"
        }
      ]
    },
    {
      "cell_type": "markdown",
      "metadata": {
        "id": "Dr5v4MN6KluP",
        "colab_type": "text"
      },
      "source": [
        "TF libraries from Ates"
      ]
    },
    {
      "cell_type": "code",
      "metadata": {
        "id": "zX3KAEi4KpHv",
        "colab_type": "code",
        "outputId": "cd17e381-5355-4c97-ddfb-95d7da070f30",
        "colab": {
          "base_uri": "https://localhost:8080/",
          "height": 34
        }
      },
      "source": [
        "import tensorflow as tf\n",
        "from tensorflow.keras.models import Sequential\n",
        "from tensorflow.keras.layers import Dense, Conv2D, Flatten, Dropout, MaxPooling2D, BatchNormalization, GlobalAveragePooling2D\n",
        "from tensorflow.keras.preprocessing.image import ImageDataGenerator\n",
        "from tensorflow.keras.callbacks import EarlyStopping\n",
        "from keras import regularizers\n",
        "from sklearn.model_selection import train_test_split"
      ],
      "execution_count": 7,
      "outputs": [
        {
          "output_type": "stream",
          "text": [
            "Using TensorFlow backend.\n"
          ],
          "name": "stderr"
        }
      ]
    },
    {
      "cell_type": "markdown",
      "metadata": {
        "id": "AnZAtIOZKqu_",
        "colab_type": "text"
      },
      "source": [
        "Model Settings from Ates"
      ]
    },
    {
      "cell_type": "code",
      "metadata": {
        "id": "7SMDsxhoK5VB",
        "colab_type": "code",
        "colab": {}
      },
      "source": [
        "train_images, test_images = train_images / 255.0, test_images / 255.0\n",
        "earlystop = tf.keras.callbacks.EarlyStopping(monitor='val_loss', mode='min', patience=8)\n",
        "modelcheckpoint = tf.keras.callbacks.ModelCheckpoint('/content/best_model.h5', monitor='val_loss', mode='min', save_best_only=True)\n",
        "callback_list = [earlystop, modelcheckpoint]"
      ],
      "execution_count": 0,
      "outputs": []
    },
    {
      "cell_type": "markdown",
      "metadata": {
        "id": "0j-wln6zLBfE",
        "colab_type": "text"
      },
      "source": [
        "Model from Onur"
      ]
    },
    {
      "cell_type": "code",
      "metadata": {
        "id": "LWabBE2bLCsK",
        "colab_type": "code",
        "outputId": "391a341a-5e3b-4ecc-df6a-6dc5ee274f6e",
        "colab": {
          "base_uri": "https://localhost:8080/",
          "height": 748
        }
      },
      "source": [
        "model = Sequential([\n",
        "                                 Conv2D(32, kernel_size=(3,3), activation='relu', padding='same', input_shape = (SIZE, SIZE, 3)),\n",
        "                                 Conv2D(32, kernel_size=(3,3), activation='relu', padding='same'),\n",
        "                                 MaxPooling2D(pool_size=(2,2), strides=2, padding='valid'),\n",
        "                                 Dropout(0.2),\n",
        "                                 Conv2D(64, kernel_size=(5,5), activation='relu', padding='same'),\n",
        "                                 Conv2D(64, kernel_size=(5,5), activation='relu', padding='same'),\n",
        "                                 MaxPooling2D(pool_size=(2,2), strides=2, padding='valid'),\n",
        "                                 Dropout(0.2),\n",
        "                                 Conv2D(128, kernel_size=(7,7), activation='relu', padding='same'),\n",
        "                                 Conv2D(128, kernel_size=(7,7), activation='relu', padding='same'),\n",
        "                                 MaxPooling2D(pool_size=(4,4), strides=2, padding='valid'),\n",
        "                                 Dropout(0.2),\n",
        "                                 Flatten(),\n",
        "                                 Dense(256, activation='relu'),\n",
        "                                 BatchNormalization(),\n",
        "                                 Dropout(0.2),\n",
        "                                 Dense(150, activation='softmax')\n",
        "])\n",
        "print(model.summary())"
      ],
      "execution_count": 9,
      "outputs": [
        {
          "output_type": "stream",
          "text": [
            "Model: \"sequential\"\n",
            "_________________________________________________________________\n",
            "Layer (type)                 Output Shape              Param #   \n",
            "=================================================================\n",
            "conv2d (Conv2D)              (None, 100, 100, 32)      896       \n",
            "_________________________________________________________________\n",
            "conv2d_1 (Conv2D)            (None, 100, 100, 32)      9248      \n",
            "_________________________________________________________________\n",
            "max_pooling2d (MaxPooling2D) (None, 50, 50, 32)        0         \n",
            "_________________________________________________________________\n",
            "dropout (Dropout)            (None, 50, 50, 32)        0         \n",
            "_________________________________________________________________\n",
            "conv2d_2 (Conv2D)            (None, 50, 50, 64)        51264     \n",
            "_________________________________________________________________\n",
            "conv2d_3 (Conv2D)            (None, 50, 50, 64)        102464    \n",
            "_________________________________________________________________\n",
            "max_pooling2d_1 (MaxPooling2 (None, 25, 25, 64)        0         \n",
            "_________________________________________________________________\n",
            "dropout_1 (Dropout)          (None, 25, 25, 64)        0         \n",
            "_________________________________________________________________\n",
            "conv2d_4 (Conv2D)            (None, 25, 25, 128)       401536    \n",
            "_________________________________________________________________\n",
            "conv2d_5 (Conv2D)            (None, 25, 25, 128)       802944    \n",
            "_________________________________________________________________\n",
            "max_pooling2d_2 (MaxPooling2 (None, 11, 11, 128)       0         \n",
            "_________________________________________________________________\n",
            "dropout_2 (Dropout)          (None, 11, 11, 128)       0         \n",
            "_________________________________________________________________\n",
            "flatten (Flatten)            (None, 15488)             0         \n",
            "_________________________________________________________________\n",
            "dense (Dense)                (None, 256)               3965184   \n",
            "_________________________________________________________________\n",
            "batch_normalization (BatchNo (None, 256)               1024      \n",
            "_________________________________________________________________\n",
            "dropout_3 (Dropout)          (None, 256)               0         \n",
            "_________________________________________________________________\n",
            "dense_1 (Dense)              (None, 150)               38550     \n",
            "=================================================================\n",
            "Total params: 5,373,110\n",
            "Trainable params: 5,372,598\n",
            "Non-trainable params: 512\n",
            "_________________________________________________________________\n",
            "None\n"
          ],
          "name": "stdout"
        }
      ]
    },
    {
      "cell_type": "markdown",
      "metadata": {
        "id": "lWcuVB_HLEoe",
        "colab_type": "text"
      },
      "source": [
        "Compile and Fit"
      ]
    },
    {
      "cell_type": "code",
      "metadata": {
        "id": "cLAM_qSoLG_W",
        "colab_type": "code",
        "outputId": "2c2f859f-ec13-4dde-d260-4e664a36e219",
        "colab": {
          "base_uri": "https://localhost:8080/",
          "height": 1000
        }
      },
      "source": [
        "model.compile(optimizer=tf.keras.optimizers.RMSprop(learning_rate=0.01),\n",
        "              loss=tf.keras.losses.SparseCategoricalCrossentropy(from_logits=True),\n",
        "              metrics=['accuracy'] )\n",
        "x_train, x_valid, y_train, y_valid = train_test_split(train_images, train_labels, test_size=0.33, shuffle= True)\n",
        "history = model.fit(x_train, y_train, epochs=150, validation_data=(x_valid, y_valid), callbacks=callback_list, shuffle=True)"
      ],
      "execution_count": 10,
      "outputs": [
        {
          "output_type": "stream",
          "text": [
            "Epoch 1/150\n",
            "125/125 [==============================] - 9s 69ms/step - loss: 5.0057 - accuracy: 0.0166 - val_loss: 5.0087 - val_accuracy: 0.0133\n",
            "Epoch 2/150\n",
            "125/125 [==============================] - 8s 66ms/step - loss: 4.9974 - accuracy: 0.0234 - val_loss: 5.0058 - val_accuracy: 0.0143\n",
            "Epoch 3/150\n",
            "125/125 [==============================] - 8s 66ms/step - loss: 4.9957 - accuracy: 0.0252 - val_loss: 5.0016 - val_accuracy: 0.0204\n",
            "Epoch 4/150\n",
            "125/125 [==============================] - 8s 66ms/step - loss: 4.9900 - accuracy: 0.0328 - val_loss: 4.9963 - val_accuracy: 0.0245\n",
            "Epoch 5/150\n",
            "125/125 [==============================] - 8s 66ms/step - loss: 4.9878 - accuracy: 0.0338 - val_loss: 5.0064 - val_accuracy: 0.0123\n",
            "Epoch 6/150\n",
            "125/125 [==============================] - 8s 65ms/step - loss: 4.9859 - accuracy: 0.0370 - val_loss: 5.0065 - val_accuracy: 0.0128\n",
            "Epoch 7/150\n",
            "125/125 [==============================] - 8s 65ms/step - loss: 4.9855 - accuracy: 0.0363 - val_loss: 5.0021 - val_accuracy: 0.0174\n",
            "Epoch 8/150\n",
            "125/125 [==============================] - 8s 66ms/step - loss: 4.9790 - accuracy: 0.0438 - val_loss: 4.9848 - val_accuracy: 0.0363\n",
            "Epoch 9/150\n",
            "125/125 [==============================] - 8s 65ms/step - loss: 4.9781 - accuracy: 0.0443 - val_loss: 4.9933 - val_accuracy: 0.0317\n",
            "Epoch 10/150\n",
            "125/125 [==============================] - 8s 65ms/step - loss: 4.9717 - accuracy: 0.0542 - val_loss: 4.9809 - val_accuracy: 0.0429\n",
            "Epoch 11/150\n",
            "125/125 [==============================] - 8s 66ms/step - loss: 4.9635 - accuracy: 0.0595 - val_loss: 4.9766 - val_accuracy: 0.0445\n",
            "Epoch 12/150\n",
            "125/125 [==============================] - 8s 66ms/step - loss: 4.9559 - accuracy: 0.0678 - val_loss: 4.9864 - val_accuracy: 0.0343\n",
            "Epoch 13/150\n",
            "125/125 [==============================] - 8s 66ms/step - loss: 4.9466 - accuracy: 0.0779 - val_loss: 4.9567 - val_accuracy: 0.0660\n",
            "Epoch 14/150\n",
            "125/125 [==============================] - 8s 65ms/step - loss: 4.9395 - accuracy: 0.0849 - val_loss: 4.9623 - val_accuracy: 0.0598\n",
            "Epoch 15/150\n",
            "125/125 [==============================] - 8s 67ms/step - loss: 4.9198 - accuracy: 0.1071 - val_loss: 4.9325 - val_accuracy: 0.0900\n",
            "Epoch 16/150\n",
            "125/125 [==============================] - 8s 66ms/step - loss: 4.9104 - accuracy: 0.1146 - val_loss: 4.9206 - val_accuracy: 0.1074\n",
            "Epoch 17/150\n",
            "125/125 [==============================] - 8s 67ms/step - loss: 4.8920 - accuracy: 0.1340 - val_loss: 4.9051 - val_accuracy: 0.1176\n",
            "Epoch 18/150\n",
            "125/125 [==============================] - 8s 66ms/step - loss: 4.8787 - accuracy: 0.1492 - val_loss: 4.9144 - val_accuracy: 0.1109\n",
            "Epoch 19/150\n",
            "125/125 [==============================] - 8s 66ms/step - loss: 4.8606 - accuracy: 0.1663 - val_loss: 4.9075 - val_accuracy: 0.1191\n",
            "Epoch 20/150\n",
            "125/125 [==============================] - 8s 66ms/step - loss: 4.8460 - accuracy: 0.1812 - val_loss: 4.8723 - val_accuracy: 0.1524\n",
            "Epoch 21/150\n",
            "125/125 [==============================] - 8s 66ms/step - loss: 4.8369 - accuracy: 0.1917 - val_loss: 4.8738 - val_accuracy: 0.1534\n",
            "Epoch 22/150\n",
            "125/125 [==============================] - 8s 66ms/step - loss: 4.8238 - accuracy: 0.2038 - val_loss: 4.8730 - val_accuracy: 0.1488\n",
            "Epoch 23/150\n",
            "125/125 [==============================] - 8s 66ms/step - loss: 4.8059 - accuracy: 0.2237 - val_loss: 4.8608 - val_accuracy: 0.1667\n",
            "Epoch 24/150\n",
            "125/125 [==============================] - 8s 67ms/step - loss: 4.7969 - accuracy: 0.2338 - val_loss: 4.8512 - val_accuracy: 0.1733\n",
            "Epoch 25/150\n",
            "125/125 [==============================] - 8s 66ms/step - loss: 4.7797 - accuracy: 0.2484 - val_loss: 4.8691 - val_accuracy: 0.1539\n",
            "Epoch 26/150\n",
            "125/125 [==============================] - 8s 67ms/step - loss: 4.7767 - accuracy: 0.2535 - val_loss: 4.8377 - val_accuracy: 0.1856\n",
            "Epoch 27/150\n",
            "125/125 [==============================] - 8s 67ms/step - loss: 4.7636 - accuracy: 0.2671 - val_loss: 4.8240 - val_accuracy: 0.2030\n",
            "Epoch 28/150\n",
            "125/125 [==============================] - 8s 65ms/step - loss: 4.7625 - accuracy: 0.2673 - val_loss: 4.8280 - val_accuracy: 0.1984\n",
            "Epoch 29/150\n",
            "125/125 [==============================] - 8s 66ms/step - loss: 4.7518 - accuracy: 0.2761 - val_loss: 4.8372 - val_accuracy: 0.1922\n",
            "Epoch 30/150\n",
            "125/125 [==============================] - 8s 66ms/step - loss: 4.7399 - accuracy: 0.2910 - val_loss: 4.8237 - val_accuracy: 0.2009\n",
            "Epoch 31/150\n",
            "125/125 [==============================] - 8s 66ms/step - loss: 4.7249 - accuracy: 0.3071 - val_loss: 4.8075 - val_accuracy: 0.2219\n",
            "Epoch 32/150\n",
            "125/125 [==============================] - 8s 66ms/step - loss: 4.7146 - accuracy: 0.3122 - val_loss: 4.7870 - val_accuracy: 0.2398\n",
            "Epoch 33/150\n",
            "125/125 [==============================] - 8s 65ms/step - loss: 4.7089 - accuracy: 0.3205 - val_loss: 4.7971 - val_accuracy: 0.2260\n",
            "Epoch 34/150\n",
            "125/125 [==============================] - 8s 65ms/step - loss: 4.7018 - accuracy: 0.3280 - val_loss: 4.7981 - val_accuracy: 0.2347\n",
            "Epoch 35/150\n",
            "125/125 [==============================] - 8s 65ms/step - loss: 4.7002 - accuracy: 0.3288 - val_loss: 4.8170 - val_accuracy: 0.2086\n",
            "Epoch 36/150\n",
            "125/125 [==============================] - 8s 66ms/step - loss: 4.6844 - accuracy: 0.3482 - val_loss: 4.8212 - val_accuracy: 0.2040\n",
            "Epoch 37/150\n",
            "125/125 [==============================] - 8s 66ms/step - loss: 4.6788 - accuracy: 0.3507 - val_loss: 4.7736 - val_accuracy: 0.2551\n",
            "Epoch 38/150\n",
            "125/125 [==============================] - 8s 65ms/step - loss: 4.6743 - accuracy: 0.3535 - val_loss: 4.8048 - val_accuracy: 0.2249\n",
            "Epoch 39/150\n",
            "125/125 [==============================] - 8s 66ms/step - loss: 4.6665 - accuracy: 0.3641 - val_loss: 4.7940 - val_accuracy: 0.2372\n",
            "Epoch 40/150\n",
            "125/125 [==============================] - 8s 66ms/step - loss: 4.6676 - accuracy: 0.3590 - val_loss: 4.7627 - val_accuracy: 0.2643\n",
            "Epoch 41/150\n",
            "125/125 [==============================] - 8s 66ms/step - loss: 4.6449 - accuracy: 0.3850 - val_loss: 4.7540 - val_accuracy: 0.2745\n",
            "Epoch 42/150\n",
            "125/125 [==============================] - 8s 66ms/step - loss: 4.6415 - accuracy: 0.3880 - val_loss: 4.7504 - val_accuracy: 0.2735\n",
            "Epoch 43/150\n",
            "125/125 [==============================] - 8s 66ms/step - loss: 4.6403 - accuracy: 0.3893 - val_loss: 4.7472 - val_accuracy: 0.2797\n",
            "Epoch 44/150\n",
            "125/125 [==============================] - 8s 66ms/step - loss: 4.6280 - accuracy: 0.4031 - val_loss: 4.7407 - val_accuracy: 0.2873\n",
            "Epoch 45/150\n",
            "125/125 [==============================] - 8s 66ms/step - loss: 4.6173 - accuracy: 0.4112 - val_loss: 4.7555 - val_accuracy: 0.2720\n",
            "Epoch 46/150\n",
            "125/125 [==============================] - 8s 66ms/step - loss: 4.6117 - accuracy: 0.4177 - val_loss: 4.7406 - val_accuracy: 0.2848\n",
            "Epoch 47/150\n",
            "125/125 [==============================] - 8s 66ms/step - loss: 4.6120 - accuracy: 0.4160 - val_loss: 4.7474 - val_accuracy: 0.2766\n",
            "Epoch 48/150\n",
            "125/125 [==============================] - 8s 66ms/step - loss: 4.6018 - accuracy: 0.4276 - val_loss: 4.7374 - val_accuracy: 0.2935\n",
            "Epoch 49/150\n",
            "125/125 [==============================] - 8s 65ms/step - loss: 4.5981 - accuracy: 0.4291 - val_loss: 4.7452 - val_accuracy: 0.2827\n",
            "Epoch 50/150\n",
            "125/125 [==============================] - 8s 66ms/step - loss: 4.5890 - accuracy: 0.4414 - val_loss: 4.7292 - val_accuracy: 0.2991\n",
            "Epoch 51/150\n",
            "125/125 [==============================] - 8s 66ms/step - loss: 4.5874 - accuracy: 0.4407 - val_loss: 4.7386 - val_accuracy: 0.2863\n",
            "Epoch 52/150\n",
            "125/125 [==============================] - 8s 65ms/step - loss: 4.5799 - accuracy: 0.4472 - val_loss: 4.7351 - val_accuracy: 0.2894\n",
            "Epoch 53/150\n",
            "125/125 [==============================] - 8s 67ms/step - loss: 4.5814 - accuracy: 0.4460 - val_loss: 4.7208 - val_accuracy: 0.3073\n",
            "Epoch 54/150\n",
            "125/125 [==============================] - 8s 66ms/step - loss: 4.5637 - accuracy: 0.4636 - val_loss: 4.7233 - val_accuracy: 0.2981\n",
            "Epoch 55/150\n",
            "125/125 [==============================] - 8s 66ms/step - loss: 4.5665 - accuracy: 0.4626 - val_loss: 4.7192 - val_accuracy: 0.3052\n",
            "Epoch 56/150\n",
            "125/125 [==============================] - 8s 65ms/step - loss: 4.5562 - accuracy: 0.4724 - val_loss: 4.7340 - val_accuracy: 0.2919\n",
            "Epoch 57/150\n",
            "125/125 [==============================] - 8s 66ms/step - loss: 4.5562 - accuracy: 0.4709 - val_loss: 4.7388 - val_accuracy: 0.2863\n",
            "Epoch 58/150\n",
            "125/125 [==============================] - 8s 65ms/step - loss: 4.5515 - accuracy: 0.4782 - val_loss: 4.7544 - val_accuracy: 0.2664\n",
            "Epoch 59/150\n",
            "125/125 [==============================] - 8s 66ms/step - loss: 4.5406 - accuracy: 0.4890 - val_loss: 4.7018 - val_accuracy: 0.3252\n",
            "Epoch 60/150\n",
            "125/125 [==============================] - 8s 65ms/step - loss: 4.5368 - accuracy: 0.4913 - val_loss: 4.7149 - val_accuracy: 0.3103\n",
            "Epoch 61/150\n",
            "125/125 [==============================] - 8s 65ms/step - loss: 4.5398 - accuracy: 0.4880 - val_loss: 4.7245 - val_accuracy: 0.3001\n",
            "Epoch 62/150\n",
            "125/125 [==============================] - 8s 65ms/step - loss: 4.5290 - accuracy: 0.5001 - val_loss: 4.7099 - val_accuracy: 0.3134\n",
            "Epoch 63/150\n",
            "125/125 [==============================] - 8s 66ms/step - loss: 4.5271 - accuracy: 0.4994 - val_loss: 4.7202 - val_accuracy: 0.3073\n",
            "Epoch 64/150\n",
            "125/125 [==============================] - 8s 66ms/step - loss: 4.5230 - accuracy: 0.5037 - val_loss: 4.6958 - val_accuracy: 0.3282\n",
            "Epoch 65/150\n",
            "125/125 [==============================] - 8s 65ms/step - loss: 4.5275 - accuracy: 0.4996 - val_loss: 4.7024 - val_accuracy: 0.3246\n",
            "Epoch 66/150\n",
            "125/125 [==============================] - 8s 65ms/step - loss: 4.5190 - accuracy: 0.5059 - val_loss: 4.6994 - val_accuracy: 0.3277\n",
            "Epoch 67/150\n",
            "125/125 [==============================] - 8s 65ms/step - loss: 4.5157 - accuracy: 0.5120 - val_loss: 4.6971 - val_accuracy: 0.3303\n",
            "Epoch 68/150\n",
            "125/125 [==============================] - 8s 65ms/step - loss: 4.5110 - accuracy: 0.5157 - val_loss: 4.7071 - val_accuracy: 0.3154\n",
            "Epoch 69/150\n",
            "125/125 [==============================] - 8s 66ms/step - loss: 4.5091 - accuracy: 0.5180 - val_loss: 4.6953 - val_accuracy: 0.3292\n",
            "Epoch 70/150\n",
            "125/125 [==============================] - 8s 65ms/step - loss: 4.5101 - accuracy: 0.5157 - val_loss: 4.7025 - val_accuracy: 0.3190\n",
            "Epoch 71/150\n",
            "125/125 [==============================] - 8s 66ms/step - loss: 4.5046 - accuracy: 0.5236 - val_loss: 4.6891 - val_accuracy: 0.3354\n",
            "Epoch 72/150\n",
            "125/125 [==============================] - 8s 65ms/step - loss: 4.4954 - accuracy: 0.5336 - val_loss: 4.7479 - val_accuracy: 0.2776\n",
            "Epoch 73/150\n",
            "125/125 [==============================] - 8s 65ms/step - loss: 4.4934 - accuracy: 0.5351 - val_loss: 4.6929 - val_accuracy: 0.3313\n",
            "Epoch 74/150\n",
            "125/125 [==============================] - 8s 66ms/step - loss: 4.4874 - accuracy: 0.5379 - val_loss: 4.6923 - val_accuracy: 0.3369\n",
            "Epoch 75/150\n",
            "125/125 [==============================] - 8s 66ms/step - loss: 4.4876 - accuracy: 0.5389 - val_loss: 4.6833 - val_accuracy: 0.3379\n",
            "Epoch 76/150\n",
            "125/125 [==============================] - 8s 65ms/step - loss: 4.4757 - accuracy: 0.5505 - val_loss: 4.7314 - val_accuracy: 0.2924\n",
            "Epoch 77/150\n",
            "125/125 [==============================] - 8s 66ms/step - loss: 4.4819 - accuracy: 0.5450 - val_loss: 4.6818 - val_accuracy: 0.3441\n",
            "Epoch 78/150\n",
            "125/125 [==============================] - 8s 67ms/step - loss: 4.4832 - accuracy: 0.5450 - val_loss: 4.6771 - val_accuracy: 0.3466\n",
            "Epoch 79/150\n",
            "125/125 [==============================] - 8s 66ms/step - loss: 4.4725 - accuracy: 0.5543 - val_loss: 4.6764 - val_accuracy: 0.3476\n",
            "Epoch 80/150\n",
            "125/125 [==============================] - 8s 65ms/step - loss: 4.4712 - accuracy: 0.5573 - val_loss: 4.6988 - val_accuracy: 0.3246\n",
            "Epoch 81/150\n",
            "125/125 [==============================] - 8s 65ms/step - loss: 4.4645 - accuracy: 0.5646 - val_loss: 4.6968 - val_accuracy: 0.3287\n",
            "Epoch 82/150\n",
            "125/125 [==============================] - 8s 67ms/step - loss: 4.4739 - accuracy: 0.5525 - val_loss: 4.6962 - val_accuracy: 0.3272\n",
            "Epoch 83/150\n",
            "125/125 [==============================] - 8s 65ms/step - loss: 4.4663 - accuracy: 0.5583 - val_loss: 4.6950 - val_accuracy: 0.3277\n",
            "Epoch 84/150\n",
            "125/125 [==============================] - 8s 66ms/step - loss: 4.4611 - accuracy: 0.5644 - val_loss: 4.6674 - val_accuracy: 0.3533\n",
            "Epoch 85/150\n",
            "125/125 [==============================] - 8s 66ms/step - loss: 4.4593 - accuracy: 0.5664 - val_loss: 4.6823 - val_accuracy: 0.3420\n",
            "Epoch 86/150\n",
            "125/125 [==============================] - 8s 65ms/step - loss: 4.4585 - accuracy: 0.5674 - val_loss: 4.6862 - val_accuracy: 0.3359\n",
            "Epoch 87/150\n",
            "125/125 [==============================] - 8s 65ms/step - loss: 4.4568 - accuracy: 0.5692 - val_loss: 4.6713 - val_accuracy: 0.3543\n",
            "Epoch 88/150\n",
            "125/125 [==============================] - 8s 66ms/step - loss: 4.4540 - accuracy: 0.5704 - val_loss: 4.6655 - val_accuracy: 0.3584\n",
            "Epoch 89/150\n",
            "125/125 [==============================] - 8s 65ms/step - loss: 4.4475 - accuracy: 0.5790 - val_loss: 4.6689 - val_accuracy: 0.3553\n",
            "Epoch 90/150\n",
            "125/125 [==============================] - 8s 65ms/step - loss: 4.4354 - accuracy: 0.5908 - val_loss: 4.7256 - val_accuracy: 0.2986\n",
            "Epoch 91/150\n",
            "125/125 [==============================] - 9s 68ms/step - loss: 4.4470 - accuracy: 0.5792 - val_loss: 4.6813 - val_accuracy: 0.3425\n",
            "Epoch 92/150\n",
            "125/125 [==============================] - 8s 66ms/step - loss: 4.4397 - accuracy: 0.5855 - val_loss: 4.6640 - val_accuracy: 0.3609\n",
            "Epoch 93/150\n",
            "125/125 [==============================] - 8s 65ms/step - loss: 4.4383 - accuracy: 0.5888 - val_loss: 4.6758 - val_accuracy: 0.3471\n",
            "Epoch 94/150\n",
            "125/125 [==============================] - 8s 65ms/step - loss: 4.4322 - accuracy: 0.5939 - val_loss: 4.6808 - val_accuracy: 0.3400\n",
            "Epoch 95/150\n",
            "125/125 [==============================] - 8s 66ms/step - loss: 4.4373 - accuracy: 0.5886 - val_loss: 4.6624 - val_accuracy: 0.3615\n",
            "Epoch 96/150\n",
            "125/125 [==============================] - 8s 66ms/step - loss: 4.4285 - accuracy: 0.5971 - val_loss: 4.6641 - val_accuracy: 0.3620\n",
            "Epoch 97/150\n",
            "125/125 [==============================] - 8s 65ms/step - loss: 4.4312 - accuracy: 0.5933 - val_loss: 4.6648 - val_accuracy: 0.3604\n",
            "Epoch 98/150\n",
            "125/125 [==============================] - 8s 65ms/step - loss: 4.4279 - accuracy: 0.5956 - val_loss: 4.6662 - val_accuracy: 0.3589\n",
            "Epoch 99/150\n",
            "125/125 [==============================] - 8s 66ms/step - loss: 4.4300 - accuracy: 0.5951 - val_loss: 4.6612 - val_accuracy: 0.3666\n",
            "Epoch 100/150\n",
            "125/125 [==============================] - 8s 68ms/step - loss: 4.4220 - accuracy: 0.6029 - val_loss: 4.6712 - val_accuracy: 0.3497\n",
            "Epoch 101/150\n",
            "125/125 [==============================] - 8s 66ms/step - loss: 4.4237 - accuracy: 0.6019 - val_loss: 4.6535 - val_accuracy: 0.3737\n",
            "Epoch 102/150\n",
            "125/125 [==============================] - 8s 65ms/step - loss: 4.4279 - accuracy: 0.5959 - val_loss: 4.6611 - val_accuracy: 0.3620\n",
            "Epoch 103/150\n",
            "125/125 [==============================] - 8s 65ms/step - loss: 4.4307 - accuracy: 0.5944 - val_loss: 4.6737 - val_accuracy: 0.3466\n",
            "Epoch 104/150\n",
            "125/125 [==============================] - 8s 65ms/step - loss: 4.4217 - accuracy: 0.6014 - val_loss: 4.6694 - val_accuracy: 0.3548\n",
            "Epoch 105/150\n",
            "125/125 [==============================] - 8s 65ms/step - loss: 4.4103 - accuracy: 0.6145 - val_loss: 4.6657 - val_accuracy: 0.3584\n",
            "Epoch 106/150\n",
            "125/125 [==============================] - 8s 65ms/step - loss: 4.4193 - accuracy: 0.6059 - val_loss: 4.6627 - val_accuracy: 0.3609\n",
            "Epoch 107/150\n",
            "125/125 [==============================] - 8s 65ms/step - loss: 4.4120 - accuracy: 0.6120 - val_loss: 4.6571 - val_accuracy: 0.3691\n",
            "Epoch 108/150\n",
            "125/125 [==============================] - 8s 65ms/step - loss: 4.4060 - accuracy: 0.6185 - val_loss: 4.6657 - val_accuracy: 0.3553\n",
            "Epoch 109/150\n",
            "125/125 [==============================] - 8s 67ms/step - loss: 4.4132 - accuracy: 0.6107 - val_loss: 4.6543 - val_accuracy: 0.3707\n"
          ],
          "name": "stdout"
        }
      ]
    },
    {
      "cell_type": "markdown",
      "metadata": {
        "id": "OH3ZtTEgZeo_",
        "colab_type": "text"
      },
      "source": [
        "Evaluation on Test Set"
      ]
    },
    {
      "cell_type": "code",
      "metadata": {
        "id": "Mvkhj1ZxZvuH",
        "colab_type": "code",
        "outputId": "39970ef6-73b7-40ed-d357-832e3c8fbee8",
        "colab": {
          "base_uri": "https://localhost:8080/",
          "height": 51
        }
      },
      "source": [
        "loss, accuracy = model.evaluate(test_images, test_labels)\n",
        "\n",
        "print(\"Test Loss:%.4f, Accuracy: %.4f\" %(loss,accuracy))"
      ],
      "execution_count": 11,
      "outputs": [
        {
          "output_type": "stream",
          "text": [
            "24/24 [==============================] - 1s 23ms/step - loss: 4.6709 - accuracy: 0.3547\n",
            "Test Loss:4.6709, Accuracy: 0.3547\n"
          ],
          "name": "stdout"
        }
      ]
    },
    {
      "cell_type": "markdown",
      "metadata": {
        "id": "JxGIakJEacMT",
        "colab_type": "text"
      },
      "source": [
        "Plot for Statistics"
      ]
    },
    {
      "cell_type": "code",
      "metadata": {
        "id": "Cux-SW4uad4u",
        "colab_type": "code",
        "outputId": "a2cfbc66-1d24-4bf4-e8a8-017d3004e5a9",
        "colab": {
          "base_uri": "https://localhost:8080/",
          "height": 281
        }
      },
      "source": [
        "plt.subplot(211)\n",
        "plt.title('Loss')\n",
        "plt.plot(history.history['loss'], label='train')\n",
        "plt.plot(history.history['val_loss'], label='valid')\n",
        "plt.legend()\n",
        "\n",
        "plt.subplot(212)\n",
        "plt.title('Accuracy')\n",
        "plt.plot(history.history['accuracy'], label='train')\n",
        "plt.plot(history.history['val_accuracy'], label='valid')\n",
        "plt.legend()\n",
        "plt.show()"
      ],
      "execution_count": 12,
      "outputs": [
        {
          "output_type": "display_data",
          "data": {
            "image/png": "[encoded data removed]",
            "text/plain": [
              "<Figure size 432x288 with 2 Axes>"
            ]
          },
          "metadata": {
            "tags": [],
            "needs_background": "light"
          }
        }
      ]
    }
  ]
}