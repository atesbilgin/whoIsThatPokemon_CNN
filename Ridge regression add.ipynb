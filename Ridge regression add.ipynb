{
  "nbformat": 4,
  "nbformat_minor": 0,
  "metadata": {
    "colab": {
      "name": "Atesv1.ipynb",
      "provenance": [],
      "collapsed_sections": [],
      "machine_shape": "hm",
      "include_colab_link": true
    },
    "kernelspec": {
      "name": "python3",
      "display_name": "Python 3"
    },
    "accelerator": "GPU"
  },
  "cells": [
    {
      "cell_type": "markdown",
      "metadata": {
        "id": "view-in-github",
        "colab_type": "text"
      },
      "source": [
        "<a href=\"https://colab.research.google.com/github/berkaykarlik/whoIsThatPokemon_CNN/blob/master/Ridge%20regression%20add.ipynb\" target=\"_parent\"><img src=\"https://colab.research.google.com/assets/colab-badge.svg\" alt=\"Open In Colab\"/></a>"
      ]
    },
    {
      "cell_type": "markdown",
      "metadata": {
        "id": "UN7SOcusLhx9",
        "colab_type": "text"
      },
      "source": [
        "Mount the Drive"
      ]
    },
    {
      "cell_type": "code",
      "metadata": {
        "id": "38OqdDIgBnmn",
        "colab_type": "code",
        "outputId": "66f7d47f-08c0-46c7-de02-8b0796df7a85",
        "colab": {
          "base_uri": "https://localhost:8080/",
          "height": 34
        }
      },
      "source": [
        "from google.colab import drive\n",
        "drive.mount('/content/gdrive')"
      ],
      "execution_count": 6,
      "outputs": [
        {
          "output_type": "stream",
          "text": [
            "Drive already mounted at /content/gdrive; to attempt to forcibly remount, call drive.mount(\"/content/gdrive\", force_remount=True).\n"
          ],
          "name": "stdout"
        }
      ]
    },
    {
      "cell_type": "markdown",
      "metadata": {
        "id": "vs4L1LuFLkhE",
        "colab_type": "text"
      },
      "source": [
        "Import Libraries"
      ]
    },
    {
      "cell_type": "code",
      "metadata": {
        "id": "XHIhtSNV_-OS",
        "colab_type": "code",
        "colab": {}
      },
      "source": [
        "import numpy as np\n",
        "import matplotlib.pyplot as plt\n",
        "import os\n",
        "import cv2\n",
        "import random\n",
        "from tqdm import tqdm\n",
        "\n"
      ],
      "execution_count": 0,
      "outputs": []
    },
    {
      "cell_type": "markdown",
      "metadata": {
        "id": "yIkQq6ImLd3v",
        "colab_type": "text"
      },
      "source": [
        "Get the Images"
      ]
    },
    {
      "cell_type": "code",
      "metadata": {
        "id": "jEBo0utsGd_Y",
        "colab_type": "code",
        "colab": {}
      },
      "source": [
        "path='/content/gdrive/My Drive/PokemonData'\n",
        "\n",
        "classes = []\n",
        "data = []\n",
        "SIZE = 100\n",
        "\n",
        "\n",
        "def get_data():\n",
        "  cnt = 0\n",
        "  class_no = 0\n",
        "  for dir in tqdm(os.listdir(path)):\n",
        "    classes.append(dir)\n",
        "    dir_path = os.path.join(path,dir)\n",
        "    for img in tqdm(os.listdir(dir_path)):\n",
        "      try:\n",
        "        img_array = cv2.imread(os.path.join(dir_path,img))\n",
        "        resized_array = cv2.resize(img_array,(SIZE,SIZE))\n",
        "        data.append([resized_array,class_no])\n",
        "      except:\n",
        "        pass\n",
        "    class_no += 1\n",
        "get_data()"
      ],
      "execution_count": 0,
      "outputs": []
    },
    {
      "cell_type": "markdown",
      "metadata": {
        "id": "LRidkWDzOC3i",
        "colab_type": "text"
      },
      "source": [
        "Seperate features& labels, convert feature set to numpy array\n",
        "\n"
      ]
    },
    {
      "cell_type": "code",
      "metadata": {
        "id": "PUie6OLWOCm1",
        "colab_type": "code",
        "colab": {}
      },
      "source": [
        "x = []\n",
        "y = []\n",
        "for features,label in data:\n",
        "    x.append(features)\n",
        "    y.append(label)\n",
        "\n",
        "x = np.array(x).reshape(-1, SIZE, SIZE, 3)\n",
        "y = np.array(y)"
      ],
      "execution_count": 0,
      "outputs": []
    },
    {
      "cell_type": "markdown",
      "metadata": {
        "id": "4RnpA8XUOGM6",
        "colab_type": "text"
      },
      "source": [
        "Split Data"
      ]
    },
    {
      "cell_type": "code",
      "metadata": {
        "id": "2FjzKDP6OG5F",
        "colab_type": "code",
        "outputId": "747630ae-ddce-4b4a-83e4-3f1bf81e95ff",
        "colab": {
          "base_uri": "https://localhost:8080/",
          "height": 34
        }
      },
      "source": [
        "test_images = []\n",
        "test_labels = []\n",
        "train_images = []\n",
        "train_labels = []\n",
        "\n",
        "\n",
        "testCnt = 0\n",
        "for i in range(1,len(y)):\n",
        "    if y[i] == y[i-1]:\n",
        "        if testCnt < 5:\n",
        "            test_images.append(x[i-1])\n",
        "            test_labels.append(y[i-1])\n",
        "        else:\n",
        "            train_images.append(x[i-1])\n",
        "            train_labels.append(y[i-1])\n",
        "        testCnt = testCnt + 1\n",
        "    else:\n",
        "        testCnt = 0\n",
        "    \n",
        "test_images = np.array(test_images).reshape(-1, SIZE, SIZE, 3)\n",
        "train_images = np.array(train_images).reshape(-1, SIZE, SIZE, 3)\n",
        "test_labels = np.array(test_labels)\n",
        "train_labels = np.array(train_labels)\n",
        "\n",
        "\n",
        "print(train_images.shape,test_images.shape)"
      ],
      "execution_count": 28,
      "outputs": [
        {
          "output_type": "stream",
          "text": [
            "(465, 100, 100, 3) (70, 100, 100, 3)\n"
          ],
          "name": "stdout"
        }
      ]
    },
    {
      "cell_type": "markdown",
      "metadata": {
        "id": "7m5lEU_Qm4vY",
        "colab_type": "text"
      },
      "source": [
        "CNN"
      ]
    },
    {
      "cell_type": "code",
      "metadata": {
        "id": "pkKunFPdm346",
        "colab_type": "code",
        "colab": {}
      },
      "source": [
        "import tensorflow as tf\n",
        "from tensorflow.keras.models import Sequential\n",
        "from tensorflow.keras.layers import Dense, Conv2D, Flatten, Dropout, MaxPooling2D\n",
        "from tensorflow.keras.preprocessing.image import ImageDataGenerator\n",
        "from tensorflow.keras.callbacks import EarlyStopping\n",
        "from keras import regularizers"
      ],
      "execution_count": 0,
      "outputs": []
    },
    {
      "cell_type": "code",
      "metadata": {
        "id": "fuVcieqapvGX",
        "colab_type": "code",
        "colab": {}
      },
      "source": [
        "train_images, test_images = train_images / 255.0, test_images / 255.0"
      ],
      "execution_count": 0,
      "outputs": []
    },
    {
      "cell_type": "code",
      "metadata": {
        "id": "437HKjjxAVvr",
        "colab_type": "code",
        "colab": {}
      },
      "source": [
        "callback = tf.keras.callbacks.EarlyStopping(monitor='loss', patience=3)"
      ],
      "execution_count": 0,
      "outputs": []
    },
    {
      "cell_type": "code",
      "metadata": {
        "id": "qGOttt2Jp0wQ",
        "colab_type": "code",
        "colab": {}
      },
      "source": [
        "model = Sequential([\n",
        "    Conv2D(32, 3, padding='same', activation='relu', input_shape=(SIZE, SIZE ,3)),\n",
        "    Conv2D(64, 3, padding='same', activation='relu',input_shape=(SIZE, SIZE ,3)),\n",
        "    MaxPooling2D(pool_size=(5, 5),strides=(3, 3), padding='valid'),\n",
        "    Conv2D(64, 3, padding='same', activation='relu'),\n",
        "    MaxPooling2D(pool_size=(5, 5),strides=(3, 3), padding='valid'),\n",
        "    Flatten(),\n",
        "    Dense(512, activation='relu'),\n",
        "    Dropout(0.4),\n",
        "    Dense(150,activity_regularizer=tf.keras.regularizers.l2(0.01))\n",
        "])"
      ],
      "execution_count": 0,
      "outputs": []
    },
    {
      "cell_type": "code",
      "metadata": {
        "id": "ST5HcHU1vOqZ",
        "colab_type": "code",
        "colab": {}
      },
      "source": [
        "model.compile(optimizer='rmsprop',\n",
        "              loss=tf.keras.losses.SparseCategoricalCrossentropy(from_logits=True),\n",
        "              metrics=['accuracy'] )\n",
        "history = model.fit(train_images, train_labels, epochs=150, \n",
        "                    validation_data=(test_images, test_labels), callbacks=[callback])"
      ],
      "execution_count": 0,
      "outputs": []
    },
    {
      "cell_type": "code",
      "metadata": {
        "id": "OMtr_V28u88C",
        "colab_type": "code",
        "colab": {}
      },
      "source": [
        "for train, test in kFold.split(X, Y):\n",
        "    train_evaluate(model, X[train], Y[train], X[test], Y[test])"
      ],
      "execution_count": 0,
      "outputs": []
    }
  ]
}