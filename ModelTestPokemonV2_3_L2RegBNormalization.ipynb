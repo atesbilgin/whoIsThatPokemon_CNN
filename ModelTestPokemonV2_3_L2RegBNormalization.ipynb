{
  "nbformat": 4,
  "nbformat_minor": 0,
  "metadata": {
    "colab": {
      "name": "ModelTestPokemonV2.3-L2RegBNormalization",
      "provenance": [],
      "authorship_tag": "ABX9TyOIMeqhTuPLW28xge86JJv3",
      "include_colab_link": true
    },
    "kernelspec": {
      "name": "python3",
      "display_name": "Python 3"
    },
    "accelerator": "GPU"
  },
  "cells": [
    {
      "cell_type": "markdown",
      "metadata": {
        "id": "view-in-github",
        "colab_type": "text"
      },
      "source": [
        "<a href=\"https://colab.research.google.com/github/berkaykarlik/whoIsThatPokemon_CNN/blob/master/ModelTestPokemonV2_3_L2RegBNormalization.ipynb\" target=\"_parent\"><img src=\"https://colab.research.google.com/assets/colab-badge.svg\" alt=\"Open In Colab\"/></a>"
      ]
    },
    {
      "cell_type": "markdown",
      "metadata": {
        "id": "7m5E-nDYJJBQ",
        "colab_type": "text"
      },
      "source": [
        "Login Kaggle"
      ]
    },
    {
      "cell_type": "code",
      "metadata": {
        "id": "UbQbpGzoH0Pz",
        "colab_type": "code",
        "colab": {}
      },
      "source": [
        "from google.colab import files\n",
        "uploaded = files.upload()\n",
        "!mkdir ~/.kaggle\n",
        "!cp /content/kaggle.json ~/.kaggle/kaggle.json"
      ],
      "execution_count": 0,
      "outputs": []
    },
    {
      "cell_type": "markdown",
      "metadata": {
        "id": "UiA1d69SJNpr",
        "colab_type": "text"
      },
      "source": [
        "Download dataset"
      ]
    },
    {
      "cell_type": "code",
      "metadata": {
        "id": "fDEMLRttIOnW",
        "colab_type": "code",
        "colab": {}
      },
      "source": [
        "!kaggle datasets download -d lantian773030/pokemonclassification\n",
        "!unzip pokemonclassification.zip"
      ],
      "execution_count": 0,
      "outputs": []
    },
    {
      "cell_type": "markdown",
      "metadata": {
        "id": "CQO2IfTDJQny",
        "colab_type": "text"
      },
      "source": [
        "Libraries from Ates"
      ]
    },
    {
      "cell_type": "code",
      "metadata": {
        "id": "jXFLQoVqJTRI",
        "colab_type": "code",
        "colab": {}
      },
      "source": [
        "import numpy as np\n",
        "import matplotlib.pyplot as plt\n",
        "import os\n",
        "import cv2\n",
        "import random\n",
        "from tqdm import tqdm"
      ],
      "execution_count": 0,
      "outputs": []
    },
    {
      "cell_type": "markdown",
      "metadata": {
        "id": "67zNmWKDJ6by",
        "colab_type": "text"
      },
      "source": [
        "Get Images from Ates"
      ]
    },
    {
      "cell_type": "code",
      "metadata": {
        "id": "1voYQQZ7KIPU",
        "colab_type": "code",
        "colab": {}
      },
      "source": [
        "path='/content/PokemonData'\n",
        "\n",
        "classes = []\n",
        "data = []\n",
        "SIZE = 100\n",
        "\n",
        "\n",
        "def get_data():\n",
        "  cnt = 0\n",
        "  class_no = 0\n",
        "  for dir in tqdm(os.listdir(path)):\n",
        "    classes.append(dir)\n",
        "    dir_path = os.path.join(path,dir)\n",
        "    for img in tqdm(os.listdir(dir_path)):\n",
        "      try:\n",
        "        img_array = cv2.imread(os.path.join(dir_path,img))\n",
        "        resized_array = cv2.resize(img_array,(SIZE,SIZE))\n",
        "        data.append([resized_array,class_no])\n",
        "      except:\n",
        "        pass\n",
        "    class_no += 1\n",
        "get_data()"
      ],
      "execution_count": 0,
      "outputs": []
    },
    {
      "cell_type": "markdown",
      "metadata": {
        "id": "GoCu8N_NKNHO",
        "colab_type": "text"
      },
      "source": [
        "Seperate Features and Labels from Ates"
      ]
    },
    {
      "cell_type": "code",
      "metadata": {
        "id": "ZYhqXt3-KQ4e",
        "colab_type": "code",
        "colab": {}
      },
      "source": [
        "x = []\n",
        "y = []\n",
        "for features,label in data:\n",
        "    x.append(features)\n",
        "    y.append(label)\n",
        "\n",
        "x = np.array(x).reshape(-1, SIZE, SIZE, 3)\n",
        "y = np.array(y)"
      ],
      "execution_count": 0,
      "outputs": []
    },
    {
      "cell_type": "markdown",
      "metadata": {
        "id": "jY1-suPjKTgA",
        "colab_type": "text"
      },
      "source": [
        "Split Data from Ates"
      ]
    },
    {
      "cell_type": "code",
      "metadata": {
        "id": "Yxhl2m9PKUlI",
        "colab_type": "code",
        "outputId": "06c2d866-25ab-4b65-8248-6905d7e72563",
        "colab": {
          "base_uri": "https://localhost:8080/",
          "height": 34
        }
      },
      "source": [
        "test_images = []\n",
        "test_labels = []\n",
        "train_images = []\n",
        "train_labels = []\n",
        "\n",
        "\n",
        "testCnt = 0\n",
        "for i in range(1,len(y)):\n",
        "    if y[i] == y[i-1]:\n",
        "        if testCnt < 5:\n",
        "            test_images.append(x[i-1])\n",
        "            test_labels.append(y[i-1])\n",
        "        else:\n",
        "            train_images.append(x[i-1])\n",
        "            train_labels.append(y[i-1])\n",
        "        testCnt = testCnt + 1\n",
        "    else:\n",
        "        testCnt = 0\n",
        "    \n",
        "test_images = np.array(test_images).reshape(-1, SIZE, SIZE, 3)\n",
        "train_images = np.array(train_images).reshape(-1, SIZE, SIZE, 3)\n",
        "test_labels = np.array(test_labels)\n",
        "train_labels = np.array(train_labels)\n",
        "\n",
        "\n",
        "print(train_images.shape,test_images.shape)"
      ],
      "execution_count": 6,
      "outputs": [
        {
          "output_type": "stream",
          "text": [
            "(5925, 100, 100, 3) (750, 100, 100, 3)\n"
          ],
          "name": "stdout"
        }
      ]
    },
    {
      "cell_type": "markdown",
      "metadata": {
        "id": "Dr5v4MN6KluP",
        "colab_type": "text"
      },
      "source": [
        "TF libraries from Ates"
      ]
    },
    {
      "cell_type": "code",
      "metadata": {
        "id": "zX3KAEi4KpHv",
        "colab_type": "code",
        "outputId": "e8d97e66-5d40-42a8-db8e-efc5bd6784af",
        "colab": {
          "base_uri": "https://localhost:8080/",
          "height": 34
        }
      },
      "source": [
        "import tensorflow as tf\n",
        "from tensorflow.keras.models import Sequential\n",
        "from tensorflow.keras.layers import Dense, Conv2D, Flatten, Dropout, MaxPooling2D, BatchNormalization\n",
        "from tensorflow.keras.preprocessing.image import ImageDataGenerator\n",
        "from tensorflow.keras.callbacks import EarlyStopping\n",
        "from keras import regularizers\n",
        "from sklearn.model_selection import train_test_split"
      ],
      "execution_count": 7,
      "outputs": [
        {
          "output_type": "stream",
          "text": [
            "Using TensorFlow backend.\n"
          ],
          "name": "stderr"
        }
      ]
    },
    {
      "cell_type": "markdown",
      "metadata": {
        "id": "AnZAtIOZKqu_",
        "colab_type": "text"
      },
      "source": [
        "Model Settings from Ates"
      ]
    },
    {
      "cell_type": "code",
      "metadata": {
        "id": "7SMDsxhoK5VB",
        "colab_type": "code",
        "colab": {}
      },
      "source": [
        "train_images, test_images = train_images / 255.0, test_images / 255.0\n",
        "callback = tf.keras.callbacks.EarlyStopping(monitor='loss', patience=3)"
      ],
      "execution_count": 0,
      "outputs": []
    },
    {
      "cell_type": "markdown",
      "metadata": {
        "id": "0j-wln6zLBfE",
        "colab_type": "text"
      },
      "source": [
        "Model from Onur"
      ]
    },
    {
      "cell_type": "code",
      "metadata": {
        "id": "LWabBE2bLCsK",
        "colab_type": "code",
        "outputId": "6c25c445-abb4-481f-84b3-553b8b4784e3",
        "colab": {
          "base_uri": "https://localhost:8080/",
          "height": 748
        }
      },
      "source": [
        "model = Sequential([\n",
        "                                 Conv2D(32, kernel_size=(3,3), activation='relu', padding='same', input_shape = (SIZE, SIZE, 3)),\n",
        "                                 Conv2D(32, kernel_size=(3,3), activation='relu', padding='same'),\n",
        "                                 MaxPooling2D(pool_size=(2,2), strides=2, padding='valid'),\n",
        "                                 Dropout(0.0),\n",
        "                                 Conv2D(64, kernel_size=(5,5), activation='relu', padding='same'),\n",
        "                                 Conv2D(64, kernel_size=(5,5), activation='relu', padding='same'),\n",
        "                                 MaxPooling2D(pool_size=(2,2), strides=2, padding='valid'),\n",
        "                                 Dropout(0.0),\n",
        "                                 Conv2D(128, kernel_size=(7,7), activation='relu', padding='same'),\n",
        "                                 Conv2D(128, kernel_size=(7,7), activation='relu', padding='same'),\n",
        "                                 MaxPooling2D(pool_size=(4,4), strides=2, padding='valid'),\n",
        "                                 Dropout(0.0),\n",
        "                                 Flatten(),\n",
        "                                 Dense(256, activation='relu'),\n",
        "                                 BatchNormalization(),\n",
        "                                 Dropout(0.0),\n",
        "                                 Dense(150, activity_regularizer=tf.keras.regularizers.l2(0.01))\n",
        "])\n",
        "print(model.summary())"
      ],
      "execution_count": 9,
      "outputs": [
        {
          "output_type": "stream",
          "text": [
            "Model: \"sequential\"\n",
            "_________________________________________________________________\n",
            "Layer (type)                 Output Shape              Param #   \n",
            "=================================================================\n",
            "conv2d (Conv2D)              (None, 100, 100, 32)      896       \n",
            "_________________________________________________________________\n",
            "conv2d_1 (Conv2D)            (None, 100, 100, 32)      9248      \n",
            "_________________________________________________________________\n",
            "max_pooling2d (MaxPooling2D) (None, 50, 50, 32)        0         \n",
            "_________________________________________________________________\n",
            "dropout (Dropout)            (None, 50, 50, 32)        0         \n",
            "_________________________________________________________________\n",
            "conv2d_2 (Conv2D)            (None, 50, 50, 64)        51264     \n",
            "_________________________________________________________________\n",
            "conv2d_3 (Conv2D)            (None, 50, 50, 64)        102464    \n",
            "_________________________________________________________________\n",
            "max_pooling2d_1 (MaxPooling2 (None, 25, 25, 64)        0         \n",
            "_________________________________________________________________\n",
            "dropout_1 (Dropout)          (None, 25, 25, 64)        0         \n",
            "_________________________________________________________________\n",
            "conv2d_4 (Conv2D)            (None, 25, 25, 128)       401536    \n",
            "_________________________________________________________________\n",
            "conv2d_5 (Conv2D)            (None, 25, 25, 128)       802944    \n",
            "_________________________________________________________________\n",
            "max_pooling2d_2 (MaxPooling2 (None, 11, 11, 128)       0         \n",
            "_________________________________________________________________\n",
            "dropout_2 (Dropout)          (None, 11, 11, 128)       0         \n",
            "_________________________________________________________________\n",
            "flatten (Flatten)            (None, 15488)             0         \n",
            "_________________________________________________________________\n",
            "dense (Dense)                (None, 256)               3965184   \n",
            "_________________________________________________________________\n",
            "batch_normalization (BatchNo (None, 256)               1024      \n",
            "_________________________________________________________________\n",
            "dropout_3 (Dropout)          (None, 256)               0         \n",
            "_________________________________________________________________\n",
            "dense_1 (Dense)              (None, 150)               38550     \n",
            "=================================================================\n",
            "Total params: 5,373,110\n",
            "Trainable params: 5,372,598\n",
            "Non-trainable params: 512\n",
            "_________________________________________________________________\n",
            "None\n"
          ],
          "name": "stdout"
        }
      ]
    },
    {
      "cell_type": "markdown",
      "metadata": {
        "id": "lWcuVB_HLEoe",
        "colab_type": "text"
      },
      "source": [
        "Compile and Fit"
      ]
    },
    {
      "cell_type": "code",
      "metadata": {
        "id": "cLAM_qSoLG_W",
        "colab_type": "code",
        "outputId": "f47651d0-e46e-43b2-ce87-abc0e60f7fac",
        "colab": {
          "base_uri": "https://localhost:8080/",
          "height": 1000
        }
      },
      "source": [
        "model.compile(optimizer='rmsprop',\n",
        "              loss=tf.keras.losses.SparseCategoricalCrossentropy(from_logits=True),\n",
        "              metrics=['accuracy'] )\n",
        "x_train, x_valid, y_train, y_valid = train_test_split(train_images, train_labels, test_size=0.33, shuffle= True)\n",
        "history = model.fit(x_train, y_train, epochs=150, validation_data=(x_valid, y_valid), callbacks=[callback], shuffle=True)"
      ],
      "execution_count": 10,
      "outputs": [
        {
          "output_type": "stream",
          "text": [
            "Epoch 1/150\n",
            "125/125 [==============================] - 9s 68ms/step - loss: 4.9818 - accuracy: 0.0350 - val_loss: 9.9419 - val_accuracy: 0.0210\n",
            "Epoch 2/150\n",
            "125/125 [==============================] - 8s 65ms/step - loss: 4.8196 - accuracy: 0.0811 - val_loss: 6.3151 - val_accuracy: 0.0373\n",
            "Epoch 3/150\n",
            "125/125 [==============================] - 8s 65ms/step - loss: 4.5766 - accuracy: 0.1852 - val_loss: 4.9469 - val_accuracy: 0.1493\n",
            "Epoch 4/150\n",
            "125/125 [==============================] - 8s 65ms/step - loss: 4.2961 - accuracy: 0.2897 - val_loss: 4.7695 - val_accuracy: 0.2372\n",
            "Epoch 5/150\n",
            "125/125 [==============================] - 8s 65ms/step - loss: 3.9844 - accuracy: 0.3961 - val_loss: 5.3810 - val_accuracy: 0.1815\n",
            "Epoch 6/150\n",
            "125/125 [==============================] - 8s 65ms/step - loss: 3.6661 - accuracy: 0.5132 - val_loss: 23.8020 - val_accuracy: 0.3446\n",
            "Epoch 7/150\n",
            "125/125 [==============================] - 8s 65ms/step - loss: 3.3496 - accuracy: 0.6274 - val_loss: 4.4502 - val_accuracy: 0.3778\n",
            "Epoch 8/150\n",
            "125/125 [==============================] - 8s 65ms/step - loss: 3.0323 - accuracy: 0.7236 - val_loss: 4.2868 - val_accuracy: 0.4213\n",
            "Epoch 9/150\n",
            "125/125 [==============================] - 8s 65ms/step - loss: 2.7649 - accuracy: 0.8057 - val_loss: 271.4456 - val_accuracy: 0.4080\n",
            "Epoch 10/150\n",
            "125/125 [==============================] - 8s 65ms/step - loss: 2.5095 - accuracy: 0.8793 - val_loss: 4.3441 - val_accuracy: 0.4422\n",
            "Epoch 11/150\n",
            "125/125 [==============================] - 8s 65ms/step - loss: 2.2959 - accuracy: 0.9166 - val_loss: 29.6629 - val_accuracy: 0.4923\n",
            "Epoch 12/150\n",
            "125/125 [==============================] - 8s 65ms/step - loss: 2.1113 - accuracy: 0.9489 - val_loss: 37.0613 - val_accuracy: 0.4934\n",
            "Epoch 13/150\n",
            "125/125 [==============================] - 8s 65ms/step - loss: 1.9427 - accuracy: 0.9685 - val_loss: 303.4313 - val_accuracy: 0.4780\n",
            "Epoch 14/150\n",
            "125/125 [==============================] - 8s 65ms/step - loss: 1.8182 - accuracy: 0.9781 - val_loss: 3.8286 - val_accuracy: 0.5118\n",
            "Epoch 15/150\n",
            "125/125 [==============================] - 8s 65ms/step - loss: 1.7026 - accuracy: 0.9861 - val_loss: 4.0074 - val_accuracy: 0.5245\n",
            "Epoch 16/150\n",
            "125/125 [==============================] - 8s 65ms/step - loss: 1.6094 - accuracy: 0.9892 - val_loss: 28.5189 - val_accuracy: 0.5046\n",
            "Epoch 17/150\n",
            "125/125 [==============================] - 8s 65ms/step - loss: 1.5435 - accuracy: 0.9932 - val_loss: 11.5757 - val_accuracy: 0.5164\n",
            "Epoch 18/150\n",
            "125/125 [==============================] - 8s 65ms/step - loss: 1.4838 - accuracy: 0.9945 - val_loss: 6.4795 - val_accuracy: 0.4898\n",
            "Epoch 19/150\n",
            "125/125 [==============================] - 8s 64ms/step - loss: 1.4175 - accuracy: 0.9967 - val_loss: 3.7472 - val_accuracy: 0.5153\n",
            "Epoch 20/150\n",
            "125/125 [==============================] - 8s 65ms/step - loss: 1.3791 - accuracy: 0.9970 - val_loss: 36.2190 - val_accuracy: 0.4816\n",
            "Epoch 21/150\n",
            "125/125 [==============================] - 8s 65ms/step - loss: 1.3379 - accuracy: 0.9977 - val_loss: 5.2316 - val_accuracy: 0.5215\n",
            "Epoch 22/150\n",
            "125/125 [==============================] - 8s 65ms/step - loss: 1.3090 - accuracy: 0.9975 - val_loss: 3.9442 - val_accuracy: 0.5046\n",
            "Epoch 23/150\n",
            "125/125 [==============================] - 8s 64ms/step - loss: 1.2830 - accuracy: 0.9982 - val_loss: 151.4840 - val_accuracy: 0.5189\n",
            "Epoch 24/150\n",
            "125/125 [==============================] - 8s 64ms/step - loss: 1.2613 - accuracy: 0.9980 - val_loss: 64.2218 - val_accuracy: 0.5179\n",
            "Epoch 25/150\n",
            "125/125 [==============================] - 8s 64ms/step - loss: 1.2369 - accuracy: 0.9977 - val_loss: 29.5410 - val_accuracy: 0.5138\n",
            "Epoch 26/150\n",
            "125/125 [==============================] - 8s 65ms/step - loss: 1.2169 - accuracy: 0.9977 - val_loss: 3.6846 - val_accuracy: 0.5158\n",
            "Epoch 27/150\n",
            "125/125 [==============================] - 8s 65ms/step - loss: 1.2074 - accuracy: 0.9982 - val_loss: 37.9562 - val_accuracy: 0.5051\n",
            "Epoch 28/150\n",
            "125/125 [==============================] - 8s 64ms/step - loss: 1.1860 - accuracy: 0.9980 - val_loss: 3.7007 - val_accuracy: 0.5230\n",
            "Epoch 29/150\n",
            "125/125 [==============================] - 8s 64ms/step - loss: 1.1763 - accuracy: 0.9982 - val_loss: 3.7765 - val_accuracy: 0.5133\n",
            "Epoch 30/150\n",
            "125/125 [==============================] - 8s 65ms/step - loss: 1.1689 - accuracy: 0.9980 - val_loss: 379.3579 - val_accuracy: 0.5102\n",
            "Epoch 31/150\n",
            "125/125 [==============================] - 8s 64ms/step - loss: 1.1614 - accuracy: 0.9982 - val_loss: 16.5878 - val_accuracy: 0.5066\n",
            "Epoch 32/150\n",
            "125/125 [==============================] - 8s 64ms/step - loss: 1.1481 - accuracy: 0.9985 - val_loss: 52.2101 - val_accuracy: 0.5184\n",
            "Epoch 33/150\n",
            "125/125 [==============================] - 8s 65ms/step - loss: 1.1389 - accuracy: 0.9985 - val_loss: 291.2947 - val_accuracy: 0.5010\n",
            "Epoch 34/150\n",
            "125/125 [==============================] - 8s 65ms/step - loss: 1.1393 - accuracy: 0.9985 - val_loss: 30.9086 - val_accuracy: 0.5077\n",
            "Epoch 35/150\n",
            "125/125 [==============================] - 8s 64ms/step - loss: 1.1293 - accuracy: 0.9985 - val_loss: 11.2596 - val_accuracy: 0.5210\n",
            "Epoch 36/150\n",
            "125/125 [==============================] - 8s 65ms/step - loss: 1.1225 - accuracy: 0.9990 - val_loss: 3.6901 - val_accuracy: 0.5138\n",
            "Epoch 37/150\n",
            "125/125 [==============================] - 8s 64ms/step - loss: 1.1190 - accuracy: 0.9982 - val_loss: 61.9072 - val_accuracy: 0.4974\n",
            "Epoch 38/150\n",
            "125/125 [==============================] - 8s 65ms/step - loss: 1.1115 - accuracy: 0.9990 - val_loss: 27.1333 - val_accuracy: 0.5020\n",
            "Epoch 39/150\n",
            "125/125 [==============================] - 8s 64ms/step - loss: 1.1099 - accuracy: 0.9987 - val_loss: 11.3533 - val_accuracy: 0.5143\n",
            "Epoch 40/150\n",
            "125/125 [==============================] - 8s 64ms/step - loss: 1.1084 - accuracy: 0.9985 - val_loss: 3.7015 - val_accuracy: 0.5133\n",
            "Epoch 41/150\n",
            "125/125 [==============================] - 8s 64ms/step - loss: 1.1019 - accuracy: 0.9987 - val_loss: 1719.6995 - val_accuracy: 0.4990\n",
            "Epoch 42/150\n",
            "125/125 [==============================] - 8s 65ms/step - loss: 1.0970 - accuracy: 0.9990 - val_loss: 3.7581 - val_accuracy: 0.5000\n",
            "Epoch 43/150\n",
            "125/125 [==============================] - 8s 65ms/step - loss: 1.0940 - accuracy: 0.9987 - val_loss: 3.6708 - val_accuracy: 0.5133\n",
            "Epoch 44/150\n",
            "125/125 [==============================] - 8s 65ms/step - loss: 1.0942 - accuracy: 0.9985 - val_loss: 4.0264 - val_accuracy: 0.5056\n",
            "Epoch 45/150\n",
            "125/125 [==============================] - 8s 65ms/step - loss: 1.0887 - accuracy: 0.9985 - val_loss: 3.6838 - val_accuracy: 0.5056\n",
            "Epoch 46/150\n",
            "125/125 [==============================] - 8s 65ms/step - loss: 1.0858 - accuracy: 0.9985 - val_loss: 3.7267 - val_accuracy: 0.5015\n",
            "Epoch 47/150\n",
            "125/125 [==============================] - 8s 66ms/step - loss: 1.0892 - accuracy: 0.9987 - val_loss: 3.7549 - val_accuracy: 0.5036\n",
            "Epoch 48/150\n",
            "125/125 [==============================] - 8s 65ms/step - loss: 1.0861 - accuracy: 0.9990 - val_loss: 477.1971 - val_accuracy: 0.5087\n",
            "Epoch 49/150\n",
            "125/125 [==============================] - 8s 65ms/step - loss: 1.0841 - accuracy: 0.9987 - val_loss: 3.7052 - val_accuracy: 0.5051\n",
            "Epoch 50/150\n",
            "125/125 [==============================] - 8s 64ms/step - loss: 1.0810 - accuracy: 0.9987 - val_loss: 3.6875 - val_accuracy: 0.5199\n",
            "Epoch 51/150\n",
            "125/125 [==============================] - 8s 65ms/step - loss: 1.0789 - accuracy: 0.9985 - val_loss: 157.0617 - val_accuracy: 0.5061\n",
            "Epoch 52/150\n",
            "125/125 [==============================] - 8s 65ms/step - loss: 1.0814 - accuracy: 0.9982 - val_loss: 4.2114 - val_accuracy: 0.5138\n",
            "Epoch 53/150\n",
            "125/125 [==============================] - 8s 65ms/step - loss: 1.0758 - accuracy: 0.9985 - val_loss: 3.7390 - val_accuracy: 0.5020\n",
            "Epoch 54/150\n",
            "125/125 [==============================] - 8s 66ms/step - loss: 1.0754 - accuracy: 0.9987 - val_loss: 4.1689 - val_accuracy: 0.5010\n",
            "Epoch 55/150\n",
            "125/125 [==============================] - 8s 66ms/step - loss: 1.0752 - accuracy: 0.9987 - val_loss: 1383.2421 - val_accuracy: 0.5097\n",
            "Epoch 56/150\n",
            "125/125 [==============================] - 8s 66ms/step - loss: 1.0723 - accuracy: 0.9987 - val_loss: 3.7046 - val_accuracy: 0.5005\n",
            "Epoch 57/150\n",
            "125/125 [==============================] - 8s 66ms/step - loss: 1.0721 - accuracy: 0.9987 - val_loss: 3.7140 - val_accuracy: 0.5087\n",
            "Epoch 58/150\n",
            "125/125 [==============================] - 8s 66ms/step - loss: 1.0701 - accuracy: 0.9990 - val_loss: 1112.4943 - val_accuracy: 0.5061\n",
            "Epoch 59/150\n",
            "125/125 [==============================] - 8s 66ms/step - loss: 1.0719 - accuracy: 0.9990 - val_loss: 405.1447 - val_accuracy: 0.5169\n",
            "Epoch 60/150\n",
            "125/125 [==============================] - 8s 66ms/step - loss: 1.0704 - accuracy: 0.9990 - val_loss: 13.1593 - val_accuracy: 0.5138\n",
            "Epoch 61/150\n",
            "125/125 [==============================] - 8s 65ms/step - loss: 1.0655 - accuracy: 0.9992 - val_loss: 3.7003 - val_accuracy: 0.5092\n",
            "Epoch 62/150\n",
            "125/125 [==============================] - 8s 66ms/step - loss: 1.0694 - accuracy: 0.9987 - val_loss: 789.6312 - val_accuracy: 0.4974\n",
            "Epoch 63/150\n",
            "125/125 [==============================] - 8s 66ms/step - loss: 1.0676 - accuracy: 0.9995 - val_loss: 618.5680 - val_accuracy: 0.5061\n",
            "Epoch 64/150\n",
            "125/125 [==============================] - 8s 66ms/step - loss: 1.0645 - accuracy: 0.9990 - val_loss: 5795.3184 - val_accuracy: 0.5015\n",
            "Epoch 65/150\n",
            "125/125 [==============================] - 8s 66ms/step - loss: 1.0629 - accuracy: 0.9990 - val_loss: 3.7157 - val_accuracy: 0.4934\n",
            "Epoch 66/150\n",
            "125/125 [==============================] - 8s 66ms/step - loss: 1.0653 - accuracy: 0.9987 - val_loss: 3.6750 - val_accuracy: 0.5077\n",
            "Epoch 67/150\n",
            "125/125 [==============================] - 8s 65ms/step - loss: 1.0648 - accuracy: 0.9985 - val_loss: 48.2423 - val_accuracy: 0.5036\n",
            "Epoch 68/150\n",
            "125/125 [==============================] - 8s 66ms/step - loss: 1.0626 - accuracy: 0.9985 - val_loss: 551.4683 - val_accuracy: 0.5123\n",
            "Epoch 69/150\n",
            "125/125 [==============================] - 8s 66ms/step - loss: 1.0629 - accuracy: 0.9992 - val_loss: 615.7806 - val_accuracy: 0.5005\n",
            "Epoch 70/150\n",
            "125/125 [==============================] - 8s 66ms/step - loss: 1.0610 - accuracy: 0.9990 - val_loss: 9458.6299 - val_accuracy: 0.5158\n",
            "Epoch 71/150\n",
            "125/125 [==============================] - 8s 66ms/step - loss: 1.0635 - accuracy: 0.9987 - val_loss: 3.7110 - val_accuracy: 0.5056\n",
            "Epoch 72/150\n",
            "125/125 [==============================] - 8s 66ms/step - loss: 1.0645 - accuracy: 0.9992 - val_loss: 3.7374 - val_accuracy: 0.5010\n",
            "Epoch 73/150\n",
            "125/125 [==============================] - 8s 65ms/step - loss: 1.0631 - accuracy: 0.9987 - val_loss: 6817.5205 - val_accuracy: 0.5148\n"
          ],
          "name": "stdout"
        }
      ]
    },
    {
      "cell_type": "markdown",
      "metadata": {
        "id": "OH3ZtTEgZeo_",
        "colab_type": "text"
      },
      "source": [
        "Evaluation on Test Set"
      ]
    },
    {
      "cell_type": "code",
      "metadata": {
        "id": "Mvkhj1ZxZvuH",
        "colab_type": "code",
        "outputId": "7b8e7c83-a84f-4ac4-ee87-d8ed6c74b725",
        "colab": {
          "base_uri": "https://localhost:8080/",
          "height": 51
        }
      },
      "source": [
        "loss, accuracy = model.evaluate(test_images, test_labels)\n",
        "\n",
        "print(\"Test Loss:%.4f, Accuracy: %.4f\" %(loss,accuracy))"
      ],
      "execution_count": 11,
      "outputs": [
        {
          "output_type": "stream",
          "text": [
            "24/24 [==============================] - 1s 24ms/step - loss: 3.7997 - accuracy: 0.4920\n",
            "Test Loss:3.7997, Accuracy: 0.4920\n"
          ],
          "name": "stdout"
        }
      ]
    },
    {
      "cell_type": "markdown",
      "metadata": {
        "id": "JxGIakJEacMT",
        "colab_type": "text"
      },
      "source": [
        "Plot for Statistics"
      ]
    },
    {
      "cell_type": "code",
      "metadata": {
        "id": "Cux-SW4uad4u",
        "colab_type": "code",
        "outputId": "d50e9ac2-6115-4f8e-a755-f50349f2fc8b",
        "colab": {
          "base_uri": "https://localhost:8080/",
          "height": 281
        }
      },
      "source": [
        "plt.subplot(211)\n",
        "plt.title('Loss')\n",
        "plt.plot(history.history['loss'], label='train')\n",
        "plt.plot(history.history['val_loss'], label='valid')\n",
        "plt.legend()\n",
        "\n",
        "plt.subplot(212)\n",
        "plt.title('Accuracy')\n",
        "plt.plot(history.history['accuracy'], label='train')\n",
        "plt.plot(history.history['val_accuracy'], label='valid')\n",
        "plt.legend()\n",
        "plt.show()"
      ],
      "execution_count": 12,
      "outputs": [
        {
          "output_type": "display_data",
          "data": {
            "image/png": "[encoded data removed]",
            "text/plain": [
              "<Figure size 432x288 with 2 Axes>"
            ]
          },
          "metadata": {
            "tags": [],
            "needs_background": "light"
          }
        }
      ]
    }
  ]
}