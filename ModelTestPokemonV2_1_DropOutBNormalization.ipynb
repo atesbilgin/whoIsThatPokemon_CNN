{
  "nbformat": 4,
  "nbformat_minor": 0,
  "metadata": {
    "colab": {
      "name": "ModelTestPokemonV2.1-DropOutBNormalization",
      "provenance": [],
      "authorship_tag": "ABX9TyNRZPUwsk3wVGpY1RqFHw9z",
      "include_colab_link": true
    },
    "kernelspec": {
      "name": "python3",
      "display_name": "Python 3"
    },
    "accelerator": "GPU"
  },
  "cells": [
    {
      "cell_type": "markdown",
      "metadata": {
        "id": "view-in-github",
        "colab_type": "text"
      },
      "source": [
        "<a href=\"https://colab.research.google.com/github/berkaykarlik/whoIsThatPokemon_CNN/blob/master/ModelTestPokemonV2_1_DropOutBNormalization.ipynb\" target=\"_parent\"><img src=\"https://colab.research.google.com/assets/colab-badge.svg\" alt=\"Open In Colab\"/></a>"
      ]
    },
    {
      "cell_type": "markdown",
      "metadata": {
        "id": "7m5E-nDYJJBQ",
        "colab_type": "text"
      },
      "source": [
        "Login Kaggle"
      ]
    },
    {
      "cell_type": "code",
      "metadata": {
        "id": "UbQbpGzoH0Pz",
        "colab_type": "code",
        "colab": {}
      },
      "source": [
        "from google.colab import files\n",
        "uploaded = files.upload()\n",
        "!mkdir ~/.kaggle\n",
        "!cp /content/kaggle.json ~/.kaggle/kaggle.json"
      ],
      "execution_count": 0,
      "outputs": []
    },
    {
      "cell_type": "markdown",
      "metadata": {
        "id": "UiA1d69SJNpr",
        "colab_type": "text"
      },
      "source": [
        "Download dataset"
      ]
    },
    {
      "cell_type": "code",
      "metadata": {
        "id": "fDEMLRttIOnW",
        "colab_type": "code",
        "colab": {}
      },
      "source": [
        "!kaggle datasets download -d lantian773030/pokemonclassification\n",
        "!unzip pokemonclassification.zip"
      ],
      "execution_count": 0,
      "outputs": []
    },
    {
      "cell_type": "markdown",
      "metadata": {
        "id": "CQO2IfTDJQny",
        "colab_type": "text"
      },
      "source": [
        "Libraries from Ates"
      ]
    },
    {
      "cell_type": "code",
      "metadata": {
        "id": "jXFLQoVqJTRI",
        "colab_type": "code",
        "colab": {}
      },
      "source": [
        "import numpy as np\n",
        "import matplotlib.pyplot as plt\n",
        "import os\n",
        "import cv2\n",
        "import random\n",
        "from tqdm import tqdm"
      ],
      "execution_count": 0,
      "outputs": []
    },
    {
      "cell_type": "markdown",
      "metadata": {
        "id": "67zNmWKDJ6by",
        "colab_type": "text"
      },
      "source": [
        "Get Images from Ates"
      ]
    },
    {
      "cell_type": "code",
      "metadata": {
        "id": "1voYQQZ7KIPU",
        "colab_type": "code",
        "colab": {}
      },
      "source": [
        "path='/content/PokemonData'\n",
        "\n",
        "classes = []\n",
        "data = []\n",
        "SIZE = 100\n",
        "\n",
        "\n",
        "def get_data():\n",
        "  cnt = 0\n",
        "  class_no = 0\n",
        "  for dir in tqdm(os.listdir(path)):\n",
        "    classes.append(dir)\n",
        "    dir_path = os.path.join(path,dir)\n",
        "    for img in tqdm(os.listdir(dir_path)):\n",
        "      try:\n",
        "        img_array = cv2.imread(os.path.join(dir_path,img))\n",
        "        resized_array = cv2.resize(img_array,(SIZE,SIZE))\n",
        "        data.append([resized_array,class_no])\n",
        "      except:\n",
        "        pass\n",
        "    class_no += 1\n",
        "get_data()"
      ],
      "execution_count": 0,
      "outputs": []
    },
    {
      "cell_type": "markdown",
      "metadata": {
        "id": "GoCu8N_NKNHO",
        "colab_type": "text"
      },
      "source": [
        "Seperate Features and Labels from Ates"
      ]
    },
    {
      "cell_type": "code",
      "metadata": {
        "id": "ZYhqXt3-KQ4e",
        "colab_type": "code",
        "colab": {}
      },
      "source": [
        "x = []\n",
        "y = []\n",
        "for features,label in data:\n",
        "    x.append(features)\n",
        "    y.append(label)\n",
        "\n",
        "x = np.array(x).reshape(-1, SIZE, SIZE, 3)\n",
        "y = np.array(y)"
      ],
      "execution_count": 0,
      "outputs": []
    },
    {
      "cell_type": "markdown",
      "metadata": {
        "id": "jY1-suPjKTgA",
        "colab_type": "text"
      },
      "source": [
        "Split Data from Ates"
      ]
    },
    {
      "cell_type": "code",
      "metadata": {
        "id": "Yxhl2m9PKUlI",
        "colab_type": "code",
        "outputId": "e67c617a-7a7b-44c1-8ce9-cb49738be2c6",
        "colab": {
          "base_uri": "https://localhost:8080/",
          "height": 34
        }
      },
      "source": [
        "test_images = []\n",
        "test_labels = []\n",
        "train_images = []\n",
        "train_labels = []\n",
        "\n",
        "\n",
        "testCnt = 0\n",
        "for i in range(1,len(y)):\n",
        "    if y[i] == y[i-1]:\n",
        "        if testCnt < 5:\n",
        "            test_images.append(x[i-1])\n",
        "            test_labels.append(y[i-1])\n",
        "        else:\n",
        "            train_images.append(x[i-1])\n",
        "            train_labels.append(y[i-1])\n",
        "        testCnt = testCnt + 1\n",
        "    else:\n",
        "        testCnt = 0\n",
        "    \n",
        "test_images = np.array(test_images).reshape(-1, SIZE, SIZE, 3)\n",
        "train_images = np.array(train_images).reshape(-1, SIZE, SIZE, 3)\n",
        "test_labels = np.array(test_labels)\n",
        "train_labels = np.array(train_labels)\n",
        "\n",
        "\n",
        "print(train_images.shape,test_images.shape)"
      ],
      "execution_count": 4,
      "outputs": [
        {
          "output_type": "stream",
          "text": [
            "(5925, 100, 100, 3) (750, 100, 100, 3)\n"
          ],
          "name": "stdout"
        }
      ]
    },
    {
      "cell_type": "markdown",
      "metadata": {
        "id": "Dr5v4MN6KluP",
        "colab_type": "text"
      },
      "source": [
        "TF libraries from Ates"
      ]
    },
    {
      "cell_type": "code",
      "metadata": {
        "id": "zX3KAEi4KpHv",
        "colab_type": "code",
        "colab": {}
      },
      "source": [
        "import tensorflow as tf\n",
        "from tensorflow.keras.models import Sequential\n",
        "from tensorflow.keras.layers import Dense, Conv2D, Flatten, Dropout, MaxPooling2D, BatchNormalization\n",
        "from tensorflow.keras.preprocessing.image import ImageDataGenerator\n",
        "from tensorflow.keras.callbacks import EarlyStopping\n",
        "from keras import regularizers\n",
        "from sklearn.model_selection import train_test_split"
      ],
      "execution_count": 0,
      "outputs": []
    },
    {
      "cell_type": "markdown",
      "metadata": {
        "id": "AnZAtIOZKqu_",
        "colab_type": "text"
      },
      "source": [
        "Model Settings from Ates"
      ]
    },
    {
      "cell_type": "code",
      "metadata": {
        "id": "7SMDsxhoK5VB",
        "colab_type": "code",
        "colab": {}
      },
      "source": [
        "train_images, test_images = train_images / 255.0, test_images / 255.0\n",
        "callback = tf.keras.callbacks.EarlyStopping(monitor='loss', patience=3)"
      ],
      "execution_count": 0,
      "outputs": []
    },
    {
      "cell_type": "markdown",
      "metadata": {
        "id": "0j-wln6zLBfE",
        "colab_type": "text"
      },
      "source": [
        "Model from Onur"
      ]
    },
    {
      "cell_type": "code",
      "metadata": {
        "id": "LWabBE2bLCsK",
        "colab_type": "code",
        "outputId": "20d709b8-417b-4f5f-b1d1-e06337b29c59",
        "colab": {
          "base_uri": "https://localhost:8080/",
          "height": 748
        }
      },
      "source": [
        "model = Sequential([\n",
        "                                 Conv2D(32, kernel_size=(3,3), activation='relu', padding='same', input_shape = (SIZE, SIZE, 3)),\n",
        "                                 Conv2D(32, kernel_size=(3,3), activation='relu', padding='same'),\n",
        "                                 MaxPooling2D(pool_size=(2,2), strides=2, padding='valid'),\n",
        "                                 Dropout(0.2),\n",
        "                                 Conv2D(64, kernel_size=(5,5), activation='relu', padding='same'),\n",
        "                                 Conv2D(64, kernel_size=(5,5), activation='relu', padding='same'),\n",
        "                                 MaxPooling2D(pool_size=(2,2), strides=2, padding='valid'),\n",
        "                                 Dropout(0.3),\n",
        "                                 Conv2D(128, kernel_size=(7,7), activation='relu', padding='same'),\n",
        "                                 Conv2D(128, kernel_size=(7,7), activation='relu', padding='same'),\n",
        "                                 MaxPooling2D(pool_size=(4,4), strides=2, padding='valid'),\n",
        "                                 Dropout(0.4),\n",
        "                                 Flatten(),\n",
        "                                 Dense(256, activation='relu'),\n",
        "                                 BatchNormalization(),\n",
        "                                 Dropout(0.5),\n",
        "                                 Dense(150)\n",
        "])\n",
        "print(model.summary())"
      ],
      "execution_count": 10,
      "outputs": [
        {
          "output_type": "stream",
          "text": [
            "Model: \"sequential\"\n",
            "_________________________________________________________________\n",
            "Layer (type)                 Output Shape              Param #   \n",
            "=================================================================\n",
            "conv2d_6 (Conv2D)            (None, 100, 100, 32)      896       \n",
            "_________________________________________________________________\n",
            "conv2d_7 (Conv2D)            (None, 100, 100, 32)      9248      \n",
            "_________________________________________________________________\n",
            "max_pooling2d_3 (MaxPooling2 (None, 50, 50, 32)        0         \n",
            "_________________________________________________________________\n",
            "dropout_3 (Dropout)          (None, 50, 50, 32)        0         \n",
            "_________________________________________________________________\n",
            "conv2d_8 (Conv2D)            (None, 50, 50, 64)        51264     \n",
            "_________________________________________________________________\n",
            "conv2d_9 (Conv2D)            (None, 50, 50, 64)        102464    \n",
            "_________________________________________________________________\n",
            "max_pooling2d_4 (MaxPooling2 (None, 25, 25, 64)        0         \n",
            "_________________________________________________________________\n",
            "dropout_4 (Dropout)          (None, 25, 25, 64)        0         \n",
            "_________________________________________________________________\n",
            "conv2d_10 (Conv2D)           (None, 25, 25, 128)       401536    \n",
            "_________________________________________________________________\n",
            "conv2d_11 (Conv2D)           (None, 25, 25, 128)       802944    \n",
            "_________________________________________________________________\n",
            "max_pooling2d_5 (MaxPooling2 (None, 11, 11, 128)       0         \n",
            "_________________________________________________________________\n",
            "dropout_5 (Dropout)          (None, 11, 11, 128)       0         \n",
            "_________________________________________________________________\n",
            "flatten_1 (Flatten)          (None, 15488)             0         \n",
            "_________________________________________________________________\n",
            "dense_1 (Dense)              (None, 256)               3965184   \n",
            "_________________________________________________________________\n",
            "batch_normalization (BatchNo (None, 256)               1024      \n",
            "_________________________________________________________________\n",
            "dropout_6 (Dropout)          (None, 256)               0         \n",
            "_________________________________________________________________\n",
            "dense_2 (Dense)              (None, 150)               38550     \n",
            "=================================================================\n",
            "Total params: 5,373,110\n",
            "Trainable params: 5,372,598\n",
            "Non-trainable params: 512\n",
            "_________________________________________________________________\n",
            "None\n"
          ],
          "name": "stdout"
        }
      ]
    },
    {
      "cell_type": "markdown",
      "metadata": {
        "id": "lWcuVB_HLEoe",
        "colab_type": "text"
      },
      "source": [
        "Compile and Fit"
      ]
    },
    {
      "cell_type": "code",
      "metadata": {
        "id": "cLAM_qSoLG_W",
        "colab_type": "code",
        "outputId": "8d906bd0-7609-4a66-824e-31331baccf87",
        "colab": {
          "base_uri": "https://localhost:8080/",
          "height": 1000
        }
      },
      "source": [
        "model.compile(optimizer='rmsprop',\n",
        "              loss=tf.keras.losses.SparseCategoricalCrossentropy(from_logits=True),\n",
        "              metrics=['accuracy'] )\n",
        "x_train, x_valid, y_train, y_valid = train_test_split(train_images, train_labels, test_size=0.33, shuffle= True)\n",
        "history = model.fit(x_train, y_train, epochs=150, validation_data=(x_valid, y_valid), callbacks=[callback], shuffle=True)"
      ],
      "execution_count": 11,
      "outputs": [
        {
          "output_type": "stream",
          "text": [
            "Epoch 1/150\n",
            "125/125 [==============================] - 9s 68ms/step - loss: 5.0712 - accuracy: 0.0171 - val_loss: 6.9790 - val_accuracy: 0.0082\n",
            "Epoch 2/150\n",
            "125/125 [==============================] - 8s 65ms/step - loss: 4.7397 - accuracy: 0.0375 - val_loss: 4.7079 - val_accuracy: 0.0276\n",
            "Epoch 3/150\n",
            "125/125 [==============================] - 8s 65ms/step - loss: 4.5324 - accuracy: 0.0653 - val_loss: 4.3644 - val_accuracy: 0.0782\n",
            "Epoch 4/150\n",
            "125/125 [==============================] - 8s 65ms/step - loss: 4.2497 - accuracy: 0.1078 - val_loss: 4.1446 - val_accuracy: 0.1109\n",
            "Epoch 5/150\n",
            "125/125 [==============================] - 8s 65ms/step - loss: 3.9748 - accuracy: 0.1504 - val_loss: 3.9599 - val_accuracy: 0.1554\n",
            "Epoch 6/150\n",
            "125/125 [==============================] - 8s 65ms/step - loss: 3.7292 - accuracy: 0.2051 - val_loss: 3.8563 - val_accuracy: 0.2301\n",
            "Epoch 7/150\n",
            "125/125 [==============================] - 8s 65ms/step - loss: 3.5348 - accuracy: 0.2406 - val_loss: 3.7458 - val_accuracy: 0.2439\n",
            "Epoch 8/150\n",
            "125/125 [==============================] - 8s 65ms/step - loss: 3.3065 - accuracy: 0.2915 - val_loss: 3.3481 - val_accuracy: 0.3052\n",
            "Epoch 9/150\n",
            "125/125 [==============================] - 8s 65ms/step - loss: 3.0812 - accuracy: 0.3437 - val_loss: 3.2167 - val_accuracy: 0.3231\n",
            "Epoch 10/150\n",
            "125/125 [==============================] - 8s 65ms/step - loss: 2.8884 - accuracy: 0.3845 - val_loss: 3.2085 - val_accuracy: 0.3354\n",
            "Epoch 11/150\n",
            "125/125 [==============================] - 8s 65ms/step - loss: 2.6429 - accuracy: 0.4417 - val_loss: 3.0397 - val_accuracy: 0.3747\n",
            "Epoch 12/150\n",
            "125/125 [==============================] - 8s 64ms/step - loss: 2.4507 - accuracy: 0.4787 - val_loss: 3.1014 - val_accuracy: 0.3809\n",
            "Epoch 13/150\n",
            "125/125 [==============================] - 8s 65ms/step - loss: 2.2444 - accuracy: 0.5346 - val_loss: 2.7881 - val_accuracy: 0.4274\n",
            "Epoch 14/150\n",
            "125/125 [==============================] - 8s 65ms/step - loss: 2.0447 - accuracy: 0.5808 - val_loss: 2.7322 - val_accuracy: 0.4463\n",
            "Epoch 15/150\n",
            "125/125 [==============================] - 8s 65ms/step - loss: 1.8711 - accuracy: 0.6148 - val_loss: 2.5529 - val_accuracy: 0.4606\n",
            "Epoch 16/150\n",
            "125/125 [==============================] - 8s 64ms/step - loss: 1.6593 - accuracy: 0.6634 - val_loss: 2.4689 - val_accuracy: 0.4714\n",
            "Epoch 17/150\n",
            "125/125 [==============================] - 8s 65ms/step - loss: 1.4739 - accuracy: 0.7123 - val_loss: 2.4607 - val_accuracy: 0.4673\n",
            "Epoch 18/150\n",
            "125/125 [==============================] - 8s 65ms/step - loss: 1.3300 - accuracy: 0.7367 - val_loss: 2.3642 - val_accuracy: 0.4862\n",
            "Epoch 19/150\n",
            "125/125 [==============================] - 8s 65ms/step - loss: 1.2190 - accuracy: 0.7611 - val_loss: 2.4009 - val_accuracy: 0.4862\n",
            "Epoch 20/150\n",
            "125/125 [==============================] - 8s 65ms/step - loss: 1.0848 - accuracy: 0.7881 - val_loss: 2.3841 - val_accuracy: 0.4923\n",
            "Epoch 21/150\n",
            "125/125 [==============================] - 8s 64ms/step - loss: 0.9772 - accuracy: 0.8136 - val_loss: 2.3945 - val_accuracy: 0.4821\n",
            "Epoch 22/150\n",
            "125/125 [==============================] - 8s 65ms/step - loss: 0.8572 - accuracy: 0.8458 - val_loss: 2.3667 - val_accuracy: 0.5061\n",
            "Epoch 23/150\n",
            "125/125 [==============================] - 8s 66ms/step - loss: 0.7819 - accuracy: 0.8564 - val_loss: 2.2896 - val_accuracy: 0.5082\n",
            "Epoch 24/150\n",
            "125/125 [==============================] - 8s 65ms/step - loss: 0.6825 - accuracy: 0.8869 - val_loss: 2.2243 - val_accuracy: 0.5112\n",
            "Epoch 25/150\n",
            "125/125 [==============================] - 8s 65ms/step - loss: 0.6075 - accuracy: 0.8954 - val_loss: 2.3523 - val_accuracy: 0.4903\n",
            "Epoch 26/150\n",
            "125/125 [==============================] - 8s 65ms/step - loss: 0.5577 - accuracy: 0.9131 - val_loss: 2.2104 - val_accuracy: 0.5266\n",
            "Epoch 27/150\n",
            "125/125 [==============================] - 8s 65ms/step - loss: 0.5102 - accuracy: 0.9174 - val_loss: 2.2360 - val_accuracy: 0.5179\n",
            "Epoch 28/150\n",
            "125/125 [==============================] - 8s 65ms/step - loss: 0.4674 - accuracy: 0.9244 - val_loss: 2.2332 - val_accuracy: 0.5225\n",
            "Epoch 29/150\n",
            "125/125 [==============================] - 8s 66ms/step - loss: 0.4439 - accuracy: 0.9292 - val_loss: 2.2213 - val_accuracy: 0.5276\n",
            "Epoch 30/150\n",
            "125/125 [==============================] - 8s 65ms/step - loss: 0.4043 - accuracy: 0.9327 - val_loss: 2.2448 - val_accuracy: 0.5189\n",
            "Epoch 31/150\n",
            "125/125 [==============================] - 8s 65ms/step - loss: 0.3641 - accuracy: 0.9476 - val_loss: 2.2078 - val_accuracy: 0.5179\n",
            "Epoch 32/150\n",
            "125/125 [==============================] - 8s 65ms/step - loss: 0.3560 - accuracy: 0.9418 - val_loss: 2.2346 - val_accuracy: 0.5194\n",
            "Epoch 33/150\n",
            "125/125 [==============================] - 8s 65ms/step - loss: 0.3162 - accuracy: 0.9546 - val_loss: 2.2046 - val_accuracy: 0.5256\n",
            "Epoch 34/150\n",
            "125/125 [==============================] - 8s 65ms/step - loss: 0.3074 - accuracy: 0.9569 - val_loss: 2.2103 - val_accuracy: 0.5307\n",
            "Epoch 35/150\n",
            "125/125 [==============================] - 8s 65ms/step - loss: 0.2739 - accuracy: 0.9652 - val_loss: 2.2911 - val_accuracy: 0.5204\n",
            "Epoch 36/150\n",
            "125/125 [==============================] - 8s 65ms/step - loss: 0.2758 - accuracy: 0.9609 - val_loss: 2.1998 - val_accuracy: 0.5271\n",
            "Epoch 37/150\n",
            "125/125 [==============================] - 8s 65ms/step - loss: 0.2486 - accuracy: 0.9672 - val_loss: 2.2666 - val_accuracy: 0.5118\n",
            "Epoch 38/150\n",
            "125/125 [==============================] - 8s 66ms/step - loss: 0.2344 - accuracy: 0.9695 - val_loss: 2.2008 - val_accuracy: 0.5194\n",
            "Epoch 39/150\n",
            "125/125 [==============================] - 8s 66ms/step - loss: 0.2299 - accuracy: 0.9685 - val_loss: 2.1762 - val_accuracy: 0.5307\n",
            "Epoch 40/150\n",
            "125/125 [==============================] - 8s 65ms/step - loss: 0.2165 - accuracy: 0.9746 - val_loss: 2.2189 - val_accuracy: 0.5199\n",
            "Epoch 41/150\n",
            "125/125 [==============================] - 8s 65ms/step - loss: 0.2154 - accuracy: 0.9698 - val_loss: 2.2043 - val_accuracy: 0.5281\n",
            "Epoch 42/150\n",
            "125/125 [==============================] - 8s 65ms/step - loss: 0.1918 - accuracy: 0.9743 - val_loss: 2.1472 - val_accuracy: 0.5322\n",
            "Epoch 43/150\n",
            "125/125 [==============================] - 8s 65ms/step - loss: 0.1981 - accuracy: 0.9748 - val_loss: 2.1925 - val_accuracy: 0.5266\n",
            "Epoch 44/150\n",
            "125/125 [==============================] - 8s 65ms/step - loss: 0.1906 - accuracy: 0.9748 - val_loss: 2.2185 - val_accuracy: 0.5230\n",
            "Epoch 45/150\n",
            "125/125 [==============================] - 8s 65ms/step - loss: 0.1788 - accuracy: 0.9756 - val_loss: 2.2236 - val_accuracy: 0.5266\n",
            "Epoch 46/150\n",
            "125/125 [==============================] - 8s 65ms/step - loss: 0.1762 - accuracy: 0.9786 - val_loss: 2.2160 - val_accuracy: 0.5189\n",
            "Epoch 47/150\n",
            "125/125 [==============================] - 8s 65ms/step - loss: 0.1618 - accuracy: 0.9841 - val_loss: 2.1738 - val_accuracy: 0.5256\n",
            "Epoch 48/150\n",
            "125/125 [==============================] - 8s 66ms/step - loss: 0.1644 - accuracy: 0.9783 - val_loss: 4.0472 - val_accuracy: 0.5286\n",
            "Epoch 49/150\n",
            "125/125 [==============================] - 8s 65ms/step - loss: 0.1614 - accuracy: 0.9801 - val_loss: 2.1835 - val_accuracy: 0.5322\n",
            "Epoch 50/150\n",
            "125/125 [==============================] - 8s 66ms/step - loss: 0.1658 - accuracy: 0.9768 - val_loss: 2.1487 - val_accuracy: 0.5327\n",
            "Epoch 51/150\n",
            "125/125 [==============================] - 8s 65ms/step - loss: 0.1515 - accuracy: 0.9801 - val_loss: 2.2289 - val_accuracy: 0.5271\n",
            "Epoch 52/150\n",
            "125/125 [==============================] - 8s 65ms/step - loss: 0.1472 - accuracy: 0.9829 - val_loss: 2.1724 - val_accuracy: 0.5368\n",
            "Epoch 53/150\n",
            "125/125 [==============================] - 8s 65ms/step - loss: 0.1426 - accuracy: 0.9824 - val_loss: 2.1329 - val_accuracy: 0.5404\n",
            "Epoch 54/150\n",
            "125/125 [==============================] - 8s 65ms/step - loss: 0.1465 - accuracy: 0.9814 - val_loss: 2.1847 - val_accuracy: 0.5373\n",
            "Epoch 55/150\n",
            "125/125 [==============================] - 8s 65ms/step - loss: 0.1385 - accuracy: 0.9869 - val_loss: 2.1915 - val_accuracy: 0.5230\n",
            "Epoch 56/150\n",
            "125/125 [==============================] - 8s 65ms/step - loss: 0.1174 - accuracy: 0.9859 - val_loss: 2.1690 - val_accuracy: 0.5312\n",
            "Epoch 57/150\n",
            "125/125 [==============================] - 8s 66ms/step - loss: 0.1176 - accuracy: 0.9869 - val_loss: 2.1327 - val_accuracy: 0.5481\n",
            "Epoch 58/150\n",
            "125/125 [==============================] - 8s 65ms/step - loss: 0.1294 - accuracy: 0.9836 - val_loss: 2.2338 - val_accuracy: 0.5251\n",
            "Epoch 59/150\n",
            "125/125 [==============================] - 8s 66ms/step - loss: 0.1236 - accuracy: 0.9839 - val_loss: 2.1320 - val_accuracy: 0.5470\n"
          ],
          "name": "stdout"
        }
      ]
    },
    {
      "cell_type": "markdown",
      "metadata": {
        "id": "OH3ZtTEgZeo_",
        "colab_type": "text"
      },
      "source": [
        "Evaluation on Test Set"
      ]
    },
    {
      "cell_type": "code",
      "metadata": {
        "id": "Mvkhj1ZxZvuH",
        "colab_type": "code",
        "outputId": "e5b7c49c-99b7-4db0-f76b-9e750f571aa2",
        "colab": {
          "base_uri": "https://localhost:8080/",
          "height": 51
        }
      },
      "source": [
        "loss, accuracy = model.evaluate(test_images, test_labels)\n",
        "\n",
        "print(\"Test Loss:%.4f, Accuracy: %.4f\" %(loss,accuracy))"
      ],
      "execution_count": 12,
      "outputs": [
        {
          "output_type": "stream",
          "text": [
            "24/24 [==============================] - 1s 24ms/step - loss: 2.1843 - accuracy: 0.5307\n",
            "Test Loss:2.1843, Accuracy: 0.5307\n"
          ],
          "name": "stdout"
        }
      ]
    },
    {
      "cell_type": "markdown",
      "metadata": {
        "id": "JxGIakJEacMT",
        "colab_type": "text"
      },
      "source": [
        "Plot for Statistics"
      ]
    },
    {
      "cell_type": "code",
      "metadata": {
        "id": "Cux-SW4uad4u",
        "colab_type": "code",
        "outputId": "115749dc-9601-487d-b9ed-e67638a0a32c",
        "colab": {
          "base_uri": "https://localhost:8080/",
          "height": 281
        }
      },
      "source": [
        "plt.subplot(211)\n",
        "plt.title('Loss')\n",
        "plt.plot(history.history['loss'], label='train')\n",
        "plt.plot(history.history['val_loss'], label='valid')\n",
        "plt.legend()\n",
        "\n",
        "plt.subplot(212)\n",
        "plt.title('Accuracy')\n",
        "plt.plot(history.history['accuracy'], label='train')\n",
        "plt.plot(history.history['val_accuracy'], label='valid')\n",
        "plt.legend()\n",
        "plt.show()"
      ],
      "execution_count": 13,
      "outputs": [
        {
          "output_type": "display_data",
          "data": {
            "image/png": "[encoded data removed]",
            "text/plain": [
              "<Figure size 432x288 with 2 Axes>"
            ]
          },
          "metadata": {
            "tags": [],
            "needs_background": "light"
          }
        }
      ]
    }
  ]
}