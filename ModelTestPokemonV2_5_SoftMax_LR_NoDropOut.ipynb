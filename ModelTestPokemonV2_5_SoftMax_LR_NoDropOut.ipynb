{
  "nbformat": 4,
  "nbformat_minor": 0,
  "metadata": {
    "colab": {
      "name": "ModelTestPokemonV2.5-SoftMax_LR_NoDropOut",
      "provenance": [],
      "authorship_tag": "ABX9TyOEK0/Fc9lWc7OHlT4myPGE",
      "include_colab_link": true
    },
    "kernelspec": {
      "name": "python3",
      "display_name": "Python 3"
    },
    "accelerator": "GPU"
  },
  "cells": [
    {
      "cell_type": "markdown",
      "metadata": {
        "id": "view-in-github",
        "colab_type": "text"
      },
      "source": [
        "<a href=\"https://colab.research.google.com/github/berkaykarlik/whoIsThatPokemon_CNN/blob/master/ModelTestPokemonV2_5_SoftMax_LR_NoDropOut.ipynb\" target=\"_parent\"><img src=\"https://colab.research.google.com/assets/colab-badge.svg\" alt=\"Open In Colab\"/></a>"
      ]
    },
    {
      "cell_type": "markdown",
      "metadata": {
        "id": "7m5E-nDYJJBQ",
        "colab_type": "text"
      },
      "source": [
        "Login Kaggle"
      ]
    },
    {
      "cell_type": "code",
      "metadata": {
        "id": "UbQbpGzoH0Pz",
        "colab_type": "code",
        "colab": {}
      },
      "source": [
        "from google.colab import files\n",
        "uploaded = files.upload()\n",
        "!mkdir ~/.kaggle\n",
        "!cp /content/kaggle.json ~/.kaggle/kaggle.json"
      ],
      "execution_count": 0,
      "outputs": []
    },
    {
      "cell_type": "markdown",
      "metadata": {
        "id": "UiA1d69SJNpr",
        "colab_type": "text"
      },
      "source": [
        "Download dataset"
      ]
    },
    {
      "cell_type": "code",
      "metadata": {
        "id": "fDEMLRttIOnW",
        "colab_type": "code",
        "colab": {}
      },
      "source": [
        "!kaggle datasets download -d lantian773030/pokemonclassification\n",
        "!unzip pokemonclassification.zip"
      ],
      "execution_count": 0,
      "outputs": []
    },
    {
      "cell_type": "markdown",
      "metadata": {
        "id": "CQO2IfTDJQny",
        "colab_type": "text"
      },
      "source": [
        "Libraries from Ates"
      ]
    },
    {
      "cell_type": "code",
      "metadata": {
        "id": "jXFLQoVqJTRI",
        "colab_type": "code",
        "colab": {}
      },
      "source": [
        "import numpy as np\n",
        "import matplotlib.pyplot as plt\n",
        "import os\n",
        "import cv2\n",
        "import random\n",
        "from tqdm import tqdm"
      ],
      "execution_count": 0,
      "outputs": []
    },
    {
      "cell_type": "markdown",
      "metadata": {
        "id": "67zNmWKDJ6by",
        "colab_type": "text"
      },
      "source": [
        "Get Images from Ates"
      ]
    },
    {
      "cell_type": "code",
      "metadata": {
        "id": "1voYQQZ7KIPU",
        "colab_type": "code",
        "colab": {}
      },
      "source": [
        "path='/content/PokemonData'\n",
        "\n",
        "classes = []\n",
        "data = []\n",
        "SIZE = 100\n",
        "\n",
        "\n",
        "def get_data():\n",
        "  cnt = 0\n",
        "  class_no = 0\n",
        "  for dir in tqdm(os.listdir(path)):\n",
        "    classes.append(dir)\n",
        "    dir_path = os.path.join(path,dir)\n",
        "    for img in tqdm(os.listdir(dir_path)):\n",
        "      try:\n",
        "        img_array = cv2.imread(os.path.join(dir_path,img))\n",
        "        resized_array = cv2.resize(img_array,(SIZE,SIZE))\n",
        "        data.append([resized_array,class_no])\n",
        "      except:\n",
        "        pass\n",
        "    class_no += 1\n",
        "get_data()"
      ],
      "execution_count": 0,
      "outputs": []
    },
    {
      "cell_type": "markdown",
      "metadata": {
        "id": "GoCu8N_NKNHO",
        "colab_type": "text"
      },
      "source": [
        "Seperate Features and Labels from Ates"
      ]
    },
    {
      "cell_type": "code",
      "metadata": {
        "id": "ZYhqXt3-KQ4e",
        "colab_type": "code",
        "colab": {}
      },
      "source": [
        "x = []\n",
        "y = []\n",
        "for features,label in data:\n",
        "    x.append(features)\n",
        "    y.append(label)\n",
        "\n",
        "x = np.array(x).reshape(-1, SIZE, SIZE, 3)\n",
        "y = np.array(y)"
      ],
      "execution_count": 0,
      "outputs": []
    },
    {
      "cell_type": "markdown",
      "metadata": {
        "id": "jY1-suPjKTgA",
        "colab_type": "text"
      },
      "source": [
        "Split Data from Ates"
      ]
    },
    {
      "cell_type": "code",
      "metadata": {
        "id": "Yxhl2m9PKUlI",
        "colab_type": "code",
        "outputId": "61656b60-ae4d-4ad7-e5da-2ee5da64fe28",
        "colab": {
          "base_uri": "https://localhost:8080/",
          "height": 34
        }
      },
      "source": [
        "test_images = []\n",
        "test_labels = []\n",
        "train_images = []\n",
        "train_labels = []\n",
        "\n",
        "\n",
        "testCnt = 0\n",
        "for i in range(1,len(y)):\n",
        "    if y[i] == y[i-1]:\n",
        "        if testCnt < 5:\n",
        "            test_images.append(x[i-1])\n",
        "            test_labels.append(y[i-1])\n",
        "        else:\n",
        "            train_images.append(x[i-1])\n",
        "            train_labels.append(y[i-1])\n",
        "        testCnt = testCnt + 1\n",
        "    else:\n",
        "        testCnt = 0\n",
        "    \n",
        "test_images = np.array(test_images).reshape(-1, SIZE, SIZE, 3)\n",
        "train_images = np.array(train_images).reshape(-1, SIZE, SIZE, 3)\n",
        "test_labels = np.array(test_labels)\n",
        "train_labels = np.array(train_labels)\n",
        "\n",
        "\n",
        "print(train_images.shape,test_images.shape)"
      ],
      "execution_count": 6,
      "outputs": [
        {
          "output_type": "stream",
          "text": [
            "(5925, 100, 100, 3) (750, 100, 100, 3)\n"
          ],
          "name": "stdout"
        }
      ]
    },
    {
      "cell_type": "markdown",
      "metadata": {
        "id": "Dr5v4MN6KluP",
        "colab_type": "text"
      },
      "source": [
        "TF libraries from Ates"
      ]
    },
    {
      "cell_type": "code",
      "metadata": {
        "id": "zX3KAEi4KpHv",
        "colab_type": "code",
        "outputId": "a60e79d9-5dd5-44e0-c2d5-7d81c6577ac6",
        "colab": {
          "base_uri": "https://localhost:8080/",
          "height": 34
        }
      },
      "source": [
        "import tensorflow as tf\n",
        "from tensorflow.keras.models import Sequential\n",
        "from tensorflow.keras.layers import Dense, Conv2D, Flatten, Dropout, MaxPooling2D, BatchNormalization, GlobalAveragePooling2D\n",
        "from tensorflow.keras.preprocessing.image import ImageDataGenerator\n",
        "from tensorflow.keras.callbacks import EarlyStopping\n",
        "from keras import regularizers\n",
        "from sklearn.model_selection import train_test_split"
      ],
      "execution_count": 7,
      "outputs": [
        {
          "output_type": "stream",
          "text": [
            "Using TensorFlow backend.\n"
          ],
          "name": "stderr"
        }
      ]
    },
    {
      "cell_type": "markdown",
      "metadata": {
        "id": "AnZAtIOZKqu_",
        "colab_type": "text"
      },
      "source": [
        "Model Settings from Ates"
      ]
    },
    {
      "cell_type": "code",
      "metadata": {
        "id": "7SMDsxhoK5VB",
        "colab_type": "code",
        "colab": {}
      },
      "source": [
        "train_images, test_images = train_images / 255.0, test_images / 255.0\n",
        "earlystop = tf.keras.callbacks.EarlyStopping(monitor='val_loss', mode='min', patience=8)\n",
        "modelcheckpoint = tf.keras.callbacks.ModelCheckpoint('/content/best_model.h5', monitor='val_loss', mode='min', save_best_only=True)\n",
        "callback_list = [earlystop, modelcheckpoint]"
      ],
      "execution_count": 0,
      "outputs": []
    },
    {
      "cell_type": "markdown",
      "metadata": {
        "id": "0j-wln6zLBfE",
        "colab_type": "text"
      },
      "source": [
        "Model from Onur"
      ]
    },
    {
      "cell_type": "code",
      "metadata": {
        "id": "LWabBE2bLCsK",
        "colab_type": "code",
        "outputId": "0805806b-827b-4337-cb88-e03054c2be84",
        "colab": {
          "base_uri": "https://localhost:8080/",
          "height": 748
        }
      },
      "source": [
        "model = Sequential([\n",
        "                                 Conv2D(32, kernel_size=(3,3), activation='relu', padding='same', input_shape = (SIZE, SIZE, 3)),\n",
        "                                 Conv2D(32, kernel_size=(3,3), activation='relu', padding='same'),\n",
        "                                 MaxPooling2D(pool_size=(2,2), strides=2, padding='valid'),\n",
        "                                 Dropout(0.0),\n",
        "                                 Conv2D(64, kernel_size=(5,5), activation='relu', padding='same'),\n",
        "                                 Conv2D(64, kernel_size=(5,5), activation='relu', padding='same'),\n",
        "                                 MaxPooling2D(pool_size=(2,2), strides=2, padding='valid'),\n",
        "                                 Dropout(0.0),\n",
        "                                 Conv2D(128, kernel_size=(7,7), activation='relu', padding='same'),\n",
        "                                 Conv2D(128, kernel_size=(7,7), activation='relu', padding='same'),\n",
        "                                 MaxPooling2D(pool_size=(4,4), strides=2, padding='valid'),\n",
        "                                 #GlobalAveragePooling2D(),\n",
        "                                 Dropout(0.0),\n",
        "                                 Flatten(),\n",
        "                                 Dense(256, activation='relu'),\n",
        "                                 BatchNormalization(),\n",
        "                                 Dropout(0.0),\n",
        "                                 Dense(150, activation='softmax')\n",
        "])\n",
        "print(model.summary())"
      ],
      "execution_count": 9,
      "outputs": [
        {
          "output_type": "stream",
          "text": [
            "Model: \"sequential\"\n",
            "_________________________________________________________________\n",
            "Layer (type)                 Output Shape              Param #   \n",
            "=================================================================\n",
            "conv2d (Conv2D)              (None, 100, 100, 32)      896       \n",
            "_________________________________________________________________\n",
            "conv2d_1 (Conv2D)            (None, 100, 100, 32)      9248      \n",
            "_________________________________________________________________\n",
            "max_pooling2d (MaxPooling2D) (None, 50, 50, 32)        0         \n",
            "_________________________________________________________________\n",
            "dropout (Dropout)            (None, 50, 50, 32)        0         \n",
            "_________________________________________________________________\n",
            "conv2d_2 (Conv2D)            (None, 50, 50, 64)        51264     \n",
            "_________________________________________________________________\n",
            "conv2d_3 (Conv2D)            (None, 50, 50, 64)        102464    \n",
            "_________________________________________________________________\n",
            "max_pooling2d_1 (MaxPooling2 (None, 25, 25, 64)        0         \n",
            "_________________________________________________________________\n",
            "dropout_1 (Dropout)          (None, 25, 25, 64)        0         \n",
            "_________________________________________________________________\n",
            "conv2d_4 (Conv2D)            (None, 25, 25, 128)       401536    \n",
            "_________________________________________________________________\n",
            "conv2d_5 (Conv2D)            (None, 25, 25, 128)       802944    \n",
            "_________________________________________________________________\n",
            "max_pooling2d_2 (MaxPooling2 (None, 11, 11, 128)       0         \n",
            "_________________________________________________________________\n",
            "dropout_2 (Dropout)          (None, 11, 11, 128)       0         \n",
            "_________________________________________________________________\n",
            "flatten (Flatten)            (None, 15488)             0         \n",
            "_________________________________________________________________\n",
            "dense (Dense)                (None, 256)               3965184   \n",
            "_________________________________________________________________\n",
            "batch_normalization (BatchNo (None, 256)               1024      \n",
            "_________________________________________________________________\n",
            "dropout_3 (Dropout)          (None, 256)               0         \n",
            "_________________________________________________________________\n",
            "dense_1 (Dense)              (None, 150)               38550     \n",
            "=================================================================\n",
            "Total params: 5,373,110\n",
            "Trainable params: 5,372,598\n",
            "Non-trainable params: 512\n",
            "_________________________________________________________________\n",
            "None\n"
          ],
          "name": "stdout"
        }
      ]
    },
    {
      "cell_type": "markdown",
      "metadata": {
        "id": "lWcuVB_HLEoe",
        "colab_type": "text"
      },
      "source": [
        "Compile and Fit"
      ]
    },
    {
      "cell_type": "code",
      "metadata": {
        "id": "cLAM_qSoLG_W",
        "colab_type": "code",
        "outputId": "9d4c521d-82b8-40f3-fab4-6e39c1da9579",
        "colab": {
          "base_uri": "https://localhost:8080/",
          "height": 1000
        }
      },
      "source": [
        "model.compile(optimizer=tf.keras.optimizers.RMSprop(learning_rate=0.01),\n",
        "              loss=tf.keras.losses.SparseCategoricalCrossentropy(from_logits=True),\n",
        "              metrics=['accuracy'] )\n",
        "x_train, x_valid, y_train, y_valid = train_test_split(train_images, train_labels, test_size=0.33, shuffle= True)\n",
        "history = model.fit(x_train, y_train, epochs=150, validation_data=(x_valid, y_valid), callbacks=callback_list, shuffle=True)"
      ],
      "execution_count": 10,
      "outputs": [
        {
          "output_type": "stream",
          "text": [
            "Epoch 1/150\n",
            "125/125 [==============================] - 9s 69ms/step - loss: 5.0064 - accuracy: 0.0113 - val_loss: 5.0152 - val_accuracy: 0.0066\n",
            "Epoch 2/150\n",
            "125/125 [==============================] - 8s 66ms/step - loss: 4.9861 - accuracy: 0.0365 - val_loss: 4.9906 - val_accuracy: 0.0317\n",
            "Epoch 3/150\n",
            "125/125 [==============================] - 8s 65ms/step - loss: 4.9687 - accuracy: 0.0572 - val_loss: 4.9923 - val_accuracy: 0.0256\n",
            "Epoch 4/150\n",
            "125/125 [==============================] - 8s 65ms/step - loss: 4.9549 - accuracy: 0.0716 - val_loss: 4.9780 - val_accuracy: 0.0435\n",
            "Epoch 5/150\n",
            "125/125 [==============================] - 8s 66ms/step - loss: 4.9279 - accuracy: 0.1023 - val_loss: 4.9701 - val_accuracy: 0.0521\n",
            "Epoch 6/150\n",
            "125/125 [==============================] - 8s 66ms/step - loss: 4.9070 - accuracy: 0.1255 - val_loss: 4.9512 - val_accuracy: 0.0736\n",
            "Epoch 7/150\n",
            "125/125 [==============================] - 8s 65ms/step - loss: 4.8801 - accuracy: 0.1524 - val_loss: 4.9432 - val_accuracy: 0.0844\n",
            "Epoch 8/150\n",
            "125/125 [==============================] - 8s 66ms/step - loss: 4.8487 - accuracy: 0.1842 - val_loss: 4.9350 - val_accuracy: 0.0900\n",
            "Epoch 9/150\n",
            "125/125 [==============================] - 8s 66ms/step - loss: 4.8267 - accuracy: 0.2069 - val_loss: 4.9045 - val_accuracy: 0.1232\n",
            "Epoch 10/150\n",
            "125/125 [==============================] - 8s 65ms/step - loss: 4.8033 - accuracy: 0.2326 - val_loss: 4.8812 - val_accuracy: 0.1447\n",
            "Epoch 11/150\n",
            "125/125 [==============================] - 8s 65ms/step - loss: 4.7795 - accuracy: 0.2572 - val_loss: 4.9231 - val_accuracy: 0.1012\n",
            "Epoch 12/150\n",
            "125/125 [==============================] - 8s 66ms/step - loss: 4.7604 - accuracy: 0.2779 - val_loss: 4.8505 - val_accuracy: 0.1794\n",
            "Epoch 13/150\n",
            "125/125 [==============================] - 8s 64ms/step - loss: 4.7319 - accuracy: 0.3036 - val_loss: 4.8650 - val_accuracy: 0.1626\n",
            "Epoch 14/150\n",
            "125/125 [==============================] - 8s 65ms/step - loss: 4.7191 - accuracy: 0.3157 - val_loss: 4.8747 - val_accuracy: 0.1483\n",
            "Epoch 15/150\n",
            "125/125 [==============================] - 8s 65ms/step - loss: 4.6965 - accuracy: 0.3371 - val_loss: 4.8129 - val_accuracy: 0.2127\n",
            "Epoch 16/150\n",
            "125/125 [==============================] - 8s 65ms/step - loss: 4.6771 - accuracy: 0.3555 - val_loss: 4.8300 - val_accuracy: 0.1958\n",
            "Epoch 17/150\n",
            "125/125 [==============================] - 8s 65ms/step - loss: 4.6606 - accuracy: 0.3716 - val_loss: 4.9859 - val_accuracy: 0.0353\n",
            "Epoch 18/150\n",
            "125/125 [==============================] - 8s 65ms/step - loss: 4.6433 - accuracy: 0.3870 - val_loss: 4.8367 - val_accuracy: 0.1902\n",
            "Epoch 19/150\n",
            "125/125 [==============================] - 8s 64ms/step - loss: 4.6263 - accuracy: 0.4034 - val_loss: 4.8199 - val_accuracy: 0.2060\n",
            "Epoch 20/150\n",
            "125/125 [==============================] - 8s 66ms/step - loss: 4.6134 - accuracy: 0.4172 - val_loss: 4.7916 - val_accuracy: 0.2342\n",
            "Epoch 21/150\n",
            "125/125 [==============================] - 8s 66ms/step - loss: 4.5994 - accuracy: 0.4339 - val_loss: 4.7829 - val_accuracy: 0.2418\n",
            "Epoch 22/150\n",
            "125/125 [==============================] - 8s 65ms/step - loss: 4.5913 - accuracy: 0.4404 - val_loss: 4.8176 - val_accuracy: 0.2065\n",
            "Epoch 23/150\n",
            "125/125 [==============================] - 8s 65ms/step - loss: 4.5837 - accuracy: 0.4465 - val_loss: 4.8038 - val_accuracy: 0.2219\n",
            "Epoch 24/150\n",
            "125/125 [==============================] - 8s 65ms/step - loss: 4.5654 - accuracy: 0.4651 - val_loss: 4.7921 - val_accuracy: 0.2306\n",
            "Epoch 25/150\n",
            "125/125 [==============================] - 8s 65ms/step - loss: 4.5563 - accuracy: 0.4732 - val_loss: 4.7987 - val_accuracy: 0.2270\n",
            "Epoch 26/150\n",
            "125/125 [==============================] - 8s 66ms/step - loss: 4.5377 - accuracy: 0.4906 - val_loss: 4.7777 - val_accuracy: 0.2485\n",
            "Epoch 27/150\n",
            "125/125 [==============================] - 8s 66ms/step - loss: 4.5369 - accuracy: 0.4931 - val_loss: 4.7542 - val_accuracy: 0.2720\n",
            "Epoch 28/150\n",
            "125/125 [==============================] - 8s 65ms/step - loss: 4.5198 - accuracy: 0.5079 - val_loss: 4.7890 - val_accuracy: 0.2352\n",
            "Epoch 29/150\n",
            "125/125 [==============================] - 8s 65ms/step - loss: 4.5108 - accuracy: 0.5190 - val_loss: 4.7901 - val_accuracy: 0.2377\n",
            "Epoch 30/150\n",
            "125/125 [==============================] - 8s 65ms/step - loss: 4.5020 - accuracy: 0.5273 - val_loss: 4.7686 - val_accuracy: 0.2551\n",
            "Epoch 31/150\n",
            "125/125 [==============================] - 8s 66ms/step - loss: 4.4918 - accuracy: 0.5392 - val_loss: 4.7510 - val_accuracy: 0.2730\n",
            "Epoch 32/150\n",
            "125/125 [==============================] - 8s 65ms/step - loss: 4.4833 - accuracy: 0.5470 - val_loss: 4.7788 - val_accuracy: 0.2459\n",
            "Epoch 33/150\n",
            "125/125 [==============================] - 8s 65ms/step - loss: 4.4759 - accuracy: 0.5533 - val_loss: 4.7557 - val_accuracy: 0.2745\n",
            "Epoch 34/150\n",
            "125/125 [==============================] - 8s 66ms/step - loss: 4.4708 - accuracy: 0.5573 - val_loss: 4.7465 - val_accuracy: 0.2776\n",
            "Epoch 35/150\n",
            "125/125 [==============================] - 8s 66ms/step - loss: 4.4646 - accuracy: 0.5636 - val_loss: 4.7366 - val_accuracy: 0.2878\n",
            "Epoch 36/150\n",
            "125/125 [==============================] - 8s 65ms/step - loss: 4.4553 - accuracy: 0.5709 - val_loss: 4.7521 - val_accuracy: 0.2720\n",
            "Epoch 37/150\n",
            "125/125 [==============================] - 8s 66ms/step - loss: 4.4494 - accuracy: 0.5777 - val_loss: 4.7210 - val_accuracy: 0.3027\n",
            "Epoch 38/150\n",
            "125/125 [==============================] - 8s 66ms/step - loss: 4.4385 - accuracy: 0.5888 - val_loss: 4.7255 - val_accuracy: 0.2996\n",
            "Epoch 39/150\n",
            "125/125 [==============================] - 8s 65ms/step - loss: 4.4326 - accuracy: 0.5966 - val_loss: 4.7239 - val_accuracy: 0.2991\n",
            "Epoch 40/150\n",
            "125/125 [==============================] - 8s 65ms/step - loss: 4.4301 - accuracy: 0.5976 - val_loss: 4.7375 - val_accuracy: 0.2863\n",
            "Epoch 41/150\n",
            "125/125 [==============================] - 8s 65ms/step - loss: 4.4186 - accuracy: 0.6095 - val_loss: 4.7565 - val_accuracy: 0.2694\n",
            "Epoch 42/150\n",
            "125/125 [==============================] - 8s 65ms/step - loss: 4.4105 - accuracy: 0.6155 - val_loss: 4.7284 - val_accuracy: 0.2996\n",
            "Epoch 43/150\n",
            "125/125 [==============================] - 8s 66ms/step - loss: 4.4084 - accuracy: 0.6180 - val_loss: 4.7180 - val_accuracy: 0.3062\n",
            "Epoch 44/150\n",
            "125/125 [==============================] - 8s 65ms/step - loss: 4.3978 - accuracy: 0.6274 - val_loss: 4.7208 - val_accuracy: 0.3001\n",
            "Epoch 45/150\n",
            "125/125 [==============================] - 8s 65ms/step - loss: 4.3887 - accuracy: 0.6390 - val_loss: 4.7260 - val_accuracy: 0.3001\n",
            "Epoch 46/150\n",
            "125/125 [==============================] - 8s 65ms/step - loss: 4.3851 - accuracy: 0.6402 - val_loss: 4.7399 - val_accuracy: 0.2827\n",
            "Epoch 47/150\n",
            "125/125 [==============================] - 8s 66ms/step - loss: 4.3783 - accuracy: 0.6475 - val_loss: 4.7014 - val_accuracy: 0.3211\n",
            "Epoch 48/150\n",
            "125/125 [==============================] - 8s 64ms/step - loss: 4.3726 - accuracy: 0.6551 - val_loss: 4.7310 - val_accuracy: 0.2904\n",
            "Epoch 49/150\n",
            "125/125 [==============================] - 8s 64ms/step - loss: 4.3679 - accuracy: 0.6601 - val_loss: 4.7146 - val_accuracy: 0.3113\n",
            "Epoch 50/150\n",
            "125/125 [==============================] - 8s 65ms/step - loss: 4.3632 - accuracy: 0.6644 - val_loss: 4.7251 - val_accuracy: 0.3006\n",
            "Epoch 51/150\n",
            "125/125 [==============================] - 8s 65ms/step - loss: 4.3591 - accuracy: 0.6664 - val_loss: 4.7138 - val_accuracy: 0.3139\n",
            "Epoch 52/150\n",
            "125/125 [==============================] - 8s 65ms/step - loss: 4.3557 - accuracy: 0.6697 - val_loss: 4.7296 - val_accuracy: 0.2970\n",
            "Epoch 53/150\n",
            "125/125 [==============================] - 8s 67ms/step - loss: 4.3492 - accuracy: 0.6772 - val_loss: 4.6973 - val_accuracy: 0.3257\n",
            "Epoch 54/150\n",
            "125/125 [==============================] - 8s 67ms/step - loss: 4.3450 - accuracy: 0.6805 - val_loss: 4.6945 - val_accuracy: 0.3277\n",
            "Epoch 55/150\n",
            "125/125 [==============================] - 8s 66ms/step - loss: 4.3403 - accuracy: 0.6851 - val_loss: 4.7122 - val_accuracy: 0.3103\n",
            "Epoch 56/150\n",
            "125/125 [==============================] - 8s 66ms/step - loss: 4.3402 - accuracy: 0.6846 - val_loss: 4.7278 - val_accuracy: 0.3006\n",
            "Epoch 57/150\n",
            "125/125 [==============================] - 8s 66ms/step - loss: 4.3339 - accuracy: 0.6906 - val_loss: 4.7112 - val_accuracy: 0.3098\n",
            "Epoch 58/150\n",
            "125/125 [==============================] - 8s 65ms/step - loss: 4.3267 - accuracy: 0.6979 - val_loss: 4.7244 - val_accuracy: 0.2991\n",
            "Epoch 59/150\n",
            "125/125 [==============================] - 8s 66ms/step - loss: 4.3290 - accuracy: 0.6951 - val_loss: 4.6885 - val_accuracy: 0.3359\n",
            "Epoch 60/150\n",
            "125/125 [==============================] - 8s 65ms/step - loss: 4.3243 - accuracy: 0.7002 - val_loss: 4.6985 - val_accuracy: 0.3226\n",
            "Epoch 61/150\n",
            "125/125 [==============================] - 8s 66ms/step - loss: 4.3210 - accuracy: 0.7040 - val_loss: 4.7328 - val_accuracy: 0.2919\n",
            "Epoch 62/150\n",
            "125/125 [==============================] - 8s 66ms/step - loss: 4.3199 - accuracy: 0.7035 - val_loss: 4.6975 - val_accuracy: 0.3272\n",
            "Epoch 63/150\n",
            "125/125 [==============================] - 8s 67ms/step - loss: 4.3188 - accuracy: 0.7050 - val_loss: 4.6906 - val_accuracy: 0.3338\n",
            "Epoch 64/150\n",
            "125/125 [==============================] - 9s 68ms/step - loss: 4.3126 - accuracy: 0.7118 - val_loss: 4.6974 - val_accuracy: 0.3298\n",
            "Epoch 65/150\n",
            "125/125 [==============================] - 8s 66ms/step - loss: 4.3114 - accuracy: 0.7140 - val_loss: 4.7358 - val_accuracy: 0.2909\n",
            "Epoch 66/150\n",
            "125/125 [==============================] - 8s 67ms/step - loss: 4.3073 - accuracy: 0.7173 - val_loss: 4.6842 - val_accuracy: 0.3369\n",
            "Epoch 67/150\n",
            "125/125 [==============================] - 8s 65ms/step - loss: 4.3088 - accuracy: 0.7150 - val_loss: 4.7133 - val_accuracy: 0.3113\n",
            "Epoch 68/150\n",
            "125/125 [==============================] - 8s 66ms/step - loss: 4.3054 - accuracy: 0.7186 - val_loss: 4.6853 - val_accuracy: 0.3390\n",
            "Epoch 69/150\n",
            "125/125 [==============================] - 8s 65ms/step - loss: 4.3035 - accuracy: 0.7198 - val_loss: 4.6919 - val_accuracy: 0.3333\n",
            "Epoch 70/150\n",
            "125/125 [==============================] - 8s 66ms/step - loss: 4.3046 - accuracy: 0.7196 - val_loss: 4.6994 - val_accuracy: 0.3226\n",
            "Epoch 71/150\n",
            "125/125 [==============================] - 8s 66ms/step - loss: 4.2991 - accuracy: 0.7244 - val_loss: 4.6811 - val_accuracy: 0.3430\n",
            "Epoch 72/150\n",
            "125/125 [==============================] - 8s 66ms/step - loss: 4.2980 - accuracy: 0.7261 - val_loss: 4.6850 - val_accuracy: 0.3384\n",
            "Epoch 73/150\n",
            "125/125 [==============================] - 8s 65ms/step - loss: 4.2943 - accuracy: 0.7299 - val_loss: 4.6923 - val_accuracy: 0.3298\n",
            "Epoch 74/150\n",
            "125/125 [==============================] - 8s 65ms/step - loss: 4.3009 - accuracy: 0.7226 - val_loss: 4.6950 - val_accuracy: 0.3313\n",
            "Epoch 75/150\n",
            "125/125 [==============================] - 8s 66ms/step - loss: 4.2931 - accuracy: 0.7307 - val_loss: 4.7201 - val_accuracy: 0.3047\n",
            "Epoch 76/150\n",
            "125/125 [==============================] - 8s 66ms/step - loss: 4.2928 - accuracy: 0.7309 - val_loss: 4.6957 - val_accuracy: 0.3257\n",
            "Epoch 77/150\n",
            "125/125 [==============================] - 8s 65ms/step - loss: 4.2863 - accuracy: 0.7375 - val_loss: 4.6941 - val_accuracy: 0.3282\n",
            "Epoch 78/150\n",
            "125/125 [==============================] - 8s 66ms/step - loss: 4.2877 - accuracy: 0.7365 - val_loss: 4.6755 - val_accuracy: 0.3497\n",
            "Epoch 79/150\n",
            "125/125 [==============================] - 8s 65ms/step - loss: 4.2864 - accuracy: 0.7372 - val_loss: 4.7506 - val_accuracy: 0.2710\n",
            "Epoch 80/150\n",
            "125/125 [==============================] - 8s 66ms/step - loss: 4.2877 - accuracy: 0.7362 - val_loss: 4.6852 - val_accuracy: 0.3400\n",
            "Epoch 81/150\n",
            "125/125 [==============================] - 8s 65ms/step - loss: 4.2870 - accuracy: 0.7352 - val_loss: 4.6910 - val_accuracy: 0.3313\n",
            "Epoch 82/150\n",
            "125/125 [==============================] - 8s 67ms/step - loss: 4.2826 - accuracy: 0.7402 - val_loss: 4.6912 - val_accuracy: 0.3303\n",
            "Epoch 83/150\n",
            "125/125 [==============================] - 8s 65ms/step - loss: 4.2799 - accuracy: 0.7430 - val_loss: 4.6803 - val_accuracy: 0.3436\n",
            "Epoch 84/150\n",
            "125/125 [==============================] - 8s 66ms/step - loss: 4.2832 - accuracy: 0.7395 - val_loss: 4.6982 - val_accuracy: 0.3246\n",
            "Epoch 85/150\n",
            "125/125 [==============================] - 8s 66ms/step - loss: 4.2788 - accuracy: 0.7448 - val_loss: 4.6860 - val_accuracy: 0.3364\n",
            "Epoch 86/150\n",
            "125/125 [==============================] - 8s 66ms/step - loss: 4.2826 - accuracy: 0.7390 - val_loss: 4.6932 - val_accuracy: 0.3292\n"
          ],
          "name": "stdout"
        }
      ]
    },
    {
      "cell_type": "markdown",
      "metadata": {
        "id": "OH3ZtTEgZeo_",
        "colab_type": "text"
      },
      "source": [
        "Evaluation on Test Set"
      ]
    },
    {
      "cell_type": "code",
      "metadata": {
        "id": "Mvkhj1ZxZvuH",
        "colab_type": "code",
        "outputId": "a343ea15-35fc-4c9d-8267-4c909487c5ec",
        "colab": {
          "base_uri": "https://localhost:8080/",
          "height": 51
        }
      },
      "source": [
        "loss, accuracy = model.evaluate(test_images, test_labels)\n",
        "\n",
        "print(\"Test Loss:%.4f, Accuracy: %.4f\" %(loss,accuracy))"
      ],
      "execution_count": 11,
      "outputs": [
        {
          "output_type": "stream",
          "text": [
            "24/24 [==============================] - 1s 23ms/step - loss: 4.7047 - accuracy: 0.3173\n",
            "Test Loss:4.7047, Accuracy: 0.3173\n"
          ],
          "name": "stdout"
        }
      ]
    },
    {
      "cell_type": "markdown",
      "metadata": {
        "id": "JxGIakJEacMT",
        "colab_type": "text"
      },
      "source": [
        "Plot for Statistics"
      ]
    },
    {
      "cell_type": "code",
      "metadata": {
        "id": "Cux-SW4uad4u",
        "colab_type": "code",
        "outputId": "be357519-291c-4a9b-edb1-13565e2158d7",
        "colab": {
          "base_uri": "https://localhost:8080/",
          "height": 281
        }
      },
      "source": [
        "plt.subplot(211)\n",
        "plt.title('Loss')\n",
        "plt.plot(history.history['loss'], label='train')\n",
        "plt.plot(history.history['val_loss'], label='valid')\n",
        "plt.legend()\n",
        "\n",
        "plt.subplot(212)\n",
        "plt.title('Accuracy')\n",
        "plt.plot(history.history['accuracy'], label='train')\n",
        "plt.plot(history.history['val_accuracy'], label='valid')\n",
        "plt.legend()\n",
        "plt.show()"
      ],
      "execution_count": 12,
      "outputs": [
        {
          "output_type": "display_data",
          "data": {
            "image/png": "[encoded data removed]",
            "text/plain": [
              "<Figure size 432x288 with 2 Axes>"
            ]
          },
          "metadata": {
            "tags": [],
            "needs_background": "light"
          }
        }
      ]
    }
  ]
}