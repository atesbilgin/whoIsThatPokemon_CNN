{
  "nbformat": 4,
  "nbformat_minor": 0,
  "metadata": {
    "colab": {
      "name": "ModelTestPokemonV2.4-SoftMax",
      "provenance": [],
      "authorship_tag": "ABX9TyPS6u41+Q9kiG1nx4wz56/C",
      "include_colab_link": true
    },
    "kernelspec": {
      "name": "python3",
      "display_name": "Python 3"
    },
    "accelerator": "GPU"
  },
  "cells": [
    {
      "cell_type": "markdown",
      "metadata": {
        "id": "view-in-github",
        "colab_type": "text"
      },
      "source": [
        "<a href=\"https://colab.research.google.com/github/berkaykarlik/whoIsThatPokemon_CNN/blob/master/ModelTestPokemonV2_4_SoftMax.ipynb\" target=\"_parent\"><img src=\"https://colab.research.google.com/assets/colab-badge.svg\" alt=\"Open In Colab\"/></a>"
      ]
    },
    {
      "cell_type": "markdown",
      "metadata": {
        "id": "7m5E-nDYJJBQ",
        "colab_type": "text"
      },
      "source": [
        "Login Kaggle"
      ]
    },
    {
      "cell_type": "code",
      "metadata": {
        "id": "UbQbpGzoH0Pz",
        "colab_type": "code",
        "colab": {}
      },
      "source": [
        "from google.colab import files\n",
        "uploaded = files.upload()\n",
        "!mkdir ~/.kaggle\n",
        "!cp /content/kaggle.json ~/.kaggle/kaggle.json"
      ],
      "execution_count": 0,
      "outputs": []
    },
    {
      "cell_type": "markdown",
      "metadata": {
        "id": "UiA1d69SJNpr",
        "colab_type": "text"
      },
      "source": [
        "Download dataset"
      ]
    },
    {
      "cell_type": "code",
      "metadata": {
        "id": "fDEMLRttIOnW",
        "colab_type": "code",
        "colab": {}
      },
      "source": [
        "!kaggle datasets download -d lantian773030/pokemonclassification\n",
        "!unzip pokemonclassification.zip"
      ],
      "execution_count": 0,
      "outputs": []
    },
    {
      "cell_type": "markdown",
      "metadata": {
        "id": "CQO2IfTDJQny",
        "colab_type": "text"
      },
      "source": [
        "Libraries from Ates"
      ]
    },
    {
      "cell_type": "code",
      "metadata": {
        "id": "jXFLQoVqJTRI",
        "colab_type": "code",
        "colab": {}
      },
      "source": [
        "import numpy as np\n",
        "import matplotlib.pyplot as plt\n",
        "import os\n",
        "import cv2\n",
        "import random\n",
        "from tqdm import tqdm"
      ],
      "execution_count": 0,
      "outputs": []
    },
    {
      "cell_type": "markdown",
      "metadata": {
        "id": "67zNmWKDJ6by",
        "colab_type": "text"
      },
      "source": [
        "Get Images from Ates"
      ]
    },
    {
      "cell_type": "code",
      "metadata": {
        "id": "1voYQQZ7KIPU",
        "colab_type": "code",
        "colab": {}
      },
      "source": [
        "path='/content/PokemonData'\n",
        "\n",
        "classes = []\n",
        "data = []\n",
        "SIZE = 100\n",
        "\n",
        "\n",
        "def get_data():\n",
        "  cnt = 0\n",
        "  class_no = 0\n",
        "  for dir in tqdm(os.listdir(path)):\n",
        "    classes.append(dir)\n",
        "    dir_path = os.path.join(path,dir)\n",
        "    for img in tqdm(os.listdir(dir_path)):\n",
        "      try:\n",
        "        img_array = cv2.imread(os.path.join(dir_path,img))\n",
        "        resized_array = cv2.resize(img_array,(SIZE,SIZE))\n",
        "        data.append([resized_array,class_no])\n",
        "      except:\n",
        "        pass\n",
        "    class_no += 1\n",
        "get_data()"
      ],
      "execution_count": 0,
      "outputs": []
    },
    {
      "cell_type": "markdown",
      "metadata": {
        "id": "GoCu8N_NKNHO",
        "colab_type": "text"
      },
      "source": [
        "Seperate Features and Labels from Ates"
      ]
    },
    {
      "cell_type": "code",
      "metadata": {
        "id": "ZYhqXt3-KQ4e",
        "colab_type": "code",
        "colab": {}
      },
      "source": [
        "x = []\n",
        "y = []\n",
        "for features,label in data:\n",
        "    x.append(features)\n",
        "    y.append(label)\n",
        "\n",
        "x = np.array(x).reshape(-1, SIZE, SIZE, 3)\n",
        "y = np.array(y)"
      ],
      "execution_count": 0,
      "outputs": []
    },
    {
      "cell_type": "markdown",
      "metadata": {
        "id": "jY1-suPjKTgA",
        "colab_type": "text"
      },
      "source": [
        "Split Data from Ates"
      ]
    },
    {
      "cell_type": "code",
      "metadata": {
        "id": "Yxhl2m9PKUlI",
        "colab_type": "code",
        "outputId": "71144abc-03fa-47df-f582-77468f72bf05",
        "colab": {
          "base_uri": "https://localhost:8080/",
          "height": 34
        }
      },
      "source": [
        "test_images = []\n",
        "test_labels = []\n",
        "train_images = []\n",
        "train_labels = []\n",
        "\n",
        "\n",
        "testCnt = 0\n",
        "for i in range(1,len(y)):\n",
        "    if y[i] == y[i-1]:\n",
        "        if testCnt < 5:\n",
        "            test_images.append(x[i-1])\n",
        "            test_labels.append(y[i-1])\n",
        "        else:\n",
        "            train_images.append(x[i-1])\n",
        "            train_labels.append(y[i-1])\n",
        "        testCnt = testCnt + 1\n",
        "    else:\n",
        "        testCnt = 0\n",
        "    \n",
        "test_images = np.array(test_images).reshape(-1, SIZE, SIZE, 3)\n",
        "train_images = np.array(train_images).reshape(-1, SIZE, SIZE, 3)\n",
        "test_labels = np.array(test_labels)\n",
        "train_labels = np.array(train_labels)\n",
        "\n",
        "\n",
        "print(train_images.shape,test_images.shape)"
      ],
      "execution_count": 6,
      "outputs": [
        {
          "output_type": "stream",
          "text": [
            "(5925, 100, 100, 3) (750, 100, 100, 3)\n"
          ],
          "name": "stdout"
        }
      ]
    },
    {
      "cell_type": "markdown",
      "metadata": {
        "id": "Dr5v4MN6KluP",
        "colab_type": "text"
      },
      "source": [
        "TF libraries from Ates"
      ]
    },
    {
      "cell_type": "code",
      "metadata": {
        "id": "zX3KAEi4KpHv",
        "colab_type": "code",
        "outputId": "d30ffcf7-aee4-4242-cd05-75b4cfae1cb2",
        "colab": {
          "base_uri": "https://localhost:8080/",
          "height": 34
        }
      },
      "source": [
        "import tensorflow as tf\n",
        "from tensorflow.keras.models import Sequential\n",
        "from tensorflow.keras.layers import Dense, Conv2D, Flatten, Dropout, MaxPooling2D, BatchNormalization\n",
        "from tensorflow.keras.preprocessing.image import ImageDataGenerator\n",
        "from tensorflow.keras.callbacks import EarlyStopping\n",
        "from keras import regularizers\n",
        "from sklearn.model_selection import train_test_split"
      ],
      "execution_count": 7,
      "outputs": [
        {
          "output_type": "stream",
          "text": [
            "Using TensorFlow backend.\n"
          ],
          "name": "stderr"
        }
      ]
    },
    {
      "cell_type": "markdown",
      "metadata": {
        "id": "AnZAtIOZKqu_",
        "colab_type": "text"
      },
      "source": [
        "Model Settings from Ates"
      ]
    },
    {
      "cell_type": "code",
      "metadata": {
        "id": "7SMDsxhoK5VB",
        "colab_type": "code",
        "colab": {}
      },
      "source": [
        "train_images, test_images = train_images / 255.0, test_images / 255.0\n",
        "callback = tf.keras.callbacks.EarlyStopping(monitor='loss', patience=3)"
      ],
      "execution_count": 0,
      "outputs": []
    },
    {
      "cell_type": "markdown",
      "metadata": {
        "id": "0j-wln6zLBfE",
        "colab_type": "text"
      },
      "source": [
        "Model from Onur"
      ]
    },
    {
      "cell_type": "code",
      "metadata": {
        "id": "LWabBE2bLCsK",
        "colab_type": "code",
        "outputId": "c4128c68-fa49-44f6-9b6e-50c4202bf2a7",
        "colab": {
          "base_uri": "https://localhost:8080/",
          "height": 748
        }
      },
      "source": [
        "model = Sequential([\n",
        "                                 Conv2D(32, kernel_size=(3,3), activation='relu', padding='same', input_shape = (SIZE, SIZE, 3)),\n",
        "                                 Conv2D(32, kernel_size=(3,3), activation='relu', padding='same'),\n",
        "                                 MaxPooling2D(pool_size=(2,2), strides=2, padding='valid'),\n",
        "                                 Dropout(0.2),\n",
        "                                 Conv2D(64, kernel_size=(5,5), activation='relu', padding='same'),\n",
        "                                 Conv2D(64, kernel_size=(5,5), activation='relu', padding='same'),\n",
        "                                 MaxPooling2D(pool_size=(2,2), strides=2, padding='valid'),\n",
        "                                 Dropout(0.3),\n",
        "                                 Conv2D(128, kernel_size=(7,7), activation='relu', padding='same'),\n",
        "                                 Conv2D(128, kernel_size=(7,7), activation='relu', padding='same'),\n",
        "                                 MaxPooling2D(pool_size=(4,4), strides=2, padding='valid'),\n",
        "                                 Dropout(0.4),\n",
        "                                 Flatten(),\n",
        "                                 Dense(256, activation='relu'),\n",
        "                                 BatchNormalization(),\n",
        "                                 Dropout(0.5),\n",
        "                                 Dense(150, activation='softmax')\n",
        "])\n",
        "print(model.summary())"
      ],
      "execution_count": 9,
      "outputs": [
        {
          "output_type": "stream",
          "text": [
            "Model: \"sequential\"\n",
            "_________________________________________________________________\n",
            "Layer (type)                 Output Shape              Param #   \n",
            "=================================================================\n",
            "conv2d (Conv2D)              (None, 100, 100, 32)      896       \n",
            "_________________________________________________________________\n",
            "conv2d_1 (Conv2D)            (None, 100, 100, 32)      9248      \n",
            "_________________________________________________________________\n",
            "max_pooling2d (MaxPooling2D) (None, 50, 50, 32)        0         \n",
            "_________________________________________________________________\n",
            "dropout (Dropout)            (None, 50, 50, 32)        0         \n",
            "_________________________________________________________________\n",
            "conv2d_2 (Conv2D)            (None, 50, 50, 64)        51264     \n",
            "_________________________________________________________________\n",
            "conv2d_3 (Conv2D)            (None, 50, 50, 64)        102464    \n",
            "_________________________________________________________________\n",
            "max_pooling2d_1 (MaxPooling2 (None, 25, 25, 64)        0         \n",
            "_________________________________________________________________\n",
            "dropout_1 (Dropout)          (None, 25, 25, 64)        0         \n",
            "_________________________________________________________________\n",
            "conv2d_4 (Conv2D)            (None, 25, 25, 128)       401536    \n",
            "_________________________________________________________________\n",
            "conv2d_5 (Conv2D)            (None, 25, 25, 128)       802944    \n",
            "_________________________________________________________________\n",
            "max_pooling2d_2 (MaxPooling2 (None, 11, 11, 128)       0         \n",
            "_________________________________________________________________\n",
            "dropout_2 (Dropout)          (None, 11, 11, 128)       0         \n",
            "_________________________________________________________________\n",
            "flatten (Flatten)            (None, 15488)             0         \n",
            "_________________________________________________________________\n",
            "dense (Dense)                (None, 256)               3965184   \n",
            "_________________________________________________________________\n",
            "batch_normalization (BatchNo (None, 256)               1024      \n",
            "_________________________________________________________________\n",
            "dropout_3 (Dropout)          (None, 256)               0         \n",
            "_________________________________________________________________\n",
            "dense_1 (Dense)              (None, 150)               38550     \n",
            "=================================================================\n",
            "Total params: 5,373,110\n",
            "Trainable params: 5,372,598\n",
            "Non-trainable params: 512\n",
            "_________________________________________________________________\n",
            "None\n"
          ],
          "name": "stdout"
        }
      ]
    },
    {
      "cell_type": "markdown",
      "metadata": {
        "id": "lWcuVB_HLEoe",
        "colab_type": "text"
      },
      "source": [
        "Compile and Fit"
      ]
    },
    {
      "cell_type": "code",
      "metadata": {
        "id": "cLAM_qSoLG_W",
        "colab_type": "code",
        "outputId": "c26233c6-72db-4e78-b1e1-1566c7543858",
        "colab": {
          "base_uri": "https://localhost:8080/",
          "height": 1000
        }
      },
      "source": [
        "model.compile(optimizer='rmsprop',\n",
        "              loss=tf.keras.losses.SparseCategoricalCrossentropy(from_logits=True),\n",
        "              metrics=['accuracy'] )\n",
        "x_train, x_valid, y_train, y_valid = train_test_split(train_images, train_labels, test_size=0.33, shuffle= True)\n",
        "history = model.fit(x_train, y_train, epochs=150, validation_data=(x_valid, y_valid), callbacks=[callback], shuffle=True)"
      ],
      "execution_count": 10,
      "outputs": [
        {
          "output_type": "stream",
          "text": [
            "Epoch 1/150\n",
            "125/125 [==============================] - 9s 69ms/step - loss: 5.0089 - accuracy: 0.0144 - val_loss: 5.0054 - val_accuracy: 0.0138\n",
            "Epoch 2/150\n",
            "125/125 [==============================] - 8s 65ms/step - loss: 5.0023 - accuracy: 0.0247 - val_loss: 5.0051 - val_accuracy: 0.0138\n",
            "Epoch 3/150\n",
            "125/125 [==============================] - 8s 65ms/step - loss: 4.9926 - accuracy: 0.0333 - val_loss: 5.0013 - val_accuracy: 0.0174\n",
            "Epoch 4/150\n",
            "125/125 [==============================] - 8s 65ms/step - loss: 4.9887 - accuracy: 0.0335 - val_loss: 5.0097 - val_accuracy: 0.0082\n",
            "Epoch 5/150\n",
            "125/125 [==============================] - 8s 66ms/step - loss: 4.9855 - accuracy: 0.0385 - val_loss: 4.9989 - val_accuracy: 0.0220\n",
            "Epoch 6/150\n",
            "125/125 [==============================] - 8s 65ms/step - loss: 4.9807 - accuracy: 0.0428 - val_loss: 5.0031 - val_accuracy: 0.0210\n",
            "Epoch 7/150\n",
            "125/125 [==============================] - 8s 65ms/step - loss: 4.9749 - accuracy: 0.0486 - val_loss: 4.9974 - val_accuracy: 0.0281\n",
            "Epoch 8/150\n",
            "125/125 [==============================] - 8s 65ms/step - loss: 4.9717 - accuracy: 0.0532 - val_loss: 4.9942 - val_accuracy: 0.0281\n",
            "Epoch 9/150\n",
            "125/125 [==============================] - 8s 65ms/step - loss: 4.9645 - accuracy: 0.0627 - val_loss: 4.9821 - val_accuracy: 0.0424\n",
            "Epoch 10/150\n",
            "125/125 [==============================] - 8s 65ms/step - loss: 4.9523 - accuracy: 0.0738 - val_loss: 4.9712 - val_accuracy: 0.0491\n",
            "Epoch 11/150\n",
            "125/125 [==============================] - 8s 65ms/step - loss: 4.9426 - accuracy: 0.0864 - val_loss: 4.9674 - val_accuracy: 0.0532\n",
            "Epoch 12/150\n",
            "125/125 [==============================] - 8s 65ms/step - loss: 4.9342 - accuracy: 0.0985 - val_loss: 4.9661 - val_accuracy: 0.0567\n",
            "Epoch 13/150\n",
            "125/125 [==============================] - 8s 65ms/step - loss: 4.9270 - accuracy: 0.1066 - val_loss: 4.9575 - val_accuracy: 0.0680\n",
            "Epoch 14/150\n",
            "125/125 [==============================] - 8s 65ms/step - loss: 4.9198 - accuracy: 0.1141 - val_loss: 4.9596 - val_accuracy: 0.0639\n",
            "Epoch 15/150\n",
            "125/125 [==============================] - 8s 66ms/step - loss: 4.9159 - accuracy: 0.1164 - val_loss: 4.9461 - val_accuracy: 0.0803\n",
            "Epoch 16/150\n",
            "125/125 [==============================] - 8s 66ms/step - loss: 4.9068 - accuracy: 0.1282 - val_loss: 4.9361 - val_accuracy: 0.0930\n",
            "Epoch 17/150\n",
            "125/125 [==============================] - 8s 66ms/step - loss: 4.8995 - accuracy: 0.1378 - val_loss: 4.9322 - val_accuracy: 0.0966\n",
            "Epoch 18/150\n",
            "125/125 [==============================] - 8s 65ms/step - loss: 4.8910 - accuracy: 0.1469 - val_loss: 4.9318 - val_accuracy: 0.0966\n",
            "Epoch 19/150\n",
            "125/125 [==============================] - 8s 66ms/step - loss: 4.8892 - accuracy: 0.1534 - val_loss: 4.9230 - val_accuracy: 0.1125\n",
            "Epoch 20/150\n",
            "125/125 [==============================] - 8s 65ms/step - loss: 4.8758 - accuracy: 0.1668 - val_loss: 4.9195 - val_accuracy: 0.1120\n",
            "Epoch 21/150\n",
            "125/125 [==============================] - 8s 65ms/step - loss: 4.8686 - accuracy: 0.1751 - val_loss: 4.9073 - val_accuracy: 0.1268\n",
            "Epoch 22/150\n",
            "125/125 [==============================] - 8s 65ms/step - loss: 4.8579 - accuracy: 0.1847 - val_loss: 4.9038 - val_accuracy: 0.1334\n",
            "Epoch 23/150\n",
            "125/125 [==============================] - 8s 65ms/step - loss: 4.8484 - accuracy: 0.1950 - val_loss: 4.8916 - val_accuracy: 0.1457\n",
            "Epoch 24/150\n",
            "125/125 [==============================] - 8s 65ms/step - loss: 4.8393 - accuracy: 0.2106 - val_loss: 4.8963 - val_accuracy: 0.1472\n",
            "Epoch 25/150\n",
            "125/125 [==============================] - 8s 65ms/step - loss: 4.8342 - accuracy: 0.2169 - val_loss: 4.9038 - val_accuracy: 0.1339\n",
            "Epoch 26/150\n",
            "125/125 [==============================] - 8s 65ms/step - loss: 4.8268 - accuracy: 0.2222 - val_loss: 4.8805 - val_accuracy: 0.1559\n",
            "Epoch 27/150\n",
            "125/125 [==============================] - 8s 65ms/step - loss: 4.8183 - accuracy: 0.2331 - val_loss: 4.8992 - val_accuracy: 0.1462\n",
            "Epoch 28/150\n",
            "125/125 [==============================] - 8s 65ms/step - loss: 4.8068 - accuracy: 0.2449 - val_loss: 4.8708 - val_accuracy: 0.1748\n",
            "Epoch 29/150\n",
            "125/125 [==============================] - 8s 65ms/step - loss: 4.7989 - accuracy: 0.2527 - val_loss: 4.8796 - val_accuracy: 0.1518\n",
            "Epoch 30/150\n",
            "125/125 [==============================] - 8s 65ms/step - loss: 4.7880 - accuracy: 0.2643 - val_loss: 4.8662 - val_accuracy: 0.1718\n",
            "Epoch 31/150\n",
            "125/125 [==============================] - 8s 65ms/step - loss: 4.7821 - accuracy: 0.2703 - val_loss: 4.8574 - val_accuracy: 0.1861\n",
            "Epoch 32/150\n",
            "125/125 [==============================] - 8s 65ms/step - loss: 4.7748 - accuracy: 0.2754 - val_loss: 4.8523 - val_accuracy: 0.1907\n",
            "Epoch 33/150\n",
            "125/125 [==============================] - 8s 65ms/step - loss: 4.7709 - accuracy: 0.2754 - val_loss: 4.8472 - val_accuracy: 0.1897\n",
            "Epoch 34/150\n",
            "125/125 [==============================] - 8s 65ms/step - loss: 4.7658 - accuracy: 0.2794 - val_loss: 4.8487 - val_accuracy: 0.1866\n",
            "Epoch 35/150\n",
            "125/125 [==============================] - 8s 65ms/step - loss: 4.7613 - accuracy: 0.2850 - val_loss: 4.8583 - val_accuracy: 0.1794\n",
            "Epoch 36/150\n",
            "125/125 [==============================] - 8s 66ms/step - loss: 4.7557 - accuracy: 0.2892 - val_loss: 4.8433 - val_accuracy: 0.1953\n",
            "Epoch 37/150\n",
            "125/125 [==============================] - 8s 65ms/step - loss: 4.7515 - accuracy: 0.2913 - val_loss: 4.8498 - val_accuracy: 0.1861\n",
            "Epoch 38/150\n",
            "125/125 [==============================] - 8s 65ms/step - loss: 4.7498 - accuracy: 0.2958 - val_loss: 4.8470 - val_accuracy: 0.1897\n",
            "Epoch 39/150\n",
            "125/125 [==============================] - 8s 65ms/step - loss: 4.7421 - accuracy: 0.3031 - val_loss: 4.8352 - val_accuracy: 0.2009\n",
            "Epoch 40/150\n",
            "125/125 [==============================] - 8s 65ms/step - loss: 4.7368 - accuracy: 0.3094 - val_loss: 4.8305 - val_accuracy: 0.2040\n",
            "Epoch 41/150\n",
            "125/125 [==============================] - 8s 65ms/step - loss: 4.7328 - accuracy: 0.3117 - val_loss: 4.8266 - val_accuracy: 0.2096\n",
            "Epoch 42/150\n",
            "125/125 [==============================] - 8s 65ms/step - loss: 4.7277 - accuracy: 0.3159 - val_loss: 4.8256 - val_accuracy: 0.2152\n",
            "Epoch 43/150\n",
            "125/125 [==============================] - 8s 65ms/step - loss: 4.7230 - accuracy: 0.3195 - val_loss: 4.8167 - val_accuracy: 0.2198\n",
            "Epoch 44/150\n",
            "125/125 [==============================] - 8s 65ms/step - loss: 4.7170 - accuracy: 0.3245 - val_loss: 4.8175 - val_accuracy: 0.2203\n",
            "Epoch 45/150\n",
            "125/125 [==============================] - 8s 65ms/step - loss: 4.7144 - accuracy: 0.3303 - val_loss: 4.8138 - val_accuracy: 0.2255\n",
            "Epoch 46/150\n",
            "125/125 [==============================] - 8s 65ms/step - loss: 4.7106 - accuracy: 0.3353 - val_loss: 4.8121 - val_accuracy: 0.2249\n",
            "Epoch 47/150\n",
            "125/125 [==============================] - 8s 65ms/step - loss: 4.7001 - accuracy: 0.3457 - val_loss: 4.8210 - val_accuracy: 0.2173\n",
            "Epoch 48/150\n",
            "125/125 [==============================] - 8s 65ms/step - loss: 4.6986 - accuracy: 0.3547 - val_loss: 4.8005 - val_accuracy: 0.2393\n",
            "Epoch 49/150\n",
            "125/125 [==============================] - 8s 65ms/step - loss: 4.6919 - accuracy: 0.3583 - val_loss: 4.8062 - val_accuracy: 0.2372\n",
            "Epoch 50/150\n",
            "125/125 [==============================] - 8s 65ms/step - loss: 4.6854 - accuracy: 0.3671 - val_loss: 4.7919 - val_accuracy: 0.2520\n",
            "Epoch 51/150\n",
            "125/125 [==============================] - 8s 65ms/step - loss: 4.6774 - accuracy: 0.3744 - val_loss: 4.7793 - val_accuracy: 0.2587\n",
            "Epoch 52/150\n",
            "125/125 [==============================] - 8s 65ms/step - loss: 4.7236 - accuracy: 0.3308 - val_loss: 4.7871 - val_accuracy: 0.2551\n",
            "Epoch 53/150\n",
            "125/125 [==============================] - 8s 66ms/step - loss: 4.6639 - accuracy: 0.3888 - val_loss: 4.7676 - val_accuracy: 0.2791\n",
            "Epoch 54/150\n",
            "125/125 [==============================] - 8s 65ms/step - loss: 4.6625 - accuracy: 0.3895 - val_loss: 4.7712 - val_accuracy: 0.2822\n",
            "Epoch 55/150\n",
            "125/125 [==============================] - 8s 66ms/step - loss: 4.6512 - accuracy: 0.4016 - val_loss: 4.7580 - val_accuracy: 0.2878\n",
            "Epoch 56/150\n",
            "125/125 [==============================] - 8s 65ms/step - loss: 4.6478 - accuracy: 0.4054 - val_loss: 4.7561 - val_accuracy: 0.2899\n",
            "Epoch 57/150\n",
            "125/125 [==============================] - 8s 66ms/step - loss: 4.6386 - accuracy: 0.4150 - val_loss: 4.7448 - val_accuracy: 0.3032\n",
            "Epoch 58/150\n",
            "125/125 [==============================] - 8s 65ms/step - loss: 4.6340 - accuracy: 0.4165 - val_loss: 4.7514 - val_accuracy: 0.2919\n",
            "Epoch 59/150\n",
            "125/125 [==============================] - 8s 65ms/step - loss: 4.6280 - accuracy: 0.4223 - val_loss: 4.7574 - val_accuracy: 0.2914\n",
            "Epoch 60/150\n",
            "125/125 [==============================] - 8s 65ms/step - loss: 4.6264 - accuracy: 0.4228 - val_loss: 4.7458 - val_accuracy: 0.3011\n",
            "Epoch 61/150\n",
            "125/125 [==============================] - 8s 65ms/step - loss: 4.6221 - accuracy: 0.4261 - val_loss: 4.7506 - val_accuracy: 0.3011\n",
            "Epoch 62/150\n",
            "125/125 [==============================] - 8s 65ms/step - loss: 4.6185 - accuracy: 0.4311 - val_loss: 4.7455 - val_accuracy: 0.2955\n",
            "Epoch 63/150\n",
            "125/125 [==============================] - 8s 65ms/step - loss: 4.6162 - accuracy: 0.4318 - val_loss: 4.7621 - val_accuracy: 0.2945\n",
            "Epoch 64/150\n",
            "125/125 [==============================] - 8s 66ms/step - loss: 4.6097 - accuracy: 0.4379 - val_loss: 4.7365 - val_accuracy: 0.3027\n",
            "Epoch 65/150\n",
            "125/125 [==============================] - 8s 66ms/step - loss: 4.6054 - accuracy: 0.4386 - val_loss: 4.7431 - val_accuracy: 0.2970\n",
            "Epoch 66/150\n",
            "125/125 [==============================] - 8s 65ms/step - loss: 4.6045 - accuracy: 0.4419 - val_loss: 4.7516 - val_accuracy: 0.2924\n",
            "Epoch 67/150\n",
            "125/125 [==============================] - 8s 65ms/step - loss: 4.6009 - accuracy: 0.4439 - val_loss: 4.7366 - val_accuracy: 0.3027\n",
            "Epoch 68/150\n",
            "125/125 [==============================] - 8s 65ms/step - loss: 4.5967 - accuracy: 0.4533 - val_loss: 4.7354 - val_accuracy: 0.3067\n",
            "Epoch 69/150\n",
            "125/125 [==============================] - 8s 65ms/step - loss: 4.5909 - accuracy: 0.4555 - val_loss: 4.7325 - val_accuracy: 0.3124\n",
            "Epoch 70/150\n",
            "125/125 [==============================] - 8s 65ms/step - loss: 4.5943 - accuracy: 0.4530 - val_loss: 4.7351 - val_accuracy: 0.3052\n",
            "Epoch 71/150\n",
            "125/125 [==============================] - 8s 65ms/step - loss: 4.5897 - accuracy: 0.4570 - val_loss: 4.7329 - val_accuracy: 0.3093\n",
            "Epoch 72/150\n",
            "125/125 [==============================] - 8s 65ms/step - loss: 4.5875 - accuracy: 0.4623 - val_loss: 4.7196 - val_accuracy: 0.3200\n",
            "Epoch 73/150\n",
            "125/125 [==============================] - 8s 65ms/step - loss: 4.5819 - accuracy: 0.4666 - val_loss: 4.7304 - val_accuracy: 0.3134\n",
            "Epoch 74/150\n",
            "125/125 [==============================] - 8s 66ms/step - loss: 4.5803 - accuracy: 0.4669 - val_loss: 4.7225 - val_accuracy: 0.3241\n",
            "Epoch 75/150\n",
            "125/125 [==============================] - 8s 65ms/step - loss: 4.5734 - accuracy: 0.4744 - val_loss: 4.7386 - val_accuracy: 0.3108\n",
            "Epoch 76/150\n",
            "125/125 [==============================] - 8s 65ms/step - loss: 4.5674 - accuracy: 0.4810 - val_loss: 4.7188 - val_accuracy: 0.3308\n",
            "Epoch 77/150\n",
            "125/125 [==============================] - 8s 65ms/step - loss: 4.5634 - accuracy: 0.4863 - val_loss: 4.7216 - val_accuracy: 0.3298\n",
            "Epoch 78/150\n",
            "125/125 [==============================] - 8s 65ms/step - loss: 4.5545 - accuracy: 0.4989 - val_loss: 4.7020 - val_accuracy: 0.3466\n",
            "Epoch 79/150\n",
            "125/125 [==============================] - 8s 65ms/step - loss: 4.5534 - accuracy: 0.5024 - val_loss: 4.6980 - val_accuracy: 0.3615\n",
            "Epoch 80/150\n",
            "125/125 [==============================] - 8s 65ms/step - loss: 4.5505 - accuracy: 0.5021 - val_loss: 4.6918 - val_accuracy: 0.3594\n",
            "Epoch 81/150\n",
            "125/125 [==============================] - 8s 65ms/step - loss: 4.5411 - accuracy: 0.5160 - val_loss: 4.6956 - val_accuracy: 0.3620\n",
            "Epoch 82/150\n",
            "125/125 [==============================] - 8s 65ms/step - loss: 4.5364 - accuracy: 0.5213 - val_loss: 4.6928 - val_accuracy: 0.3620\n",
            "Epoch 83/150\n",
            "125/125 [==============================] - 8s 66ms/step - loss: 4.5351 - accuracy: 0.5233 - val_loss: 4.6920 - val_accuracy: 0.3671\n",
            "Epoch 84/150\n",
            "125/125 [==============================] - 8s 65ms/step - loss: 4.5270 - accuracy: 0.5271 - val_loss: 4.6937 - val_accuracy: 0.3650\n",
            "Epoch 85/150\n",
            "125/125 [==============================] - 8s 65ms/step - loss: 4.5238 - accuracy: 0.5316 - val_loss: 4.6789 - val_accuracy: 0.3686\n",
            "Epoch 86/150\n",
            "125/125 [==============================] - 8s 65ms/step - loss: 4.5168 - accuracy: 0.5387 - val_loss: 4.6802 - val_accuracy: 0.3768\n",
            "Epoch 87/150\n",
            "125/125 [==============================] - 8s 65ms/step - loss: 4.5153 - accuracy: 0.5384 - val_loss: 4.6880 - val_accuracy: 0.3768\n",
            "Epoch 88/150\n",
            "125/125 [==============================] - 8s 65ms/step - loss: 4.5139 - accuracy: 0.5397 - val_loss: 4.6837 - val_accuracy: 0.3701\n",
            "Epoch 89/150\n",
            "125/125 [==============================] - 8s 65ms/step - loss: 4.5077 - accuracy: 0.5457 - val_loss: 4.6826 - val_accuracy: 0.3701\n",
            "Epoch 90/150\n",
            "125/125 [==============================] - 8s 66ms/step - loss: 4.5054 - accuracy: 0.5455 - val_loss: 4.6825 - val_accuracy: 0.3701\n",
            "Epoch 91/150\n",
            "125/125 [==============================] - 8s 65ms/step - loss: 4.4982 - accuracy: 0.5535 - val_loss: 4.6679 - val_accuracy: 0.3799\n",
            "Epoch 92/150\n",
            "125/125 [==============================] - 8s 65ms/step - loss: 4.4993 - accuracy: 0.5563 - val_loss: 4.6730 - val_accuracy: 0.3793\n",
            "Epoch 93/150\n",
            "125/125 [==============================] - 8s 67ms/step - loss: 4.4914 - accuracy: 0.5616 - val_loss: 4.6765 - val_accuracy: 0.3768\n",
            "Epoch 94/150\n",
            "125/125 [==============================] - 8s 65ms/step - loss: 4.4903 - accuracy: 0.5603 - val_loss: 4.6658 - val_accuracy: 0.3742\n",
            "Epoch 95/150\n",
            "125/125 [==============================] - 8s 65ms/step - loss: 4.4877 - accuracy: 0.5669 - val_loss: 4.6778 - val_accuracy: 0.3829\n",
            "Epoch 96/150\n",
            "125/125 [==============================] - 8s 65ms/step - loss: 4.4846 - accuracy: 0.5679 - val_loss: 4.6689 - val_accuracy: 0.3804\n",
            "Epoch 97/150\n",
            "125/125 [==============================] - 8s 65ms/step - loss: 4.4805 - accuracy: 0.5702 - val_loss: 4.6607 - val_accuracy: 0.3926\n",
            "Epoch 98/150\n",
            "125/125 [==============================] - 8s 65ms/step - loss: 4.4805 - accuracy: 0.5699 - val_loss: 4.6715 - val_accuracy: 0.3834\n",
            "Epoch 99/150\n",
            "125/125 [==============================] - 8s 65ms/step - loss: 4.4769 - accuracy: 0.5752 - val_loss: 4.6628 - val_accuracy: 0.3972\n",
            "Epoch 100/150\n",
            "125/125 [==============================] - 8s 65ms/step - loss: 4.4774 - accuracy: 0.5775 - val_loss: 4.6508 - val_accuracy: 0.4059\n",
            "Epoch 101/150\n",
            "125/125 [==============================] - 8s 65ms/step - loss: 4.4720 - accuracy: 0.5767 - val_loss: 4.6630 - val_accuracy: 0.3880\n",
            "Epoch 102/150\n",
            "125/125 [==============================] - 8s 65ms/step - loss: 4.4689 - accuracy: 0.5850 - val_loss: 4.6483 - val_accuracy: 0.4049\n",
            "Epoch 103/150\n",
            "125/125 [==============================] - 8s 65ms/step - loss: 4.4686 - accuracy: 0.5838 - val_loss: 4.6603 - val_accuracy: 0.4049\n",
            "Epoch 104/150\n",
            "125/125 [==============================] - 8s 65ms/step - loss: 4.4604 - accuracy: 0.5926 - val_loss: 4.6658 - val_accuracy: 0.3942\n",
            "Epoch 105/150\n",
            "125/125 [==============================] - 8s 65ms/step - loss: 4.4581 - accuracy: 0.5969 - val_loss: 4.6576 - val_accuracy: 0.4075\n",
            "Epoch 106/150\n",
            "125/125 [==============================] - 8s 65ms/step - loss: 4.4560 - accuracy: 0.5964 - val_loss: 4.6521 - val_accuracy: 0.4049\n",
            "Epoch 107/150\n",
            "125/125 [==============================] - 8s 65ms/step - loss: 4.4573 - accuracy: 0.5936 - val_loss: 4.6597 - val_accuracy: 0.4064\n",
            "Epoch 108/150\n",
            "125/125 [==============================] - 8s 65ms/step - loss: 4.4486 - accuracy: 0.6052 - val_loss: 4.6602 - val_accuracy: 0.3998\n",
            "Epoch 109/150\n",
            "125/125 [==============================] - 8s 65ms/step - loss: 4.4530 - accuracy: 0.6022 - val_loss: 4.6663 - val_accuracy: 0.4008\n",
            "Epoch 110/150\n",
            "125/125 [==============================] - 8s 65ms/step - loss: 4.4426 - accuracy: 0.6133 - val_loss: 4.6304 - val_accuracy: 0.4254\n",
            "Epoch 111/150\n",
            "125/125 [==============================] - 9s 68ms/step - loss: 4.4423 - accuracy: 0.6143 - val_loss: 4.6322 - val_accuracy: 0.4259\n",
            "Epoch 112/150\n",
            "125/125 [==============================] - 8s 65ms/step - loss: 4.4348 - accuracy: 0.6241 - val_loss: 4.6325 - val_accuracy: 0.4228\n",
            "Epoch 113/150\n",
            "125/125 [==============================] - 8s 65ms/step - loss: 4.4331 - accuracy: 0.6221 - val_loss: 4.6512 - val_accuracy: 0.4090\n",
            "Epoch 114/150\n",
            "125/125 [==============================] - 8s 65ms/step - loss: 4.4304 - accuracy: 0.6271 - val_loss: 4.6413 - val_accuracy: 0.4238\n",
            "Epoch 115/150\n",
            "125/125 [==============================] - 8s 65ms/step - loss: 4.4277 - accuracy: 0.6291 - val_loss: 4.6395 - val_accuracy: 0.4310\n",
            "Epoch 116/150\n",
            "125/125 [==============================] - 8s 66ms/step - loss: 4.4221 - accuracy: 0.6316 - val_loss: 4.6462 - val_accuracy: 0.4192\n",
            "Epoch 117/150\n",
            "125/125 [==============================] - 8s 65ms/step - loss: 4.4216 - accuracy: 0.6304 - val_loss: 4.6543 - val_accuracy: 0.4136\n",
            "Epoch 118/150\n",
            "125/125 [==============================] - 8s 65ms/step - loss: 4.4171 - accuracy: 0.6349 - val_loss: 4.6480 - val_accuracy: 0.4197\n",
            "Epoch 119/150\n",
            "125/125 [==============================] - 8s 65ms/step - loss: 4.4169 - accuracy: 0.6390 - val_loss: 4.6223 - val_accuracy: 0.4397\n",
            "Epoch 120/150\n",
            "125/125 [==============================] - 9s 70ms/step - loss: 4.4123 - accuracy: 0.6367 - val_loss: 4.6192 - val_accuracy: 0.4335\n",
            "Epoch 121/150\n",
            "125/125 [==============================] - 8s 65ms/step - loss: 4.4133 - accuracy: 0.6400 - val_loss: 4.6208 - val_accuracy: 0.4325\n",
            "Epoch 122/150\n",
            "125/125 [==============================] - 8s 66ms/step - loss: 4.4124 - accuracy: 0.6392 - val_loss: 4.6269 - val_accuracy: 0.4305\n",
            "Epoch 123/150\n",
            "125/125 [==============================] - 8s 65ms/step - loss: 4.4066 - accuracy: 0.6463 - val_loss: 4.6199 - val_accuracy: 0.4315\n",
            "Epoch 124/150\n",
            "125/125 [==============================] - 8s 65ms/step - loss: 4.4093 - accuracy: 0.6440 - val_loss: 4.6245 - val_accuracy: 0.4351\n",
            "Epoch 125/150\n",
            "125/125 [==============================] - 8s 65ms/step - loss: 4.4021 - accuracy: 0.6485 - val_loss: 4.6218 - val_accuracy: 0.4381\n",
            "Epoch 126/150\n",
            "125/125 [==============================] - 8s 65ms/step - loss: 4.4018 - accuracy: 0.6503 - val_loss: 4.6208 - val_accuracy: 0.4346\n",
            "Epoch 127/150\n",
            "125/125 [==============================] - 8s 65ms/step - loss: 4.3985 - accuracy: 0.6488 - val_loss: 4.6240 - val_accuracy: 0.4397\n",
            "Epoch 128/150\n",
            "125/125 [==============================] - 8s 66ms/step - loss: 4.3977 - accuracy: 0.6513 - val_loss: 4.6048 - val_accuracy: 0.4555\n",
            "Epoch 129/150\n",
            "125/125 [==============================] - 8s 67ms/step - loss: 4.3942 - accuracy: 0.6551 - val_loss: 4.6120 - val_accuracy: 0.4463\n",
            "Epoch 130/150\n",
            "125/125 [==============================] - 8s 67ms/step - loss: 4.3920 - accuracy: 0.6606 - val_loss: 4.6218 - val_accuracy: 0.4422\n",
            "Epoch 131/150\n",
            "125/125 [==============================] - 8s 65ms/step - loss: 4.3835 - accuracy: 0.6687 - val_loss: 4.6004 - val_accuracy: 0.4601\n",
            "Epoch 132/150\n",
            "125/125 [==============================] - 8s 65ms/step - loss: 4.3855 - accuracy: 0.6704 - val_loss: 4.6073 - val_accuracy: 0.4499\n",
            "Epoch 133/150\n",
            "125/125 [==============================] - 8s 66ms/step - loss: 4.3835 - accuracy: 0.6684 - val_loss: 4.6024 - val_accuracy: 0.4519\n",
            "Epoch 134/150\n",
            "125/125 [==============================] - 8s 66ms/step - loss: 4.3792 - accuracy: 0.6750 - val_loss: 4.6100 - val_accuracy: 0.4458\n",
            "Epoch 135/150\n",
            "125/125 [==============================] - 8s 65ms/step - loss: 4.3721 - accuracy: 0.6853 - val_loss: 4.6172 - val_accuracy: 0.4519\n",
            "Epoch 136/150\n",
            "125/125 [==============================] - 8s 65ms/step - loss: 4.3726 - accuracy: 0.6813 - val_loss: 4.5927 - val_accuracy: 0.4698\n",
            "Epoch 137/150\n",
            "125/125 [==============================] - 8s 65ms/step - loss: 4.3740 - accuracy: 0.6788 - val_loss: 4.6049 - val_accuracy: 0.4637\n",
            "Epoch 138/150\n",
            "125/125 [==============================] - 8s 65ms/step - loss: 4.3706 - accuracy: 0.6856 - val_loss: 4.5951 - val_accuracy: 0.4642\n",
            "Epoch 139/150\n",
            "125/125 [==============================] - 8s 65ms/step - loss: 4.3697 - accuracy: 0.6878 - val_loss: 4.5931 - val_accuracy: 0.4678\n",
            "Epoch 140/150\n",
            "125/125 [==============================] - 8s 66ms/step - loss: 4.3640 - accuracy: 0.6956 - val_loss: 4.5961 - val_accuracy: 0.4744\n",
            "Epoch 141/150\n",
            "125/125 [==============================] - 8s 65ms/step - loss: 4.3642 - accuracy: 0.6939 - val_loss: 4.6045 - val_accuracy: 0.4601\n",
            "Epoch 142/150\n",
            "125/125 [==============================] - 8s 66ms/step - loss: 4.3568 - accuracy: 0.7007 - val_loss: 4.5971 - val_accuracy: 0.4627\n",
            "Epoch 143/150\n",
            "125/125 [==============================] - 8s 66ms/step - loss: 4.3546 - accuracy: 0.6999 - val_loss: 4.5934 - val_accuracy: 0.4749\n",
            "Epoch 144/150\n",
            "125/125 [==============================] - 8s 65ms/step - loss: 4.3519 - accuracy: 0.7040 - val_loss: 4.5851 - val_accuracy: 0.4826\n",
            "Epoch 145/150\n",
            "125/125 [==============================] - 8s 66ms/step - loss: 4.3492 - accuracy: 0.7070 - val_loss: 4.6134 - val_accuracy: 0.4601\n",
            "Epoch 146/150\n",
            "125/125 [==============================] - 8s 66ms/step - loss: 4.3492 - accuracy: 0.7029 - val_loss: 4.5873 - val_accuracy: 0.4816\n",
            "Epoch 147/150\n",
            "125/125 [==============================] - 8s 65ms/step - loss: 4.3461 - accuracy: 0.7105 - val_loss: 4.6066 - val_accuracy: 0.4709\n",
            "Epoch 148/150\n",
            "125/125 [==============================] - 8s 68ms/step - loss: 4.3440 - accuracy: 0.7110 - val_loss: 4.5879 - val_accuracy: 0.4888\n",
            "Epoch 149/150\n",
            "125/125 [==============================] - 8s 66ms/step - loss: 4.3421 - accuracy: 0.7163 - val_loss: 4.5828 - val_accuracy: 0.4918\n",
            "Epoch 150/150\n",
            "125/125 [==============================] - 8s 65ms/step - loss: 4.3376 - accuracy: 0.7186 - val_loss: 4.5724 - val_accuracy: 0.4969\n"
          ],
          "name": "stdout"
        }
      ]
    },
    {
      "cell_type": "markdown",
      "metadata": {
        "id": "OH3ZtTEgZeo_",
        "colab_type": "text"
      },
      "source": [
        "Evaluation on Test Set"
      ]
    },
    {
      "cell_type": "code",
      "metadata": {
        "id": "Mvkhj1ZxZvuH",
        "colab_type": "code",
        "outputId": "85c98381-9f49-49b4-ada9-d74268a3bf71",
        "colab": {
          "base_uri": "https://localhost:8080/",
          "height": 51
        }
      },
      "source": [
        "loss, accuracy = model.evaluate(test_images, test_labels)\n",
        "\n",
        "print(\"Test Loss:%.4f, Accuracy: %.4f\" %(loss,accuracy))"
      ],
      "execution_count": 11,
      "outputs": [
        {
          "output_type": "stream",
          "text": [
            "24/24 [==============================] - 1s 23ms/step - loss: 4.5863 - accuracy: 0.4693\n",
            "Test Loss:4.5863, Accuracy: 0.4693\n"
          ],
          "name": "stdout"
        }
      ]
    },
    {
      "cell_type": "markdown",
      "metadata": {
        "id": "JxGIakJEacMT",
        "colab_type": "text"
      },
      "source": [
        "Plot for Statistics"
      ]
    },
    {
      "cell_type": "code",
      "metadata": {
        "id": "Cux-SW4uad4u",
        "colab_type": "code",
        "outputId": "3d65623a-7a7b-4f5a-af19-da4b5ac41e97",
        "colab": {
          "base_uri": "https://localhost:8080/",
          "height": 281
        }
      },
      "source": [
        "plt.subplot(211)\n",
        "plt.title('Loss')\n",
        "plt.plot(history.history['loss'], label='train')\n",
        "plt.plot(history.history['val_loss'], label='valid')\n",
        "plt.legend()\n",
        "\n",
        "plt.subplot(212)\n",
        "plt.title('Accuracy')\n",
        "plt.plot(history.history['accuracy'], label='train')\n",
        "plt.plot(history.history['val_accuracy'], label='valid')\n",
        "plt.legend()\n",
        "plt.show()"
      ],
      "execution_count": 12,
      "outputs": [
        {
          "output_type": "display_data",
          "data": {
            "image/png": "[encoded data removed]",
            "text/plain": [
              "<Figure size 432x288 with 2 Axes>"
            ]
          },
          "metadata": {
            "tags": [],
            "needs_background": "light"
          }
        }
      ]
    }
  ]
}